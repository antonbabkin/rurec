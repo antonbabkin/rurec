{
 "cells": [
  {
   "cell_type": "markdown",
   "metadata": {},
   "source": [
    "# Rural economy\n",
    "\n",
    "> Exploring economic dynamics in rural areas of the United States."
   ]
  },
  {
   "cell_type": "markdown",
   "metadata": {},
   "source": [
    "## Research team\n",
    "\n",
    "- Anton Babkin (UConn)\n",
    "- Richard A. Dunn (UConn)\n",
    "- Brent Hueth (UW-Madison)\n",
    "- Thomas Flory (UW-Madison)"
   ]
  },
  {
   "cell_type": "markdown",
   "metadata": {},
   "source": [
    "## Installation\n",
    "\n",
    "1. Clone this git project.\n",
    "2. Create and activate conda environment from `environment.yml` file.\n",
    "3. Pull resources from shared repository."
   ]
  },
  {
   "cell_type": "markdown",
   "metadata": {},
   "source": [
    "# Project structure\n",
    "\n",
    "- InfoGroup preparation: validate, clean, convert\n",
    "- ERS codes preparation: download, combine, format\n",
    "  - Other geo codes will be added as well\n",
    "- Rurality: merge ERS codes into InfoGroup\n",
    "- Dynamics: summary statistics by geography"
   ]
  },
  {
   "cell_type": "markdown",
   "metadata": {},
   "source": [
    "## Resource repository"
   ]
  },
  {
   "cell_type": "markdown",
   "metadata": {},
   "source": [
    "### List of registered resources"
   ]
  },
  {
   "cell_type": "code",
   "execution_count": null,
   "metadata": {},
   "outputs": [],
   "source": [
    "from rurec import resources\n",
    "\n",
    "for r in resources.get():\n",
    "    print(f'{r.key:30}{r.description}')"
   ]
  },
  {
   "cell_type": "markdown",
   "metadata": {},
   "source": [
    "### Pull everything"
   ]
  },
  {
   "cell_type": "code",
   "execution_count": null,
   "metadata": {},
   "outputs": [],
   "source": [
    "resources.pull()"
   ]
  },
  {
   "cell_type": "markdown",
   "metadata": {},
   "source": [
    "### Push everything"
   ]
  },
  {
   "cell_type": "code",
   "execution_count": null,
   "metadata": {},
   "outputs": [],
   "source": [
    "resources.push()"
   ]
  }
 ],
 "metadata": {
  "kernelspec": {
   "display_name": "Python 3",
   "language": "python",
   "name": "python3"
  }
 },
 "nbformat": 4,
 "nbformat_minor": 4
}
