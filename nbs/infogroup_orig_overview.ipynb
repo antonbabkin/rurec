{
 "cells": [
  {
   "cell_type": "markdown",
   "metadata": {},
   "source": [
    "# Overview of original InfoGroup data\n",
    "\n",
    "> Variable definitions and summary statistics by year.\n",
    "\n",
    "Missing counts are reported as captured by `isna()` method. This will include empty strings from raw CSV for string dtype.\n",
    "\n",
    "Some variables also have a special value such as \"000\" which is reported separately. These special values are not documented, and so are discovered by inspection."
   ]
  },
  {
   "cell_type": "markdown",
   "metadata": {},
   "source": [
    "### Location and Rurality Measures\n",
    "\n",
    "##### Address Line 1\n",
    "The street address, name and number.\n",
    "    \n",
    "##### City\n",
    "The name of the city as a text string.\n",
    "    \n",
    "##### County Code\n",
    "The 3-digit FIPS code identifying a county uniquely within a state.\n",
    "    \n",
    "##### FIPS Code\n",
    "The 5-digit FIPS code identifying a county uniquely within the U.S., the first two digits\n",
    "corrected by reference to the 'state_fips' dictionary below/\n",
    "    \n",
    "##### State\n",
    "The 2-character postal state name abbreviation. InfoGroup does not include the 2-digit state \n",
    "FIPS code.\n",
    "\n",
    "##### State Code\n",
    "The FIPS state code as 2-digit number string. This is created from the 'state_fips' dictionary \n",
    "below in the process of correcting the 5-digit 'FIPS Code' variable.\n",
    "    \n",
    "##### ZipCode\n",
    "The 5-digit postal zip code. <span style=\"color:#fc3d03\">Postal Zip codes can cross county \n",
    "and state boundaries.</span>\n",
    "    \n",
    "##### Zip4\n",
    "The 4-digit add-on to the postal zip code.\n",
    "    \n",
    "##### Area Code\n",
    "The 3-digit telephone area code. <span style=\"color:#fc3d03\">Area codes do not cross state \n",
    "boundaries.</span>\n",
    "    \n",
    "##### Census Tract\n",
    "##### Census Block\n",
    "<span style=\"color:#fc3d03\">Tracts are contained within a county, blocks within a tract.\n",
    "Tracts and blocks do not necessarily respect other political boundaries.</span> \n",
    "'Census Tract' is a 6-digit numeric string identifying the tract as unique within a county. \n",
    "'Census Block' is a 3-digit numeric string that is unique within a tract.\n",
    "\n",
    "Census tracts and blocks are subject to revision every ten years.\n",
    "\n",
    "##### Full Census Tract\n",
    "This variable is created out of the state, county, and census tract identifiers included\n",
    "in the InfoGroup file and the 'state_fips' dictionary, resulting in an 11-digit numeric \n",
    "string that identifies a census tract uniquely within the country.\n",
    "\n",
    "##### Latitude\n",
    "##### Longitude\n",
    "Imputed presumably from a sufficient combination of the locational variables above."
   ]
  },
  {
   "cell_type": "code",
   "execution_count": null,
   "metadata": {},
   "outputs": [],
   "source": [
    "#hide\n",
    "import pandas as pd\n",
    "from joblib import Memory\n",
    "\n",
    "from rurec import resources\n",
    "from rurec.resources import Resource\n",
    "from rurec import util\n",
    "\n",
    "memory = Memory(resources.paths.cache)\n"
   ]
  },
  {
   "cell_type": "code",
   "execution_count": null,
   "metadata": {},
   "outputs": [],
   "source": [
    "#hide\n",
    "@memory.cache\n",
    "def describe_variable(col, df=None, distribution=False, count_values=[]):\n",
    "    \"\"\"Return summary statistics of `col` for all years of data.\n",
    "\n",
    "    Dataframe is read from disk unless given in `df`.\n",
    "    Distribution moments are reported by setting `distribution` to True.\n",
    "    Counts of values specified in `count_values` are reported.\n",
    "    \"\"\"\n",
    "    \n",
    "    if df is None:\n",
    "        df = get_df(cols=['YEAR', col])\n",
    "        \n",
    "    stats = {}\n",
    "    stats['Total'] = df.groupby('YEAR').size()\n",
    "    stats['Total']['All'] = len(df)\n",
    "    df['__FLAG'] = df[col].notna()\n",
    "    stats['Not missing'] = df.groupby('YEAR')['__FLAG'].sum().astype(int)\n",
    "    stats['Not missing']['All'] = stats['Not missing'].sum()\n",
    "    stats['Missing'] = stats['Total'] - stats['Not missing']\n",
    "    stats['Unique'] = df.groupby('YEAR')[col].nunique()\n",
    "    stats['Unique']['All'] = df[col].nunique()\n",
    "\n",
    "    if distribution:\n",
    "        stats['Min'] = df.groupby('YEAR')[col].min()\n",
    "        stats['Min']['All'] = stats['Min'].min()\n",
    "        stats['Max'] = df.groupby('YEAR')[col].max()\n",
    "        stats['Max']['All'] = stats['Max'].max()\n",
    "        stats['Mean'] = df.groupby('YEAR')[col].mean()\n",
    "        stats['Mean']['All'] = df[col].mean()\n",
    "        stats['s.d.'] = df.groupby('YEAR')[col].std()\n",
    "        stats['s.d.']['All'] = df[col].std()\n",
    "        q = df.groupby('YEAR')[col].quantile([0.25, 0.5, 0.75]).unstack()\n",
    "        qa = df[col].quantile([0.25, 0.5, 0.75])\n",
    "        stats['25%'] = q[0.25]\n",
    "        stats['25%']['All'] = qa[0.25]\n",
    "        stats['50% (median)'] = q[0.5]\n",
    "        stats['50% (median)']['All'] = qa[0.5]\n",
    "        stats['75%'] = q[0.75]\n",
    "        stats['75%']['All'] = qa[0.75]\n",
    "\n",
    "    for val in count_values:\n",
    "        df['__FLAG'] = (df[col] == val)\n",
    "        stats[f'Value \"{val}\"'] = df.groupby('YEAR')['__FLAG'].sum().astype(int)\n",
    "        stats[f'Value \"{val}\"']['All'] = stats[f'Value \"{val}\"'].sum()\n",
    "\n",
    "    return pd.concat(stats, 1)\n",
    "\n",
    "\n",
    "def style(df):\n",
    "    \"\"\"Apply formatting style to summary stats dataframe.\"\"\"\n",
    "\n",
    "    f = {}\n",
    "    int_cols = ['Total', 'Not missing', 'Missing', 'Unique']\n",
    "    int_cols += [c for c in df if c.startswith('Value \"')]\n",
    "    for c in int_cols:\n",
    "        f[c] = '{:,}'\n",
    "    for c in ['Min', 'Max', 'Mean', 's.d.', '25%', '50% (median)', '75%']:\n",
    "        f[c] = '{:,g}'\n",
    "\n",
    "    return df.style.format(f)\n"
   ]
  },
  {
   "cell_type": "markdown",
   "metadata": {},
   "source": [
    "**COMPANY**: Name of business - will have blanks"
   ]
  },
  {
   "cell_type": "code",
   "execution_count": null,
   "metadata": {},
   "outputs": [],
   "source": [
    "#collapse_output\n",
    "style(describe_variable('COMPANY'))"
   ]
  },
  {
   "cell_type": "markdown",
   "metadata": {},
   "source": [
    "**ADDRESS**: Historical address"
   ]
  },
  {
   "cell_type": "code",
   "execution_count": null,
   "metadata": {},
   "outputs": [],
   "source": [
    "#collapse_output\n",
    "style(describe_variable('ADDRESS'))"
   ]
  },
  {
   "cell_type": "markdown",
   "metadata": {},
   "source": [
    "**CITY**: Historical address city"
   ]
  },
  {
   "cell_type": "code",
   "execution_count": null,
   "metadata": {},
   "outputs": [],
   "source": [
    "#collapse_output\n",
    "style(describe_variable('CITY'))"
   ]
  },
  {
   "cell_type": "markdown",
   "metadata": {},
   "source": [
    "**STATE**: Historical address state"
   ]
  },
  {
   "cell_type": "code",
   "execution_count": null,
   "metadata": {},
   "outputs": [],
   "source": [
    "#collapse_output\n",
    "style(describe_variable('STATE', count_values=get_schema('STATE')['enum']))"
   ]
  },
  {
   "cell_type": "markdown",
   "metadata": {},
   "source": [
    "**ZIP**: Historical address zip code"
   ]
  },
  {
   "cell_type": "code",
   "execution_count": null,
   "metadata": {},
   "outputs": [],
   "source": [
    "#collapse_output\n",
    "style(describe_variable('ZIP'))"
   ]
  },
  {
   "cell_type": "markdown",
   "metadata": {},
   "source": [
    "**ZIP4**: Historical address zip code zip + 4"
   ]
  },
  {
   "cell_type": "code",
   "execution_count": null,
   "metadata": {},
   "outputs": [],
   "source": [
    "#collapse_output\n",
    "style(describe_variable('ZIP4'))"
   ]
  },
  {
   "cell_type": "markdown",
   "metadata": {},
   "source": [
    "**COUNTY_CODE**: County code based upon location address/zip4 (postal)"
   ]
  },
  {
   "cell_type": "code",
   "execution_count": null,
   "metadata": {},
   "outputs": [],
   "source": [
    "#collapse_output\n",
    "style(describe_variable('COUNTY_CODE'))"
   ]
  },
  {
   "cell_type": "markdown",
   "metadata": {},
   "source": [
    "**AREA_CODE**: Area code of business"
   ]
  },
  {
   "cell_type": "code",
   "execution_count": null,
   "metadata": {},
   "outputs": [],
   "source": [
    "#collapse_output\n",
    "style(describe_variable('AREA_CODE'))"
   ]
  },
  {
   "cell_type": "markdown",
   "metadata": {},
   "source": [
    "**ID_CODE**: The code that indentifies the yellow page listing is for a business or for an individual.  this field helps clients indentify if the record represents a professional indivisual versus a firm record.  \n",
    "Value labels:  \n",
    "1: Individual  \n",
    "2: Firm  "
   ]
  },
  {
   "cell_type": "code",
   "execution_count": null,
   "metadata": {},
   "outputs": [],
   "source": [
    "#collapse_output\n",
    "style(describe_variable('ID_CODE', count_values=get_schema('ID_CODE')['enum']))"
   ]
  },
  {
   "cell_type": "markdown",
   "metadata": {},
   "source": [
    "**EMPLOYEES_CODE**: Code indicating range of employees at that location  \n",
    "Value labels:  \n",
    "A: 1-4  \n",
    "B: 5-9  \n",
    "C: 10-19  \n",
    "D: 20-49  \n",
    "E: 50-99  \n",
    "F: 100-249  \n",
    "G: 250-499  \n",
    "H: 500-999  \n",
    "I: 1000-4999  \n",
    "J: 5000-9999  \n",
    "K: 10000-  "
   ]
  },
  {
   "cell_type": "code",
   "execution_count": null,
   "metadata": {},
   "outputs": [],
   "source": [
    "#collapse_output\n",
    "style(describe_variable('EMPLOYEES_CODE', count_values=get_schema('EMPLOYEES_CODE')['enum']))"
   ]
  },
  {
   "cell_type": "markdown",
   "metadata": {},
   "source": [
    "**SALES_CODE**: Corporate sales volume code (ranges) represents the total sales company wide  \n",
    "Value labels:  \n",
    "A: 1-499  \n",
    "B: 500-999  \n",
    "C: 1000-2499  \n",
    "D: 2500-4999  \n",
    "E: 5000-9999  \n",
    "F: 10000-19999  \n",
    "G: 20000-49999  \n",
    "H: 50000-99999  \n",
    "I: 100000-499999  \n",
    "J: 500000-999999  \n",
    "K: 1000000+  "
   ]
  },
  {
   "cell_type": "code",
   "execution_count": null,
   "metadata": {},
   "outputs": [],
   "source": [
    "#collapse_output\n",
    "style(describe_variable('SALES_CODE', count_values=get_schema('SALES_CODE')['enum']))"
   ]
  },
  {
   "cell_type": "markdown",
   "metadata": {},
   "source": [
    "**SIC**: This field contains the 6-digit sic code for the business’s primary activity"
   ]
  },
  {
   "cell_type": "code",
   "execution_count": null,
   "metadata": {},
   "outputs": [],
   "source": [
    "#collapse_output\n",
    "style(describe_variable('SIC'))"
   ]
  },
  {
   "cell_type": "markdown",
   "metadata": {},
   "source": [
    "**SIC_DESC**: The desciption for the sic code"
   ]
  },
  {
   "cell_type": "code",
   "execution_count": null,
   "metadata": {},
   "outputs": [],
   "source": [
    "#collapse_output\n",
    "style(describe_variable('SIC_DESC'))"
   ]
  },
  {
   "cell_type": "markdown",
   "metadata": {},
   "source": [
    "**NAICS**: The desciption for the primary naics code"
   ]
  },
  {
   "cell_type": "code",
   "execution_count": null,
   "metadata": {},
   "outputs": [],
   "source": [
    "#collapse_output\n",
    "style(describe_variable('NAICS'))"
   ]
  },
  {
   "cell_type": "markdown",
   "metadata": {},
   "source": [
    "**NAICS_DESC**: The desciption for the naics code"
   ]
  },
  {
   "cell_type": "code",
   "execution_count": null,
   "metadata": {},
   "outputs": [],
   "source": [
    "#collapse_output\n",
    "style(describe_variable('NAICS_DESC'))"
   ]
  },
  {
   "cell_type": "markdown",
   "metadata": {},
   "source": [
    "**SIC0**: A line of business that company engages in"
   ]
  },
  {
   "cell_type": "code",
   "execution_count": null,
   "metadata": {},
   "outputs": [],
   "source": [
    "#collapse_output\n",
    "style(describe_variable('SIC0'))"
   ]
  },
  {
   "cell_type": "markdown",
   "metadata": {},
   "source": [
    "**SIC0_DESC**: The desciption for the sic code"
   ]
  },
  {
   "cell_type": "code",
   "execution_count": null,
   "metadata": {},
   "outputs": [],
   "source": [
    "#collapse_output\n",
    "style(describe_variable('SIC0_DESC'))"
   ]
  },
  {
   "cell_type": "markdown",
   "metadata": {},
   "source": [
    "**SIC1**: This field identifies an additional activity of the business.  if there is no additional activity, this field will be blank."
   ]
  },
  {
   "cell_type": "code",
   "execution_count": null,
   "metadata": {},
   "outputs": [],
   "source": [
    "#collapse_output\n",
    "style(describe_variable('SIC1'))"
   ]
  },
  {
   "cell_type": "markdown",
   "metadata": {},
   "source": [
    "**SIC1_DESC**: The desciption for the secondary sic code"
   ]
  },
  {
   "cell_type": "code",
   "execution_count": null,
   "metadata": {},
   "outputs": [],
   "source": [
    "#collapse_output\n",
    "style(describe_variable('SIC1_DESC'))"
   ]
  },
  {
   "cell_type": "markdown",
   "metadata": {},
   "source": [
    "**SIC2**: This field identifies an additional activity of the business.  if there is no additional activity, this field will be blank."
   ]
  },
  {
   "cell_type": "code",
   "execution_count": null,
   "metadata": {},
   "outputs": [],
   "source": [
    "#collapse_output\n",
    "style(describe_variable('SIC2'))"
   ]
  },
  {
   "cell_type": "markdown",
   "metadata": {},
   "source": [
    "**SIC2_DESC**: The desciption for the secondary sic code"
   ]
  },
  {
   "cell_type": "code",
   "execution_count": null,
   "metadata": {},
   "outputs": [],
   "source": [
    "#collapse_output\n",
    "style(describe_variable('SIC2_DESC'))"
   ]
  },
  {
   "cell_type": "markdown",
   "metadata": {},
   "source": [
    "**SIC3**: This field identifies an additional activity of the business.  if there is no additional activity, this field will be blank."
   ]
  },
  {
   "cell_type": "code",
   "execution_count": null,
   "metadata": {},
   "outputs": [],
   "source": [
    "#collapse_output\n",
    "style(describe_variable('SIC3'))"
   ]
  },
  {
   "cell_type": "markdown",
   "metadata": {},
   "source": [
    "**SIC3_DESC**: The desciption for the secondary sic code"
   ]
  },
  {
   "cell_type": "code",
   "execution_count": null,
   "metadata": {},
   "outputs": [],
   "source": [
    "#collapse_output\n",
    "style(describe_variable('SIC3_DESC'))"
   ]
  },
  {
   "cell_type": "markdown",
   "metadata": {},
   "source": [
    "**SIC4**: This field identifies an additional activity of the business.  if there is no additional activity, this field will be blank."
   ]
  },
  {
   "cell_type": "code",
   "execution_count": null,
   "metadata": {},
   "outputs": [],
   "source": [
    "#collapse_output\n",
    "style(describe_variable('SIC4'))"
   ]
  },
  {
   "cell_type": "markdown",
   "metadata": {},
   "source": [
    "**SIC4_DESC**: The desciption for the secondary sic code"
   ]
  },
  {
   "cell_type": "code",
   "execution_count": null,
   "metadata": {},
   "outputs": [],
   "source": [
    "#collapse_output\n",
    "style(describe_variable('SIC4_DESC'))"
   ]
  },
  {
   "cell_type": "markdown",
   "metadata": {},
   "source": [
    "**YEAR**: Year of data"
   ]
  },
  {
   "cell_type": "code",
   "execution_count": null,
   "metadata": {},
   "outputs": [],
   "source": [
    "#collapse_output\n",
    "style(describe_variable('YEAR'))"
   ]
  },
  {
   "cell_type": "markdown",
   "metadata": {},
   "source": [
    "**YP_CODE**: A numeric value assigned to yellow page heading for the sic"
   ]
  },
  {
   "cell_type": "code",
   "execution_count": null,
   "metadata": {},
   "outputs": [],
   "source": [
    "#collapse_output\n",
    "style(describe_variable('YP_CODE'))"
   ]
  },
  {
   "cell_type": "markdown",
   "metadata": {},
   "source": [
    "**EMPLOYEES**: Number of employees at that location, could be modeled"
   ]
  },
  {
   "cell_type": "code",
   "execution_count": null,
   "metadata": {},
   "outputs": [],
   "source": [
    "#collapse_output\n",
    "style(describe_variable('EMPLOYEES', distribution=True, count_values=[1]))"
   ]
  },
  {
   "cell_type": "markdown",
   "metadata": {},
   "source": [
    "**SALES**: Sales volume at that location (in thousands)"
   ]
  },
  {
   "cell_type": "code",
   "execution_count": null,
   "metadata": {},
   "outputs": [],
   "source": [
    "#collapse_output\n",
    "style(describe_variable('SALES', distribution=True))"
   ]
  },
  {
   "cell_type": "markdown",
   "metadata": {},
   "source": [
    "**BUSINESS_STATUS**: Indicates if record is hq, sub, or branch  \n",
    "Value labels:  \n",
    "1: headquarters  \n",
    "2: branch  \n",
    "3: subsidiary  \n",
    "9: standalone  "
   ]
  },
  {
   "cell_type": "code",
   "execution_count": null,
   "metadata": {},
   "outputs": [],
   "source": [
    "#collapse_output\n",
    "style(describe_variable('BUSINESS_STATUS', count_values=get_schema('BUSINESS_STATUS')['enum']))"
   ]
  },
  {
   "cell_type": "markdown",
   "metadata": {},
   "source": [
    "**IND_BYTE**: Contains \"number of\" info.  (# beds for nursing homes, # rooms for hotels)"
   ]
  },
  {
   "cell_type": "code",
   "execution_count": null,
   "metadata": {},
   "outputs": [],
   "source": [
    "#collapse_output\n",
    "style(describe_variable('IND_BYTE'))"
   ]
  },
  {
   "cell_type": "markdown",
   "metadata": {},
   "source": [
    "**YEAR_EST**: Year the business began operating"
   ]
  },
  {
   "cell_type": "code",
   "execution_count": null,
   "metadata": {},
   "outputs": [],
   "source": [
    "#collapse_output\n",
    "style(describe_variable('YEAR_EST'))"
   ]
  },
  {
   "cell_type": "markdown",
   "metadata": {},
   "source": [
    "**OFFICE_SIZE_CODE**: Number of professionals per office with the same phone number  \n",
    "Value labels:  \n",
    "A: 1  \n",
    "B: 2  \n",
    "C: 3  \n",
    "D: 4  \n",
    "E: 5-9  \n",
    "F: 10+  "
   ]
  },
  {
   "cell_type": "code",
   "execution_count": null,
   "metadata": {},
   "outputs": [],
   "source": [
    "#collapse_output\n",
    "style(describe_variable('OFFICE_SIZE_CODE', count_values=get_schema('OFFICE_SIZE_CODE')['enum']))"
   ]
  },
  {
   "cell_type": "markdown",
   "metadata": {},
   "source": [
    "**HOLDING_STATUS**: Indicates if company is a public company, private company, or a branch"
   ]
  },
  {
   "cell_type": "code",
   "execution_count": null,
   "metadata": {},
   "outputs": [],
   "source": [
    "#collapse_output\n",
    "style(describe_variable('HOLDING_STATUS', count_values=get_schema('HOLDING_STATUS')['enum']))"
   ]
  },
  {
   "cell_type": "markdown",
   "metadata": {},
   "source": [
    "**ABI**: Also known as iusa number, abi number, infogroup number or location number, this provides a unique identifier for each business in the infogroup business database"
   ]
  },
  {
   "cell_type": "code",
   "execution_count": null,
   "metadata": {},
   "outputs": [],
   "source": [
    "#collapse_output\n",
    "style(describe_variable('ABI'))"
   ]
  },
  {
   "cell_type": "markdown",
   "metadata": {},
   "source": [
    "**SUBSIDIARY_NUMBER**: The subsidiary parent number identifies the business as a regional or subsidiary headquarters for a corporate family. the subsidiary will always have a parent and may or may not have branches assigned to it."
   ]
  },
  {
   "cell_type": "code",
   "execution_count": null,
   "metadata": {},
   "outputs": [],
   "source": [
    "#collapse_output\n",
    "style(describe_variable('SUBSIDIARY_NUMBER'))"
   ]
  },
  {
   "cell_type": "markdown",
   "metadata": {},
   "source": [
    "**PARENT_NUMBER**: The parent number identifies the corporate parent of the business and also serves as the abi number for the headquarters site of the parent.  since all location of a business have the same ultimate parent number, this field provides ‘corporate ownwership’ linkage infomration.  this iinformation is not collected or maintained for the types organiation for wich ownership is ambiguous.  churches and schools, in particular, are not linked in the file for this reason"
   ]
  },
  {
   "cell_type": "code",
   "execution_count": null,
   "metadata": {},
   "outputs": [],
   "source": [
    "#collapse_output\n",
    "style(describe_variable('PARENT_NUMBER'))"
   ]
  },
  {
   "cell_type": "markdown",
   "metadata": {},
   "source": [
    "**PARENT_EMPLOYEES**: Parent actual employee size refers to the parent abi record only"
   ]
  },
  {
   "cell_type": "code",
   "execution_count": null,
   "metadata": {},
   "outputs": [],
   "source": [
    "#collapse_output\n",
    "style(describe_variable('PARENT_EMPLOYEES', distribution=True))"
   ]
  },
  {
   "cell_type": "markdown",
   "metadata": {},
   "source": [
    "**PARENT_SALES**: Parent actual sales refers to the parent abi record only"
   ]
  },
  {
   "cell_type": "code",
   "execution_count": null,
   "metadata": {},
   "outputs": [],
   "source": [
    "#collapse_output\n",
    "style(describe_variable('PARENT_SALES', distribution=True))"
   ]
  },
  {
   "cell_type": "markdown",
   "metadata": {},
   "source": [
    "**PARENT_EMPLOYEES_CODE**: Parent employee code refers to the parent abi record only  \n",
    "Value labels:  \n",
    "A: 1-4  \n",
    "B: 5-9  \n",
    "C: 10-19  \n",
    "D: 20-49  \n",
    "E: 50-99  \n",
    "F: 100-249  \n",
    "G: 250-499  \n",
    "H: 500-999  \n",
    "I: 1000-4999  \n",
    "J: 5000-9999  \n",
    "K: 10000-  "
   ]
  },
  {
   "cell_type": "code",
   "execution_count": null,
   "metadata": {},
   "outputs": [],
   "source": [
    "#collapse_output\n",
    "style(describe_variable('PARENT_EMPLOYEES_CODE', count_values=get_schema('PARENT_EMPLOYEES_CODE')['enum']))"
   ]
  },
  {
   "cell_type": "markdown",
   "metadata": {},
   "source": [
    "**PARENT_SALES_CODE**: Parent sales code refers to the parent abi records only  \n",
    "Value labels:  \n",
    "A: 1-499  \n",
    "B: 500-999  \n",
    "C: 1000-2499  \n",
    "D: 2500-4999  \n",
    "E: 5000-9999  \n",
    "F: 10000-19999  \n",
    "G: 20000-49999  \n",
    "H: 50000-99999  \n",
    "I: 100000-499999  \n",
    "J: 500000-999999  \n",
    "K: 1000000+"
   ]
  },
  {
   "cell_type": "code",
   "execution_count": null,
   "metadata": {},
   "outputs": [],
   "source": [
    "#collapse_output\n",
    "style(describe_variable('PARENT_SALES_CODE', count_values=get_schema('PARENT_SALES_CODE')['enum']))"
   ]
  },
  {
   "cell_type": "markdown",
   "metadata": {},
   "source": [
    "**SITE_NUMBER**: Designates related business at one site, identifying the primary business.  if abi# and site# are the same, then the record is primary business at the site.  if abi# and site# are different, then the record is a secondary business at the site.  determined through relationships between multiple data elements."
   ]
  },
  {
   "cell_type": "code",
   "execution_count": null,
   "metadata": {},
   "outputs": [],
   "source": [
    "#collapse_output\n",
    "style(describe_variable('SITE_NUMBER'))"
   ]
  },
  {
   "cell_type": "markdown",
   "metadata": {},
   "source": [
    "**ADDRESS_TYPE**: Indicates if type of address  \n",
    "Value labels:  \n",
    "F: Firm  \n",
    "G: General delivery  \n",
    "H: High-rise  \n",
    "M: Military  \n",
    "P: Post office box  \n",
    "R: Rural route or hwy contract  \n",
    "S: Street  \n",
    "N: Unknown  \n",
    ": No match to Zip4"
   ]
  },
  {
   "cell_type": "code",
   "execution_count": null,
   "metadata": {},
   "outputs": [],
   "source": [
    "#collapse_output\n",
    "style(describe_variable('ADDRESS_TYPE', count_values=get_schema('ADDRESS_TYPE')['enum']))"
   ]
  },
  {
   "cell_type": "markdown",
   "metadata": {},
   "source": [
    "**CENSUS_TRACT**: Identifies a small geographic area for the purpose of collecting and compiling population and housing data.  census tracts are unique only within census county, and census counties are unique only within census state.\n",
    "\n",
    "Special value \"000000\" - missing?"
   ]
  },
  {
   "cell_type": "code",
   "execution_count": null,
   "metadata": {},
   "outputs": [],
   "source": [
    "#collapse_output\n",
    "style(describe_variable('CENSUS_TRACT', count_values=['000000']))"
   ]
  },
  {
   "cell_type": "markdown",
   "metadata": {},
   "source": [
    "**CENSUS_BLOCK**: Bgs are subdivisions of census tracts and unique only within a specific census tract.  census tracts/block groups are assigned to address records via a geocoding process.\n",
    "\n",
    "Special value \"0\" - missing?"
   ]
  },
  {
   "cell_type": "code",
   "execution_count": null,
   "metadata": {},
   "outputs": [],
   "source": [
    "#collapse_output\n",
    "style(describe_variable('CENSUS_BLOCK', count_values=['0']))"
   ]
  },
  {
   "cell_type": "markdown",
   "metadata": {},
   "source": [
    "**LATITUDE**: Parcel level assigned via point geo coding.  half of a pair of coordinates (the other being longitude)  provided in a formatted value, with decimals or a negative sign. not available in puerto rico & virgin island."
   ]
  },
  {
   "cell_type": "code",
   "execution_count": null,
   "metadata": {},
   "outputs": [],
   "source": [
    "#collapse_output\n",
    "style(describe_variable('LATITUDE', distribution=True))"
   ]
  },
  {
   "cell_type": "markdown",
   "metadata": {},
   "source": [
    "**LONGITUDE**: Parcel level assigned via point geo coding.  note: longitudes are negatives values in the western hemisphere.  provided in its formatted value, with decimals or a negative sign. not available in puerto rico & virigin island"
   ]
  },
  {
   "cell_type": "code",
   "execution_count": null,
   "metadata": {},
   "outputs": [],
   "source": [
    "#collapse_output\n",
    "style(describe_variable('LONGITUDE', distribution=True))"
   ]
  },
  {
   "cell_type": "markdown",
   "metadata": {},
   "source": [
    "**MATCH_CODE**: Parcel level match code of the business location.  \n",
    "Value labels:  \n",
    "0: Site level  \n",
    "2: Zip+2 centroid  \n",
    "4: Zip+4 centroid  \n",
    "P: Parcel  \n",
    "X: Zip centroid"
   ]
  },
  {
   "cell_type": "code",
   "execution_count": null,
   "metadata": {},
   "outputs": [],
   "source": [
    "#collapse_output\n",
    "style(describe_variable('MATCH_CODE', count_values=get_schema('MATCH_CODE')['enum']))"
   ]
  },
  {
   "cell_type": "markdown",
   "metadata": {},
   "source": [
    "**CBSA_CODE**: Core bases statistical area (expanded msa code)\n",
    "\n",
    "Special value \"00000\""
   ]
  },
  {
   "cell_type": "code",
   "execution_count": null,
   "metadata": {},
   "outputs": [],
   "source": [
    "#collapse_output\n",
    "style(describe_variable('CBSA_CODE', count_values=['00000']))"
   ]
  },
  {
   "cell_type": "markdown",
   "metadata": {},
   "source": [
    "**CBSA_LEVEL**: Indicates if an area is a micropolitan or metropolitan area  \n",
    "Value labels:  \n",
    "1: Micropolitan  \n",
    "2: Metropolitan"
   ]
  },
  {
   "cell_type": "code",
   "execution_count": null,
   "metadata": {},
   "outputs": [],
   "source": [
    "#collapse_output\n",
    "style(describe_variable('CBSA_LEVEL', count_values=get_schema('CBSA_LEVEL')['enum']))"
   ]
  },
  {
   "cell_type": "markdown",
   "metadata": {},
   "source": [
    "**CSA_CODE**: Adjoining cbsa's.  combination of metro and micro areas\n",
    "\n",
    "Special value \"000\"."
   ]
  },
  {
   "cell_type": "code",
   "execution_count": null,
   "metadata": {},
   "outputs": [],
   "source": [
    "#collapse_output\n",
    "style(describe_variable('CSA_CODE', count_values=['000']))"
   ]
  },
  {
   "cell_type": "markdown",
   "metadata": {},
   "source": [
    "**FIPS_CODE**: First 2 bytes = state code, last 3 bytes = county code (location)"
   ]
  },
  {
   "cell_type": "code",
   "execution_count": null,
   "metadata": {},
   "outputs": [],
   "source": [
    "#collapse_output\n",
    "style(describe_variable('FIPS_CODE'))"
   ]
  },
  {
   "cell_type": "markdown",
   "metadata": {},
   "source": [
    "## Nonregular variables\n",
    "\n",
    "The following variables are only available in select years.\n",
    "\n",
    "- ...\n",
    "\n",
    "\n",
    "Population code exists for all years, but coding changes after 2015.\n",
    "\n",
    "**POPULATION_CODE**: The code for the resident population of the city in which the business is located, according to rand mcnally. some assignments can vary within a ciyt, such as when cities cross county lines. to maintain this granularity, the actual assignment is done at a zip level."
   ]
  }
 ],
 "metadata": {
  "kernelspec": {
   "display_name": "Python 3",
   "language": "python",
   "name": "python3"
  }
 },
 "nbformat": 4,
 "nbformat_minor": 4
}
