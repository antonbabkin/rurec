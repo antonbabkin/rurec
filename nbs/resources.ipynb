{
 "cells": [
  {
   "cell_type": "markdown",
   "metadata": {},
   "source": [
    "# Resource management\n",
    "\n",
    "> Manage project resources such as data and images."
   ]
  },
  {
   "cell_type": "code",
   "execution_count": null,
   "metadata": {},
   "outputs": [],
   "source": [
    "#default_exp resources"
   ]
  },
  {
   "cell_type": "code",
   "execution_count": null,
   "metadata": {},
   "outputs": [],
   "source": [
    "#export\n",
    "from pathlib import Path\n",
    "import configparser"
   ]
  },
  {
   "cell_type": "code",
   "execution_count": null,
   "metadata": {},
   "outputs": [],
   "source": [
    "#export\n",
    "def _get_root_dir():\n",
    "    \"\"\"Return `pathlib.Path` to project root directory.\n",
    "    Root is identified by presence of \"settings.ini\" file.\"\"\"\n",
    "    d = Path.cwd()\n",
    "    while d != d.parent:\n",
    "        if (d / 'settings.ini').exists(): return d\n",
    "        d = d.parent\n",
    "    raise Exception(f'Can not find project root at or above \"{Path.cwd()}\"')"
   ]
  },
  {
   "cell_type": "code",
   "execution_count": null,
   "metadata": {},
   "outputs": [],
   "source": [
    "#export\n",
    "def _get_paths_from_config():\n",
    "    root = _get_root_dir()\n",
    "    config = configparser.ConfigParser()\n",
    "    config.read(root / 'settings.ini')\n",
    "    \n",
    "    def get_abs_path(path_key):\n",
    "        path = Path(config['resources'][path_key])\n",
    "        if not path.is_absolute():\n",
    "            path = root / path\n",
    "        return path\n",
    "\n",
    "    paths = dict()\n",
    "    paths['root'] = root\n",
    "    paths['tmp'] = get_abs_path('temp_dir')\n",
    "    paths['ers_codes'] = get_abs_path('ers_codes_dir')\n",
    "    return paths\n",
    "\n",
    "paths = _get_paths_from_config()"
   ]
  },
  {
   "cell_type": "code",
   "execution_count": null,
   "metadata": {},
   "outputs": [],
   "source": [
    "paths"
   ]
  }
 ],
 "metadata": {
  "kernelspec": {
   "display_name": "Python 3",
   "language": "python",
   "name": "python3"
  }
 },
 "nbformat": 4,
 "nbformat_minor": 4
}
