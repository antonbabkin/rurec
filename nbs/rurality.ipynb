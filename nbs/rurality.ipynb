{
 "cells": [
  {
   "cell_type": "markdown",
   "metadata": {},
   "source": [
    "# Rurality\n",
    "\n",
    "> Attach different rurality indicators to InfoGroup establishments.\n",
    "\n"
   ]
  },
  {
   "cell_type": "code",
   "execution_count": null,
   "metadata": {},
   "outputs": [],
   "source": [
    "#default_exp rurality"
   ]
  },
  {
   "cell_type": "code",
   "execution_count": null,
   "metadata": {},
   "outputs": [],
   "source": [
    "#export\n",
    "import json\n",
    "\n",
    "import numpy as np\n",
    "import pandas as pd\n",
    "import fastparquet\n",
    "\n",
    "from rurec import resources\n",
    "from rurec.resources import Resource\n",
    "from rurec import infogroup\n",
    "from rurec import ers_codes"
   ]
  },
  {
   "cell_type": "code",
   "execution_count": null,
   "metadata": {},
   "outputs": [],
   "source": [
    "# Register new resources created in this module\n",
    "for y in range(1997, 2018):\n",
    "    resources.add(Resource(f'infogroup/rural/{y}', f'/InfoGroup/data/rurality/{y}.pq', f'InfoGroup data with rural codes, {y}, parquet format', False))"
   ]
  },
  {
   "cell_type": "markdown",
   "metadata": {},
   "source": [
    "## Open cleaned InfoGroup"
   ]
  },
  {
   "cell_type": "code",
   "execution_count": null,
   "metadata": {},
   "outputs": [],
   "source": [
    "df_ig = infogroup.get_df(2010, cols=['YEAR', 'ABI', 'FIPS_CODE'])"
   ]
  },
  {
   "cell_type": "markdown",
   "metadata": {},
   "source": [
    "## Merge in different geo codes, create new variables etc."
   ]
  },
  {
   "cell_type": "code",
   "execution_count": null,
   "metadata": {},
   "outputs": [],
   "source": [
    "df = ers_codes.get_ruc_df()\n",
    "df = df.loc[df['RUC_YEAR'] == 2013, ['FIPS', 'RUC_CODE', 'RUC_YEAR']]\n",
    "df.rename(columns={'FIPS': 'FIPS_CODE'}, inplace=True)\n",
    "df_ig = df_ig.merge(df, 'left', 'FIPS_CODE')"
   ]
  },
  {
   "cell_type": "markdown",
   "metadata": {},
   "source": [
    "## Save InfoGroup with new variables"
   ]
  },
  {
   "cell_type": "code",
   "execution_count": null,
   "metadata": {},
   "outputs": [],
   "source": [
    "fastparquet.write(resources.get(f'infogroup/rural/2010').path, df_ig, write_index=False)"
   ]
  },
  {
   "cell_type": "markdown",
   "metadata": {},
   "source": [
    "## Module's interface to get dataframe with rurality variables"
   ]
  },
  {
   "cell_type": "code",
   "execution_count": null,
   "metadata": {},
   "outputs": [],
   "source": [
    "#export\n",
    "def get_df(year, cols=None):\n",
    "    \"\"\"Return one year of InfoGroup with rurality variables.\n",
    "    Subset of columns can be loaded by passing list to `cols`.\n",
    "    \"\"\"\n",
    "    res = resources.get(f'infogroup/rural/{year}')\n",
    "    return pd.read_parquet(res.path, 'fastparquet', columns=cols)"
   ]
  }
 ],
 "metadata": {
  "kernelspec": {
   "display_name": "Python 3",
   "language": "python",
   "name": "python3"
  }
 },
 "nbformat": 4,
 "nbformat_minor": 4
}
