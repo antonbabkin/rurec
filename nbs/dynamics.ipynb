{
 "cells": [
  {
   "cell_type": "markdown",
   "metadata": {},
   "source": [
    "# Business dynamics\n",
    "\n",
    "> How different slices of economy evolve over time."
   ]
  },
  {
   "cell_type": "code",
   "execution_count": null,
   "metadata": {},
   "outputs": [],
   "source": [
    "#hide\n",
    "import json\n",
    "import numpy as np\n",
    "import pandas as pd\n",
    "import matplotlib.pyplot as plt\n",
    "import fastparquet\n",
    "\n",
    "from rurec import resources, rurality, ers_codes"
   ]
  },
  {
   "cell_type": "markdown",
   "metadata": {},
   "source": [
    "# Rurality\n",
    "\n",
    "Business dynamics in rural areas, based on different definitions of rurality."
   ]
  },
  {
   "cell_type": "code",
   "execution_count": null,
   "metadata": {},
   "outputs": [],
   "source": [
    "#hide\n",
    "df = rurality.get_df(cols=['YEAR', 'STATE', 'EMPLOYEES', 'RURAL_OUTSIDE_UA', 'UI_CODE', 'RUC_CODE', 'RUCA_CODE', 'RURAL_HRSA', 'FAR_LEVEL'], states=['WI', 'CT'])\n",
    "df['STATE'].cat.remove_unused_categories(inplace=True)\n",
    "\n",
    "df['RURAL_OUTSIDE_UA'].replace({'0': False, '1': True}, inplace=True)\n",
    "df['RURAL_UI'] = df['UI_CODE'].isin(['6', '7', '8', '9', '10', '11', '12'])\n",
    "df['RURAL_RUC'] = df['RUC_CODE'].isin(['5', '7', '9', '10'])\n",
    "df['RURAL_RUCA'] = df['RUCA_CODE'].str[:1].isin(['7', '8', '9']) | (df['RUCA_CODE'].str[:2] == '10')\n",
    "df['RURAL_FAR'] = (df['FAR_LEVEL'] > 0)"
   ]
  },
  {
   "cell_type": "code",
   "execution_count": null,
   "metadata": {},
   "outputs": [],
   "source": [
    "#hide\n",
    "tab = {}\n",
    "for rural_col in ['RURAL_OUTSIDE_UA', 'RURAL_HRSA', 'RURAL_UI', 'RURAL_RUC', 'RURAL_RUCA', 'RURAL_FAR']:\n",
    "    x = df.groupby(['YEAR', 'STATE', rural_col])['EMPLOYEES'].agg(['size', 'sum']).stack().unstack(rural_col)\n",
    "    x = x[True] / x.sum(1)\n",
    "    x = x.unstack()\n",
    "    x.rename(columns={'size': 'estab', 'sum': 'emp'}, inplace=True)\n",
    "    tab[rural_col] = x\n",
    "tab = pd.concat(tab, 1).fillna(0)"
   ]
  },
  {
   "cell_type": "markdown",
   "metadata": {},
   "source": [
    "## Share of rural establishments"
   ]
  },
  {
   "cell_type": "code",
   "execution_count": null,
   "metadata": {},
   "outputs": [],
   "source": [
    "#collapse_output\n",
    "idx = pd.IndexSlice\n",
    "t = tab.loc[:, idx[:, 'estab']]\n",
    "t.columns = t.columns.droplevel(1)\n",
    "t = t.unstack()\n",
    "t.style.format('{:.1%}')"
   ]
  },
  {
   "cell_type": "code",
   "execution_count": null,
   "metadata": {},
   "outputs": [],
   "source": [
    "#hide_input\n",
    "fig, ax = plt.subplots(figsize=(12, 8))\n",
    "for i, rur in enumerate(t.columns.levels[0]):\n",
    "    for st in ['WI', 'CT']:\n",
    "        l = 'solid' if st == 'WI' else 'dashed'\n",
    "        y = t[(rur, st)]\n",
    "        ax.plot(y, color=f'C{i}', linestyle=l, label=f'{rur}, {st}')\n",
    "        \n",
    "ax.set_xticks(t.index)\n",
    "fig.legend(loc='lower center', ncol=len(t.columns.levels[0]));"
   ]
  },
  {
   "cell_type": "markdown",
   "metadata": {},
   "source": [
    "## Share of rural employment"
   ]
  },
  {
   "cell_type": "code",
   "execution_count": null,
   "metadata": {},
   "outputs": [],
   "source": [
    "#collapse_output\n",
    "idx = pd.IndexSlice\n",
    "t = tab.loc[:, idx[:, 'emp']]\n",
    "t.columns = t.columns.droplevel(1)\n",
    "t = t.unstack()\n",
    "t.style.format('{:.1%}')"
   ]
  },
  {
   "cell_type": "code",
   "execution_count": null,
   "metadata": {},
   "outputs": [],
   "source": [
    "#hide_input\n",
    "fig, ax = plt.subplots(figsize=(12, 8))\n",
    "for i, rur in enumerate(t.columns.levels[0]):\n",
    "    for st in ['WI', 'CT']:\n",
    "        l = 'solid' if st == 'WI' else 'dashed'\n",
    "        y = t[(rur, st)]\n",
    "        ax.plot(y, color=f'C{i}', linestyle=l, label=f'{rur}, {st}')\n",
    "        \n",
    "ax.set_xticks(t.index)\n",
    "fig.legend(loc='lower center', ncol=len(t.columns.levels[0]));"
   ]
  },
  {
   "cell_type": "markdown",
   "metadata": {},
   "source": [
    "> Warning: Below starts the old code that does not use nbdev and draws data from BigQuery. It has not been tested for a long time."
   ]
  },
  {
   "cell_type": "markdown",
   "metadata": {},
   "source": [
    "# FAI"
   ]
  },
  {
   "cell_type": "markdown",
   "metadata": {},
   "source": [
    "### NAICS codes of FAI industries"
   ]
  },
  {
   "cell_type": "code",
   "execution_count": null,
   "metadata": {},
   "outputs": [],
   "source": [
    "%cd .."
   ]
  },
  {
   "cell_type": "code",
   "execution_count": null,
   "metadata": {},
   "outputs": [],
   "source": [
    "with open('data/fai.json') as f:\n",
    "    fai_naics = json.load(f)\n",
    "with open('data/fai_subsectors.json') as f:\n",
    "    fai_subsectors = json.load(f)\n",
    "\n",
    "fai_subs_codes = []\n",
    "for x in fai_subsectors.values():\n",
    "    fai_subs_codes += x.keys()\n",
    "    \n",
    "# \"fai.json\" has 168 codes and includes farming and 12 other industries, \"fai_subsectors.json\" has 100 codes\n",
    "fai_naics_narrow = fai_subs_codes\n",
    "\n",
    "# Tom's 4-digit codes\n",
    "fai_naics_broad = [str(x) for x in [2362,2382,3111,3112,3114,3115,3116,3117,3119,3222,3251,3253,3261,3272,3332,3333,\n",
    "          3339,3352,3369,3371,4234,4238,4241,4244,4246,4249,4451,4452,4461,4471,4529,4543,\n",
    "          5413,5417,6242,7223,7225,8113,9231,9261,1151,1152,2371,2379,3219,3254,3322,3323,\n",
    "          3324,3326,3331,3399,4245,4442,4842,4931,5222,5324,5419,7121,8129,8134,8139]]"
   ]
  },
  {
   "cell_type": "code",
   "execution_count": null,
   "metadata": {},
   "outputs": [],
   "source": [
    "query = '''\n",
    "SELECT DISTINCT\n",
    "  substr(naics, 1, 6) as naics, \n",
    "  naics_desc\n",
    "FROM\n",
    "  `original.data`\n",
    "WHERE\n",
    "  year > 2002\n",
    "ORDER BY\n",
    "  naics\n",
    "'''\n",
    "\n",
    "naics_desc = pd.read_gbq(query, dialect='standard', project_id='info-group-162919').dropna()"
   ]
  },
  {
   "cell_type": "code",
   "execution_count": null,
   "metadata": {},
   "outputs": [],
   "source": [
    "df = naics_desc\n",
    "df['naics4'] = df['naics'].str[:4]\n",
    "df['fai_narrow'] = df['naics'].isin(fai_naics_narrow)\n",
    "df['fai_broad'] = df['naics4'].isin(fai_naics_broad)\n",
    "df = df[df['fai_narrow'] | df['fai_broad']]\n",
    "df = df[['naics', 'naics4', 'naics_desc', 'fai_narrow', 'fai_broad']]\n",
    "df.shape"
   ]
  },
  {
   "cell_type": "code",
   "execution_count": null,
   "metadata": {},
   "outputs": [],
   "source": [
    "# 6-digit codes\n",
    "df1 = df.groupby(['fai_broad', 'fai_narrow']).size().unstack()\n",
    "df1, df1.sum(), df1.sum(1)"
   ]
  },
  {
   "cell_type": "markdown",
   "metadata": {},
   "source": [
    "### Load InfoGroup employment data"
   ]
  },
  {
   "cell_type": "code",
   "execution_count": null,
   "metadata": {},
   "outputs": [],
   "source": [
    "query = '''\n",
    "SELECT\n",
    "  year,\n",
    "  naics,\n",
    "  cbsa_level,\n",
    "  count(*) as est,\n",
    "  sum(employees) as emp\n",
    "FROM\n",
    "  (select employees, year, cbsa_level, substr(naics, 1, 6) as naics from `original.data`)\n",
    "WHERE\n",
    "  year > 2002\n",
    "GROUP BY\n",
    "  year,\n",
    "  naics,\n",
    "  cbsa_level\n",
    "ORDER BY\n",
    "  year,\n",
    "  naics\n",
    "'''\n",
    "\n",
    "df = pd.read_gbq(query, dialect='standard', project_id='info-group-162919')\n",
    "# df = df[df.naics.notnull()]\n",
    "# df = df[df.naics.str.startswith('1151') | ~df.naics.str.startswith('11')]\n",
    "df_by_year_naics = df"
   ]
  },
  {
   "cell_type": "code",
   "execution_count": null,
   "metadata": {},
   "outputs": [],
   "source": [
    "# missing NAICS share is negligible\n",
    "df['naics_na'] = (df['naics'] == '')\n",
    "df1 = df.groupby('naics_na')['emp'].sum()\n",
    "df1 / df1.sum()"
   ]
  },
  {
   "cell_type": "code",
   "execution_count": null,
   "metadata": {},
   "outputs": [],
   "source": [
    "# farm employment share is negligible\n",
    "df['naics'] = df['naics'].fillna('')\n",
    "df['farm'] = df.naics.str.startswith('11') & ~df.naics.str.startswith('1151')\n",
    "df1 = df.groupby('farm')['emp'].sum()\n",
    "df1 / df1.sum()"
   ]
  },
  {
   "cell_type": "markdown",
   "metadata": {},
   "source": [
    "### Industry classification: FAI and subsectors"
   ]
  },
  {
   "cell_type": "code",
   "execution_count": null,
   "metadata": {},
   "outputs": [],
   "source": [
    "df = df_by_year_naics\n",
    "df['cbsa'] = df['cbsa_level'].replace([None, '1', '2'], ['rural', 'micro', 'metro'])\n",
    "df['fai_narrow'] = df.naics.isin(fai_naics_narrow)\n",
    "df['fai_broad'] = df.naics.str[:4].isin(fai_naics_broad)\n",
    "df['subsector'] = None\n",
    "for subsector, codes in fai_subsectors.items():\n",
    "    df.loc[df.naics.isin(codes), 'subsector'] = subsector\n",
    "df.subsector = df.subsector.astype('category')"
   ]
  },
  {
   "cell_type": "code",
   "execution_count": null,
   "metadata": {},
   "outputs": [],
   "source": [
    "df1 = {}\n",
    "df1['total'] = df.groupby(['year', 'cbsa'])['est'].sum().unstack()\n",
    "df1['fai_narrow'] = df[df['fai_narrow']].groupby(['year', 'cbsa'])['est'].sum().unstack() / df1['total']\n",
    "df1['fai_broad'] = df[df['fai_broad']].groupby(['year', 'cbsa'])['est'].sum().unstack() / df1['total']\n",
    "pd.options.display.precision = 3\n",
    "df1 = pd.concat(df1, 1)\n",
    "print(df1.to_string())"
   ]
  },
  {
   "cell_type": "code",
   "execution_count": null,
   "metadata": {},
   "outputs": [],
   "source": [
    "df1 = {}\n",
    "df1['total'] = df.groupby(['year', 'cbsa'])['emp'].sum().unstack()\n",
    "df1['fai_narrow'] = df[df['fai_narrow']].groupby(['year', 'cbsa'])['emp'].sum().unstack() / df1['total']\n",
    "df1['fai_broad'] = df[df['fai_broad']].groupby(['year', 'cbsa'])['emp'].sum().unstack() / df1['total']\n",
    "df1['total'] = (df1['total'] / 1000).astype('int')\n",
    "pd.options.display.precision = 3\n",
    "df1 = pd.concat(df1, 1)\n",
    "print(df1.to_string())"
   ]
  },
  {
   "cell_type": "markdown",
   "metadata": {},
   "source": [
    "### Space classification: rural, micropolitan, metropolitan"
   ]
  },
  {
   "cell_type": "code",
   "execution_count": null,
   "metadata": {},
   "outputs": [],
   "source": [
    "area_df = {\n",
    "    'Rural': df[df.cbsa_level.isnull()],\n",
    "    'Micropolitan': df[df.cbsa_level == '1'],\n",
    "    'Metropolitan': df[df.cbsa_level == '2'] \n",
    "}"
   ]
  },
  {
   "cell_type": "markdown",
   "metadata": {},
   "source": [
    "### Plot employment share in FAI"
   ]
  },
  {
   "cell_type": "code",
   "execution_count": null,
   "metadata": {},
   "outputs": [],
   "source": [
    "fig, ax = plt.subplots()\n",
    "for area, adf in area_df.items():\n",
    "    share = adf[adf['fai']].groupby('year')['emp'].sum() / adf.groupby('year')['emp'].sum()\n",
    "    years = share.index\n",
    "    ax.plot(years, share, label=area, alpha=0.7)\n",
    "    ax.set_ylabel('Employment share')\n",
    "    ax.set_xlim(years.min(), years.max())\n",
    "lgd = ax.legend(loc='upper right');\n",
    "#fig.savefig('fig/fai_dynamics.png', bbox_extra_artists=(lgd,), bbox_inches='tight')"
   ]
  },
  {
   "cell_type": "code",
   "execution_count": null,
   "metadata": {},
   "outputs": [],
   "source": [
    "fig, ax = plt.subplots()\n",
    "for area, adf in area_df.items():\n",
    "    share = adf[adf['fai_tom']].groupby('year')['emp'].sum() / adf.groupby('year')['emp'].sum()\n",
    "    years = share.index\n",
    "    ax.plot(years, share, label=area, alpha=0.7)\n",
    "    ax.set_ylabel('Employment share')\n",
    "    ax.set_xlim(years.min(), years.max())\n",
    "lgd = ax.legend(loc='upper right');\n",
    "#fig.savefig('fig/fai_dynamics.png', bbox_extra_artists=(lgd,), bbox_inches='tight')"
   ]
  },
  {
   "cell_type": "markdown",
   "metadata": {},
   "source": [
    "### Plot breakdown of FAI employment"
   ]
  },
  {
   "cell_type": "code",
   "execution_count": null,
   "metadata": {},
   "outputs": [],
   "source": [
    "def fai_emp_breakdown(df):\n",
    "    _df = df.groupby(['year', 'subsector'])['emp'].sum().unstack()\n",
    "    _sum = _df.sum(axis=1)\n",
    "    return _df.apply(lambda col: col / _sum)"
   ]
  },
  {
   "cell_type": "code",
   "execution_count": null,
   "metadata": {},
   "outputs": [],
   "source": [
    "colors = ['b','g','r','c','m','y','k']\n",
    "fig, axes = plt.subplots(ncols=3, figsize=(17, 5))\n",
    "axes[0].set_ylabel('Share of FAI')\n",
    "lines = []\n",
    "for (area, adf), ax in zip(area_df.items(), axes):\n",
    "    shares = fai_emp_breakdown(adf)\n",
    "    years = shares.index\n",
    "    cum_share1 = np.zeros(len(shares))\n",
    "    for subsector, color in zip(fai_subsectors, colors):\n",
    "        cum_share0 = cum_share1.copy()\n",
    "        share = shares[subsector]\n",
    "        cum_share1 += share\n",
    "        line = ax.plot(years, cum_share1, color, alpha=0.5, label=subsector)\n",
    "        lines.append(line[0])\n",
    "        ax.fill_between(years, cum_share0, cum_share1, facecolor=color, alpha=0.3)\n",
    "    ax.set_title(area)\n",
    "    ax.set_ylim(-0.0001,1)\n",
    "    ax.set_xlim(years.min(), years.max())\n",
    "lines = lines[:len(fai_subsectors)]\n",
    "lgd = fig.legend(handles=lines, ncol=len(lines), loc='upper center', bbox_to_anchor=(0.44, 0.08))\n",
    "fig.savefig('fig/fai_breakdown.png', bbox_extra_artists=(lgd,), bbox_inches='tight')"
   ]
  },
  {
   "cell_type": "markdown",
   "metadata": {
    "tags": []
   },
   "source": [
    "# 1151 dynamics\n",
    "\n",
    "Quick and dirty computation of simple stats."
   ]
  },
  {
   "cell_type": "code",
   "execution_count": null,
   "metadata": {},
   "outputs": [],
   "source": [
    "from rurec import infogroup"
   ]
  },
  {
   "cell_type": "code",
   "execution_count": null,
   "metadata": {},
   "outputs": [],
   "source": [
    "df.columns"
   ]
  },
  {
   "cell_type": "code",
   "execution_count": null,
   "metadata": {},
   "outputs": [],
   "source": [
    "df0 = infogroup.get_df(cols=['ABI', 'YEAR', 'NAICS', 'EMPLOYEES', 'YEAR_EST'])#, states=['WI'])"
   ]
  },
  {
   "cell_type": "code",
   "execution_count": null,
   "metadata": {},
   "outputs": [],
   "source": [
    "df0.shape"
   ]
  },
  {
   "cell_type": "code",
   "execution_count": null,
   "metadata": {},
   "outputs": [],
   "source": [
    "(df0.EMPLOYEES==0).value_counts()"
   ]
  },
  {
   "cell_type": "code",
   "execution_count": null,
   "metadata": {},
   "outputs": [],
   "source": [
    "df = df0.query('NAICS.str.slice(0,4) == \"1151\"').copy()"
   ]
  },
  {
   "cell_type": "code",
   "execution_count": null,
   "metadata": {},
   "outputs": [],
   "source": [
    "df_1151 = df.copy()"
   ]
  },
  {
   "cell_type": "code",
   "execution_count": null,
   "metadata": {},
   "outputs": [],
   "source": [
    "df = df_1151.copy()"
   ]
  },
  {
   "cell_type": "code",
   "execution_count": null,
   "metadata": {},
   "outputs": [],
   "source": [
    "df['EMPLOYEES'] = df['EMPLOYEES'].fillna(0)"
   ]
  },
  {
   "cell_type": "code",
   "execution_count": null,
   "metadata": {},
   "outputs": [],
   "source": [
    "df['EMPLOYEES'] = (df['EMPLOYEES'].fillna(0) - 1).replace(-1, 0)"
   ]
  },
  {
   "cell_type": "code",
   "execution_count": null,
   "metadata": {},
   "outputs": [],
   "source": [
    "df.shape"
   ]
  },
  {
   "cell_type": "code",
   "execution_count": null,
   "metadata": {},
   "outputs": [],
   "source": [
    "df['FIRST_YEAR'] = df.groupby('ABI')['YEAR'].transform(np.min)\n",
    "# df['YEAR_EST'] = df.groupby('ABI')['YEAR_EST'].transform(np.min)\n",
    "# df.loc[df['YEAR_EST'] < df['FIRST_YEAR'], 'FIRST_YEAR'] = df['YEAR_EST']\n",
    "df['LAST_YEAR'] = df.groupby('ABI')['YEAR'].transform(np.max)\n",
    "df.loc[df['YEAR'] == 2017, 'LAST_YEAR'] = np.nan\n",
    "df['AGE'] = df['YEAR'] - df['FIRST_YEAR']"
   ]
  },
  {
   "cell_type": "code",
   "execution_count": null,
   "metadata": {},
   "outputs": [],
   "source": [
    "df['ACTIVE_YEARS'] = df.groupby('ABI')['YEAR'].transform(lambda x: len(x))"
   ]
  },
  {
   "cell_type": "code",
   "execution_count": null,
   "metadata": {},
   "outputs": [],
   "source": [
    "df['YEAR_PREV'] = df['YEAR'] - 1\n",
    "df = df.merge(df[['ABI', 'YEAR', 'EMPLOYEES']], 'left', left_on=['ABI', 'YEAR_PREV'], right_on=['ABI', 'YEAR'], suffixes=('', '_PREV'))\n",
    "df.loc[(df['YEAR'] > df['FIRST_YEAR']), 'CONT_EMP_NC'] = df['EMPLOYEES'] - df['EMPLOYEES_PREV']"
   ]
  },
  {
   "cell_type": "code",
   "execution_count": null,
   "metadata": {},
   "outputs": [],
   "source": [
    "x = df.query('ACTIVE_YEARS > 5').sample()['ABI'].values[0]\n",
    "df.query('ABI == @x').sort_values('YEAR')"
   ]
  },
  {
   "cell_type": "code",
   "execution_count": null,
   "metadata": {},
   "outputs": [],
   "source": [
    "dfa = df.query('EMPLOYEES > 0')\n",
    "\n",
    "t = pd.DataFrame()\n",
    "t['active estab'] = dfa.groupby('YEAR').size()\n",
    "t['birth estab'] = dfa.query('YEAR == FIRST_YEAR').groupby('YEAR').size()\n",
    "t['predeath estab'] = dfa.query('YEAR == LAST_YEAR').groupby('YEAR').size()\n",
    "t['age mean'] = dfa.groupby('YEAR')['AGE'].mean()\n",
    "t['age median'] = dfa.groupby('YEAR')['AGE'].median()\n",
    "t['age std'] = dfa.groupby('YEAR')['AGE'].std()\n",
    "t[['emp mean', 'emp std']] = dfa.groupby('YEAR')['EMPLOYEES'].agg([np.mean, np.std])\n",
    "t['active emp'] = dfa.groupby('YEAR')['EMPLOYEES'].sum()\n",
    "t['birth emp'] = dfa.query('YEAR == FIRST_YEAR').groupby('YEAR')['EMPLOYEES'].sum()\n",
    "t['predeath emp'] = dfa.query('YEAR == LAST_YEAR').groupby('YEAR')['EMPLOYEES'].sum()\n",
    "t['cont emp nc'] = df.groupby('YEAR')['CONT_EMP_NC'].sum()\n",
    "t['cont emp gc'] = df.query('CONT_EMP_NC > 0').groupby('YEAR')['CONT_EMP_NC'].sum()\n",
    "t['cont emp gd'] = -df.query('CONT_EMP_NC < 0').groupby('YEAR')['CONT_EMP_NC'].sum()\n",
    "t['cont no emp change'] = df.query('CONT_EMP_NC == 0').groupby('YEAR').size()"
   ]
  },
  {
   "cell_type": "code",
   "execution_count": null,
   "metadata": {},
   "outputs": [],
   "source": [
    "t['emp prev'] = t['active emp'].shift()\n",
    "t['death emp'] = t['predeath emp'].shift()"
   ]
  },
  {
   "cell_type": "code",
   "execution_count": null,
   "metadata": {},
   "outputs": [],
   "source": [
    "t"
   ]
  },
  {
   "cell_type": "code",
   "execution_count": null,
   "metadata": {},
   "outputs": [],
   "source": [
    "t0 = t"
   ]
  },
  {
   "cell_type": "code",
   "execution_count": null,
   "metadata": {},
   "outputs": [],
   "source": [
    "t1 = t"
   ]
  },
  {
   "cell_type": "code",
   "execution_count": null,
   "metadata": {},
   "outputs": [],
   "source": [
    "with pd.ExcelWriter('~/infogroup_1151.xlsx') as writer:\n",
    "    t0.to_excel(writer, 'emp_as_is')\n",
    "    t1.to_excel(writer, 'emp_minus_1')"
   ]
  }
 ],
 "metadata": {
  "language_info": {
   "name": "python"
  }
 },
 "nbformat": 4,
 "nbformat_minor": 4
}
