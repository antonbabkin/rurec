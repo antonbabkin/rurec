{
 "cells": [
  {
   "cell_type": "code",
   "execution_count": null,
   "metadata": {},
   "outputs": [],
   "source": [
    "import pandas as pd\n",
    "import geopandas as gpd\n",
    "\n",
    "import warnings\n",
    "warnings.filterwarnings(\"ignore\")"
   ]
  },
  {
   "cell_type": "raw",
   "metadata": {},
   "source": [
    "'all_tracts.csv' is a locally processed file starting with shapefiles for Urban Areas \n",
    "and census tracts. The centroid location of each census tract was computed and from that \n",
    "data point and the coordinate dimensions of each urban area, the 'parental' urban area, if \n",
    "any, of each census tract was determined. This was an extrememly machine-intensive process.\n",
    "\n",
    "Urban Areas and census tracts are defined by entirely different criteria. Even though\n",
    "census tracts are on average much smaller than urban areas, each can overlap several of the \n",
    "other. The purpose here is to identify 'rural' census tracts, defined as those whose centroid point does not fall within any urban area. A census tract has a 'parental' urban\n",
    "area if its centroid point does fall within an urban area, either an urbanized area or a\n",
    "smaller urban cluster.\n",
    "\n",
    "The all_tracts.csv file contains one record per census tract and the identifying information \n",
    "for the single 'parental' urban area, if there is one. The records for rural tracts are \n",
    "coded '1' in the 'rural_tract' variable, which indicates a missing value for the Urban\n",
    "Area identifier, 'UA_GEOID10'. 'UATYP10' identifies the type of the parental urban area: \n",
    "'U' = urbanized area, 'C'= urban cluster.\n",
    "\n",
    "This file is the source data for the 'rural_outside_UA' variable added in this step to the\n",
    "basic InfoGroup extract created in step 1. It is also the source for the 'UA Code' and\n",
    "'UA Type' variables, understood to apply to the 'parental' urban area. Since a census\n",
    "tract can overlap multiple urban areas, it is not necessarily true that the urban area\n",
    "identified by the 'UA Code' and 'UA Type' variables is the one in which the InfoGroup\n",
    "establishment itself is actually located, though in nearly every case it would be.\n",
    "\n",
    "It would be possible to locate each InfoGroup record in an urban area by computing whether\n",
    "the establishment's spatial coordinates lie within the polygon of coordinates specified in\n",
    "the urban area shapefile. However, our focus is on the rural economy and that computation,\n",
    "for all establishments over two decades, would consume an extraordinary amount of calendar \n",
    "time and computational resources."
   ]
  },
  {
   "cell_type": "code",
   "execution_count": null,
   "metadata": {},
   "outputs": [],
   "source": [
    "tract_df = pd.read_csv('/InfoGroup/data/rurality/reference/geographical/points-in-polygons/data/all_tracts.csv',\n",
    "                 dtype=object)\n",
    "tract_gdf = gpd.GeoDataFrame(tract_df)"
   ]
  },
  {
   "cell_type": "code",
   "execution_count": null,
   "metadata": {},
   "outputs": [],
   "source": [
    "tract_df = pd.DataFrame(tract_gdf[['GEOID','UA_GEOID10','UATYP10','rural_tract']],dtype=object)\n",
    "tract_df.rename(columns={'UA_GEOID10':'UA Code','UATYP10':'UA Type', \\\n",
    "                         'rural_tract':'rural_outside_UA'},inplace=True)"
   ]
  },
  {
   "cell_type": "code",
   "execution_count": null,
   "metadata": {},
   "outputs": [],
   "source": [
    "yr = 2017\n",
    "df = pd.read_csv(f'/InfoGroup/data/rurality/step1_{yr}.csv',dtype=object)"
   ]
  },
  {
   "cell_type": "code",
   "execution_count": null,
   "metadata": {},
   "outputs": [],
   "source": [
    "merged = df.merge(tract_df,how='inner',left_on='Full Census Tract',right_on='GEOID',indicator=True)"
   ]
  },
  {
   "cell_type": "markdown",
   "metadata": {},
   "source": [
    "-----------\n",
    "\n",
    "validation\n",
    "\n",
    "-----------"
   ]
  },
  {
   "cell_type": "code",
   "execution_count": null,
   "metadata": {},
   "outputs": [],
   "source": [
    "merged['_merge'].value_counts()"
   ]
  },
  {
   "cell_type": "code",
   "execution_count": null,
   "metadata": {},
   "outputs": [],
   "source": [
    "len(merged[merged['UA Code'].isnull()])"
   ]
  },
  {
   "cell_type": "code",
   "execution_count": null,
   "metadata": {},
   "outputs": [],
   "source": [
    "merged['rural_outside_UA'].value_counts()"
   ]
  },
  {
   "cell_type": "code",
   "execution_count": null,
   "metadata": {},
   "outputs": [],
   "source": [
    "merged['rural_outside_UA'].value_counts(normalize=True) * 100"
   ]
  },
  {
   "cell_type": "markdown",
   "metadata": {},
   "source": [
    "--------------\n",
    "\n",
    "end of validation\n",
    "\n",
    "--------------"
   ]
  },
  {
   "cell_type": "code",
   "execution_count": null,
   "metadata": {},
   "outputs": [],
   "source": [
    "merged.drop(columns=['_merge','GEOID'],inplace=True)"
   ]
  },
  {
   "cell_type": "code",
   "execution_count": null,
   "metadata": {},
   "outputs": [],
   "source": [
    "merged.to_csv(f'/InfoGroup/data/rurality/step2_{yr}.csv',index=None)"
   ]
  },
  {
   "cell_type": "markdown",
   "metadata": {},
   "source": [
    "#### Add Urban Influence, Rural-Urban Continuum, and Rural-Urban Commuting Area codes to the InfoGroup record"
   ]
  },
  {
   "cell_type": "code",
   "execution_count": null,
   "metadata": {},
   "outputs": [],
   "source": [
    "First choose the appropriate year, then match as below:\n",
    "    \n",
    "1. Match 'FIPS' in /ers/ui/ui.csv to 'FIPS Code' (county level) in InfoGroup. \n",
    "'UI_YEAR' in ui.csv has the values [1974,1983,1993,2001,2013].\n",
    "\n",
    "2. Match 'FIPS' in /ers/ruc/ruc.csv to 'FIPS Code' in InfoGroup.\n",
    "'RUC_YEAR' in ruc.csv has the values [1993,2003,2013].\n",
    "\n",
    "3. Match 'FIPS' in /ers/ruca/ruca.csv to 'Full Census Tract' in InfoGroup.\n",
    "'YEAR' in ruca.csv has the values [1990,2000,2010].\n",
    "\n",
    "For example:"
   ]
  },
  {
   "cell_type": "code",
   "execution_count": null,
   "metadata": {},
   "outputs": [],
   "source": [
    "def get_ruc_df():\n",
    "    \"\"\"Return pandas.DataFrame of Rural-Urban Continuum codes for all years.\"\"\"\n",
    "    res = '/ers/ruc/ruc.csv'\n",
    "    df = pd.read_csv(res, dtype='str')\n",
    "    for c in ['RUC_YEAR', 'POPULATION_YEAR', 'POPULATION', 'PERCENT_NONMETRO_COMMUTERS']:\n",
    "        df[c] = pd.to_numeric(df[c])\n",
    "    cats = ['0', '1', '2', '3', '4', '5', '6', '7', '8', '9']\n",
    "    df['RUC_CODE'] = pd.Categorical(df['RUC_CODE'], cats, True)\n",
    "    return df\n",
    "\n",
    "def get_ui_df():\n",
    "    \"\"\"Return pandas.DataFrame of Urban Influence codes for all years.\"\"\"\n",
    "    res = '/ers/ui/ui.csv'\n",
    "    df = pd.read_csv(res, dtype='str')\n",
    "    for c in ['UI_YEAR', 'POPULATION_YEAR', 'POPULATION', 'POPULATION_DENSITY']:\n",
    "        df[c] = pd.to_numeric(df[c])\n",
    "    cats = ['1', '2', '3', '4', '5', '6', '7', '8', '9', '10', '11', '12']\n",
    "    df['UI_CODE'] = pd.Categorical(df['UI_CODE'], cats, True)\n",
    "    return df\n",
    "\n",
    "def get_ruca_df():\n",
    "    \"\"\"Return pandas.DataFrame of Rural-Urban Commuting Area codes for all years.\"\"\"\n",
    "    res = '/ers/ruca/ruca.csv'\n",
    "    df = pd.read_csv(res, dtype='str')\n",
    "    for c in ['YEAR', 'POPULATION', 'AREA']:\n",
    "        # ValueError: Unable to parse string \"6 23.063\" at position 269\n",
    "        # todo: input files probably had this error, add manual fix to `download_and_convert_ruca()`\n",
    "        df[c] = pd.to_numeric(df[c], 'coerce')\n",
    "    cats = ['1', '1.1',\n",
    "            '2', '2.1', '2.2',\n",
    "            '3',\n",
    "            '4', '4.1', '4.2',\n",
    "            '5', '5.1', '5.2',\n",
    "            '6', '6.1',\n",
    "            '7', '7.1', '7.2', '7.3', '7.4',\n",
    "            '8', '8.1', '8.2', '8.3', '8.4',\n",
    "            '9', '9.1', '9.2',\n",
    "            '10', '10.1', '10.2', '10.3', '10.4', '10.5', '10.6',\n",
    "            '99']\n",
    "    df['RUCA_CODE'] = df['RUCA_CODE'].str.replace('.0', '', regex=False)\n",
    "    df['RUCA_CODE'] = pd.Categorical(df['RUCA_CODE'], cats, True)\n",
    "    return df"
   ]
  },
  {
   "cell_type": "code",
   "execution_count": null,
   "metadata": {},
   "outputs": [],
   "source": [
    "import pandas as pd\n",
    "\n",
    "df = pd.read_csv('/InfoGroup/data/rurality/step2_2017.csv',dtype=object)"
   ]
  },
  {
   "cell_type": "code",
   "execution_count": null,
   "metadata": {},
   "outputs": [],
   "source": [
    "ui_df = get_ui_df()\n",
    "ui_df = ui_df[['UI_YEAR','UI_CODE','FIPS']]\n",
    "ui_df.dropna(inplace=True)\n",
    "ui_df = ui_df[ui_df['UI_YEAR'] == 2013]\n",
    "merged = df.merge(ui_df,how='inner',left_on='FIPS Code',right_on='FIPS',indicator=True)\n",
    "df = merged.drop(columns=['UI_YEAR','FIPS','_merge'])"
   ]
  },
  {
   "cell_type": "code",
   "execution_count": null,
   "metadata": {},
   "outputs": [],
   "source": [
    "ruc_df = get_ruc_df()\n",
    "ruc_df = ruc_df[['RUC_YEAR','RUC_CODE','FIPS']]\n",
    "ruc_df.dropna(inplace=True)\n",
    "ruc_df = ruc_df[ruc_df['RUC_YEAR'] == 2013]\n",
    "merged = df.merge(ruc_df,how='inner',left_on='FIPS Code',right_on='FIPS',indicator=True)\n",
    "df = merged.drop(columns=['RUC_YEAR','FIPS','_merge'])"
   ]
  },
  {
   "cell_type": "code",
   "execution_count": null,
   "metadata": {},
   "outputs": [],
   "source": [
    "ruca_df = get_ruca_df()\n",
    "ruca_df = ruca_df[['YEAR','RUCA_CODE','FIPS']]\n",
    "ruca_df.dropna(inplace=True)\n",
    "ruca_df = ruca_df[ruca_df['YEAR'] == 2010]\n",
    "merged = df.merge(ruca_df,how='inner',left_on='Full Census Tract',right_on='FIPS',indicator=True)\n",
    "df = merged.drop(columns=['YEAR','FIPS','_merge'])"
   ]
  },
  {
   "cell_type": "code",
   "execution_count": null,
   "metadata": {},
   "outputs": [],
   "source": [
    "df.columns"
   ]
  },
  {
   "cell_type": "code",
   "execution_count": null,
   "metadata": {},
   "outputs": [],
   "source": [
    "df.to_csv('/InfoGroup/data/rurality/step2_2017.csv',index=None)"
   ]
  },
  {
   "cell_type": "code",
   "execution_count": null,
   "metadata": {},
   "outputs": [],
   "source": [
    "# Explore UI_CODE, RUC_CODE, and RUCA_CODE"
   ]
  },
  {
   "cell_type": "code",
   "execution_count": null,
   "metadata": {},
   "outputs": [],
   "source": [
    "import pandas as pd\n",
    "dfx = pd.read_csv('/InfoGroup/data/rurality/step2_2017.csv',dtype=object)"
   ]
  },
  {
   "cell_type": "code",
   "execution_count": null,
   "metadata": {},
   "outputs": [],
   "source": [
    "print('Missing in UI:', str(len(dfx[dfx['UI_CODE'].isnull()])))\n",
    "print('Missing in RUC:', str(len(dfx[dfx['RUC_CODE'].isnull()])))\n",
    "print('Missing in RUCA:', str(len(dfx[dfx['RUCA_CODE'].isnull()])))"
   ]
  },
  {
   "cell_type": "code",
   "execution_count": null,
   "metadata": {},
   "outputs": [],
   "source": [
    "dfx['UI_CODE'].value_counts(normalize=True) * 100"
   ]
  },
  {
   "cell_type": "code",
   "execution_count": null,
   "metadata": {},
   "outputs": [],
   "source": [
    "dfx['RUC_CODE'].value_counts(normalize=True) * 100"
   ]
  },
  {
   "cell_type": "code",
   "execution_count": null,
   "metadata": {},
   "outputs": [],
   "source": [
    "dfx['RUCA_CODE'].value_counts(normalize=True) * 100"
   ]
  },
  {
   "cell_type": "code",
   "execution_count": null,
   "metadata": {},
   "outputs": [],
   "source": []
  }
 ],
 "metadata": {
  "kernelspec": {
   "display_name": "Python 3",
   "language": "python",
   "name": "python3"
  }
 },
 "nbformat": 4,
 "nbformat_minor": 2
}
