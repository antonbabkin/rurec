{
 "cells": [
  {
   "cell_type": "markdown",
   "metadata": {},
   "source": [
    "<p>The purpose of step 2 is to create values for each InfoGroup record based on the OMB's Urban Area concept.</p>"
   ]
  },
  {
   "cell_type": "code",
   "execution_count": null,
   "metadata": {},
   "outputs": [],
   "source": [
    "import pandas as pd\n",
    "import geopandas as gpd\n",
    "\n",
    "import warnings\n",
    "warnings.filterwarnings(\"ignore\")"
   ]
  },
  {
   "cell_type": "raw",
   "metadata": {},
   "source": [
    "'all_tracts.csv' is a locally processed file starting with shapefiles for OMB Urban Areas \n",
    "and census tracts. The centroid location of each census tract was computed and from that \n",
    "data point and the coordinate dimensions of each urban area, the 'parental' urban area, if \n",
    "any, of each census tract was determined. This was an extrememly machine-intensive process.\n",
    "\n",
    "OMB Urban Areas and census tracts are defined by entirely different criteria. Even though\n",
    "census tracts are on average much smaller than urban areas, each can overlap several of the \n",
    "other. The purpose here is to identify 'rural' census tracts, defined as those whose centroid point does not fall within any urban area. A census tract has a 'parental' urban\n",
    "area if its centroid point does fall within an urban area, either an urbanized area or a\n",
    "smaller urban cluster.\n",
    "\n",
    "The all_tracts.csv file contains one record per census tract and the identifying information \n",
    "for the single 'parental' urban area, if there is one. The records for rural tracts are \n",
    "coded '1' in the 'rural_tract' variable, which indicates a missing value for the Urban Area\n",
    "identifier, 'UA_GEOID10'. 'UATYP10' identifies the type of the parental urban area: \n",
    "'U' = urbanized area, 'C'= urban cluster.\n",
    "\n",
    "This file is the source data for the 'rural_tract' variable added in this step to the\n",
    "basic InfoGroup extract created in step 1. It is also the source for the 'UA Code' and\n",
    "'UA Type' variables, understood to apply to the 'parental' urban area. Since a census\n",
    "tract can overlap multiple urban areas, it is not necessarily true that the urban area\n",
    "identified by the 'UA Code' and 'UA Type' variables is the one in which the InfoGroup\n",
    "establishment itself is actually located, though in nearly every case it would be.\n",
    "\n",
    "It would be possible to locate each InfoGroup record in an urban area by computing whether\n",
    "the establishment's spatial coordinates lie within the polygon of coordinates specified in\n",
    "the urban area shapefile. However, our focus is on the rural economy and that computation,\n",
    "for all establishments over two decades, would consume an extraordinary amount of calendar \n",
    "time and computational resources."
   ]
  },
  {
   "cell_type": "code",
   "execution_count": null,
   "metadata": {},
   "outputs": [],
   "source": [
    "tract_df = pd.read_csv('/InfoGroup/data/rurality/reference/geographical/points-in-polygons/data/all_tracts.csv',\n",
    "                 dtype=object)\n",
    "tract_gdf = gpd.GeoDataFrame(tract_df)"
   ]
  },
  {
   "cell_type": "code",
   "execution_count": null,
   "metadata": {},
   "outputs": [],
   "source": [
    "yr = 2017\n",
    "df = pd.read_csv(f'/InfoGroup/data/rurality/step1_{yr}.csv',dtype=object)"
   ]
  },
  {
   "cell_type": "code",
   "execution_count": null,
   "metadata": {},
   "outputs": [],
   "source": [
    "tract_df = pd.DataFrame(tract_gdf[['GEOID','UA_GEOID10','UATYP10','rural_tract']],dtype=object)\n",
    "tract_df.rename(columns={'UA_GEOID10':'UA Code','UATYP10':'UA Type'},inplace=True)"
   ]
  },
  {
   "cell_type": "code",
   "execution_count": null,
   "metadata": {},
   "outputs": [],
   "source": [
    "merged = df.merge(tract_df,how='inner',left_on='Full Census Tract',right_on='GEOID',indicator=True)"
   ]
  },
  {
   "cell_type": "markdown",
   "metadata": {},
   "source": [
    "-----------\n",
    "\n",
    "validation\n",
    "\n",
    "-----------"
   ]
  },
  {
   "cell_type": "code",
   "execution_count": null,
   "metadata": {},
   "outputs": [],
   "source": [
    "merged['_merge'].value_counts()"
   ]
  },
  {
   "cell_type": "code",
   "execution_count": null,
   "metadata": {},
   "outputs": [],
   "source": [
    "len(merged[merged['UA Code'].isnull()])"
   ]
  },
  {
   "cell_type": "code",
   "execution_count": null,
   "metadata": {},
   "outputs": [],
   "source": [
    "merged['rural_tract'].value_counts()"
   ]
  },
  {
   "cell_type": "code",
   "execution_count": null,
   "metadata": {},
   "outputs": [],
   "source": [
    "merged['rural_tract'].value_counts(normalize=True) * 100"
   ]
  },
  {
   "cell_type": "markdown",
   "metadata": {},
   "source": [
    "--------------\n",
    "\n",
    "end of validation\n",
    "\n",
    "--------------"
   ]
  },
  {
   "cell_type": "code",
   "execution_count": null,
   "metadata": {},
   "outputs": [],
   "source": [
    "merged.drop(columns=['_merge','GEOID'],inplace=True)"
   ]
  },
  {
   "cell_type": "code",
   "execution_count": null,
   "metadata": {},
   "outputs": [],
   "source": [
    "merged.to_csv(f'/InfoGroup/data/rurality/step2_{yr}.csv',index=None)"
   ]
  },
  {
   "cell_type": "code",
   "execution_count": null,
   "metadata": {},
   "outputs": [],
   "source": []
  }
 ],
 "metadata": {
  "kernelspec": {
   "display_name": "Python 3",
   "language": "python",
   "name": "python3"
  }
 },
 "nbformat": 4,
 "nbformat_minor": 2
}
