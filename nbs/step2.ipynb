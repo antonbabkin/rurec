{
 "cells": [
  {
   "cell_type": "code",
   "execution_count": null,
   "metadata": {},
   "outputs": [],
   "source": [
    "import pandas as pd\n",
    "import numpy as np\n",
    "import re\n",
    "from datetime import datetime\n",
    "\n",
    "import warnings\n",
    "warnings.filterwarnings(\"ignore\")"
   ]
  },
  {
   "cell_type": "markdown",
   "metadata": {},
   "source": [
    "## Main functions"
   ]
  },
  {
   "cell_type": "code",
   "execution_count": null,
   "metadata": {},
   "outputs": [],
   "source": [
    "def create_df(yr):\n",
    "    \"\"\" Create a dataframe from the csv file saved in step 1. \"\"\"\n",
    "    return pd.read_csv(f'/InfoGroup/data/rurality/step1_{yr}.csv',dtype=object)\n",
    "    \n",
    "def new_vars(df):\n",
    "    \"\"\" Create new variables 'UA Code', 'UA Type' and 'Full Census Tract' \"\"\"\n",
    "    print(f'rural/urban by OMB standard:',file=logfile)\n",
    "    df['UA Code'] = df['CBSA Code'].apply(find_ua)\n",
    "    \n",
    "    showtime('\\tnew_vars UA Code')\n",
    "    df['UA Type'] = df['UA Code'].apply(get_ua_type)\n",
    "    showtime('\\tnew_vars UA Type')\n",
    "    print(df['UA Type'].value_counts(),file=logfile)\n",
    "    print(df['UA Type'].value_counts(normalize=True) * 100,file=logfile)\n",
    "    \n",
    "    df['Census Tract'].fillna('999999',inplace=True)\n",
    "    df['FIPS Code'].fillna('99999',inplace=True)\n",
    "    df['Full Census Tract'] = df.apply(full_tract,axis=1)\n",
    "    showtime('\\tnew_vars Full Census Tract')\n",
    "    return df\n"
   ]
  },
  {
   "cell_type": "markdown",
   "metadata": {},
   "source": [
    "## Little functions"
   ]
  },
  {
   "cell_type": "code",
   "execution_count": null,
   "metadata": {},
   "outputs": [],
   "source": [
    "def find_ua(code):\n",
    "    \"\"\"Get the UA code that matches a particular CBSA code in the census relationship file.\"\"\"\n",
    "    for pair in pairs:\n",
    "        if pair[1] == code:\n",
    "            return pair[0]\n",
    "\n",
    "def ua_type(place):\n",
    "    \"\"\"Create the UA Type value by skimming the last two words off the \n",
    "       relationship file's UANAME value.\n",
    "    \"\"\"\n",
    "    if place.find('Not in a 2010 urban area') != -1:\n",
    "        return np.nan\n",
    "    else:\n",
    "        list = re.findall(\"(\\S+)\",place)\n",
    "        return ' '.join(list[len(list)-2:])\n",
    "\n",
    "def get_ua_type(code):\n",
    "    \"\"\"Return the UA Type value for a UA Code.\"\"\"\n",
    "    try:\n",
    "        return ua_type_dict[code]\n",
    "    except KeyError:\n",
    "        return np.nan\n",
    "\n",
    "def full_tract(row):\n",
    "    if row['FIPS Code'] == 99999 or row['Census Tract'] == 999999:\n",
    "        return np.nan\n",
    "    else:\n",
    "        return str(row['FIPS Code']) + str(row['Census Tract'])\n",
    "        \n",
    "def showtime(num):\n",
    "    now = datetime.now()\n",
    "    dt_string = now.strftime(\"%d/%m/%Y %H:%M:%S\")\n",
    "    print(str(num),'  ',dt_string)\t"
   ]
  },
  {
   "cell_type": "markdown",
   "metadata": {},
   "source": [
    "## Reference datasets and derived data structures"
   ]
  },
  {
   "cell_type": "code",
   "execution_count": null,
   "metadata": {},
   "outputs": [],
   "source": [
    "# Census relationship files: CBSAs to counties\n",
    "cbsa_df = pd.read_csv(f'/home/tflory/notebooks/InfoGroup/rurality/Relationship_Files/cbsa-county-relationships-2017.csv',usecols=['STCOU','CBSA','LSAD'])\n",
    "cbsa_df.fillna('-9',inplace=True)\n",
    "cbsa_df.rename(columns={'STCOU':'FIPS Code'},inplace=True)\n",
    "cbsa_df['FIPS Code'] = cbsa_df['FIPS Code'].astype(int)\n",
    "\n",
    "# Census relationship files: Urban Areas to CBSAs\n",
    "relationship = '/home/tflory/notebooks/InfoGroup/rurality/Relationship_Files/Urban_Area_to_Metro_Micro_Area_utf-8.csv'\n",
    "rel = pd.read_csv(relationship,dtype=object)\n",
    "rel['UA Type'] = rel['UANAME'].apply(ua_type)\n",
    "\n",
    "# Make a list of lists of all the UA/CBSA pairs in the relationship file.\n",
    "pairs = rel[['UA','CBSA']].values.tolist()\n",
    "# Create a dict with the UA as key and the UA Type as value.\n",
    "ua_type_dict = {}\n",
    "for v in rel[['UA','UA Type']].values.tolist():\n",
    "    ua_type_dict[v[0]] = v[1]"
   ]
  },
  {
   "cell_type": "markdown",
   "metadata": {},
   "source": [
    "## Main"
   ]
  },
  {
   "cell_type": "code",
   "execution_count": null,
   "metadata": {},
   "outputs": [],
   "source": [
    "# open log file\n",
    "logfile = open('/InfoGroup/data/rurality/logs/step2.log','w')"
   ]
  },
  {
   "cell_type": "code",
   "execution_count": null,
   "metadata": {},
   "outputs": [],
   "source": [
    "for yr in range(1997,2018):\n",
    "    showtime(f'\\nstart {yr}:')\n",
    "    df = create_df(yr)\n",
    "    showtime('create_df')\n",
    "    newvars_df = new_vars(df)\n",
    "    showtime('new_vars')\n",
    "    newvars_df.to_csv(f'/InfoGroup/data/rurality/step2_{yr}.csv',index=None)\n",
    "    showtime('finished')"
   ]
  },
  {
   "cell_type": "code",
   "execution_count": null,
   "metadata": {},
   "outputs": [],
   "source": [
    "logfile.close()"
   ]
  },
  {
   "cell_type": "code",
   "execution_count": null,
   "metadata": {},
   "outputs": [],
   "source": []
  }
 ],
 "metadata": {
  "kernelspec": {
   "display_name": "Python 3",
   "language": "python",
   "name": "python3"
  }
 },
 "nbformat": 4,
 "nbformat_minor": 2
}
