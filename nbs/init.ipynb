{
 "cells": [
  {
   "cell_type": "markdown",
   "id": "290058fc-d141-4e60-ac95-101571e480a8",
   "metadata": {},
   "source": [
    "# Initialization\n",
    "\n",
    "Run this notebook to initialize your local repository after cloning. It is safe to run multiple times."
   ]
  },
  {
   "cell_type": "markdown",
   "id": "a0e84202-5632-428d-a7eb-cc2af9b9ca46",
   "metadata": {},
   "source": [
    "## Symbolic links"
   ]
  },
  {
   "cell_type": "code",
   "execution_count": null,
   "id": "2747e595-81c9-448d-bf4d-c7ee22e64c16",
   "metadata": {},
   "outputs": [],
   "source": [
    "import os\n",
    "from pathlib import Path\n",
    "lib_dir = Path('../rurec')\n",
    "assert lib_dir.exists() and lib_dir.is_dir()\n",
    "lib_link = Path('rurec')\n",
    "lib_link.unlink(missing_ok=True)\n",
    "os.symlink(lib_dir, lib_link, target_is_directory=True)\n",
    "\n",
    "for submod in ['reseng']:\n",
    "    submod_dir = Path(f'../submodules/{submod}/{submod}')\n",
    "    assert submod_dir.exists() and submod_dir.is_dir()\n",
    "    submod_link = lib_dir/submod\n",
    "    submod_link.unlink(missing_ok=True)\n",
    "    os.symlink(submod_dir, submod_link, target_is_directory=True)\n",
    "    \n",
    "# test imports\n",
    "import rurec\n",
    "import rurec.reseng"
   ]
  },
  {
   "cell_type": "markdown",
   "id": "62177efd-29b6-4d37-be10-b2e7cd6fca31",
   "metadata": {},
   "source": [
    "## Git configuration"
   ]
  },
  {
   "cell_type": "code",
   "execution_count": null,
   "id": "32d48291-af80-4650-9abc-dd19559ca234",
   "metadata": {},
   "outputs": [],
   "source": [
    "from rurec.reseng.config import Paths\n",
    "root = Paths().root\n",
    "pwd = Path().resolve()\n",
    "\n",
    "%cd {root}\n",
    "!nbdime config-git --enable\n",
    "!git config filter.jupyternotebook.clean \"jupyter nbconvert --stdin --stdout --to=notebook --ClearOutputPreprocessor.enabled=True --ClearMetadataPreprocessor.enabled=True --log-level=ERROR\"\n",
    "!git config filter.jupyternotebook.smudge cat\n",
    "!git config filter.jupyternotebook.required true\n",
    "!git config diff.jupyternotebook.command \"git-nbdiffdriver diff --ignore-outputs --ignore-metadata --ignore-details\"\n",
    "%cd {pwd}"
   ]
  }
 ],
 "metadata": {
  "language_info": {
   "name": "python"
  }
 },
 "nbformat": 4,
 "nbformat_minor": 5
}
