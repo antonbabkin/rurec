{
 "cells": [
  {
   "cell_type": "markdown",
   "id": "acknowledged-translation",
   "metadata": {},
   "source": [
    "# Economic rurality by state"
   ]
  },
  {
   "cell_type": "markdown",
   "id": "delayed-lafayette",
   "metadata": {},
   "source": [
    "[Leaflet.js docs](https://leafletjs.com/reference-1.7.1.html) - specification of `style` arguments."
   ]
  },
  {
   "cell_type": "code",
   "execution_count": null,
   "id": "stable-scratch",
   "metadata": {},
   "outputs": [],
   "source": [
    "from pathlib import Path\n",
    "\n",
    "import ipywidgets as widgets\n",
    "import ipyleaflet as leaflet\n",
    "import branca.colormap\n",
    "import numpy as np\n",
    "import pandas as pd\n",
    "import joblib\n",
    "import json\n",
    "import geopandas\n",
    "import shapely\n",
    "import matplotlib.pyplot as plt\n",
    "\n",
    "from rurec import rurality\n",
    "from rurec import geo_gazetteer\n",
    "from rurec import ers_codes"
   ]
  },
  {
   "cell_type": "code",
   "execution_count": null,
   "id": "amber-japan",
   "metadata": {},
   "outputs": [],
   "source": [
    "memory = joblib.Memory('../cache')\n",
    "# memory = joblib.Memory()"
   ]
  },
  {
   "cell_type": "code",
   "execution_count": null,
   "id": "imported-infrared",
   "metadata": {},
   "outputs": [],
   "source": [
    "def simplecache(path):\n",
    "    def wrapper(func):\n",
    "        def wrapped(*args, **kwargs):\n",
    "            p = Path(path)\n",
    "            if p.exists():\n",
    "                print(f'reading cache {path!r}')\n",
    "                return joblib.load(p)\n",
    "            else:\n",
    "                res = func(*args, **kwargs)\n",
    "                print(f'writing cache {path!r}')\n",
    "                joblib.dump(res, path)\n",
    "                return res\n",
    "        return wrapped\n",
    "    return wrapper\n",
    "\n",
    "try:\n",
    "    p = Path('../tmp/test.pkl')\n",
    "    @simplecache(p)\n",
    "    def test_simplecache():\n",
    "        print('--> calculating')\n",
    "        return 1\n",
    "    \n",
    "    print('calculate')\n",
    "    assert test_simplecache() == 1\n",
    "    print('load cache')\n",
    "    assert test_simplecache() == 1\n",
    "    Path('../tmp/test.pkl').unlink()\n",
    "    print('calculate')\n",
    "    assert test_simplecache() == 1\n",
    "finally:\n",
    "    p.unlink()"
   ]
  },
  {
   "cell_type": "markdown",
   "id": "individual-clause",
   "metadata": {},
   "source": [
    "## prepare data"
   ]
  },
  {
   "cell_type": "markdown",
   "id": "quiet-plain",
   "metadata": {},
   "source": [
    "## Geography and population"
   ]
  },
  {
   "cell_type": "code",
   "execution_count": null,
   "id": "structured-rebel",
   "metadata": {},
   "outputs": [],
   "source": [
    "@memory.cache\n",
    "def download_cbsa_boundaries():\n",
    "    return geopandas.read_file('https://www2.census.gov/geo/tiger/GENZ2019/shp/cb_2019_us_cbsa_20m.zip')\n",
    "\n",
    "@memory.cache\n",
    "def download_county_boundaries():\n",
    "    return geopandas.read_file('https://www2.census.gov/geo/tiger/GENZ2018/shp/cb_2018_us_county_20m.zip')\n",
    "\n",
    "@memory.cache\n",
    "def download_tract_boundaries():\n",
    "    return geopandas.read_file('https://www2.census.gov/geo/tiger/GENZ2019/shp/cb_2019_us_tract_500k.zip')\n"
   ]
  },
  {
   "cell_type": "code",
   "execution_count": null,
   "id": "surgical-party",
   "metadata": {},
   "outputs": [],
   "source": [
    "def prep_cbsa():\n",
    "    df = download_cbsa_boundaries()[['CBSAFP', 'NAME', 'LSAD', 'geometry']]\n",
    "    df = df.rename(columns={'CBSAFP': 'CBSA_CODE', 'NAME': 'CBSA_NAME', 'LSAD': 'CBSA_LEVEL'})\n",
    "    df['CBSA_LABEL'] = df['CBSA_LEVEL'].map({'M1': 'Metropolitan', 'M2': 'Micropolitan'})\n",
    "    df['CBSA_COLORCODE'] = df['CBSA_LEVEL'].map({'M1': 1, 'M2': 0.5})\n",
    "    df['RURAL_CBSA'] = df['CBSA_LEVEL'].map(data['CBSA']['rural levels']).fillna(True)\n",
    "    return df\n",
    "\n",
    "\n",
    "def prep_county():\n",
    "    df = download_county_boundaries()\n",
    "    df = df.drop(columns=['COUNTYNS', 'AFFGEOID', 'LSAD', 'ALAND', 'AWATER'])\n",
    "    df = df.rename(columns={'STATEFP': 'STATE_CODE', 'COUNTYFP': 'COUNTY_CODE', 'GEOID': 'STATECOUNTY_CODE', 'NAME': 'COUNTY_NAME'})\n",
    "    df['STATE_ABBR'] = df['STATE_CODE'].map(geo_gazetteer.get_mapping('STATE_CODE', 'STATE_ABBR'))\n",
    "    df['STATE_NAME'] = df['STATE_CODE'].map(geo_gazetteer.get_mapping('STATE_CODE', 'STATE_NAME'))\n",
    "    df0 = df\n",
    "    \n",
    "    df = ers_codes.get_ui_df()\n",
    "    df = df.rename(columns={'FIPS': 'STATECOUNTY_CODE', 'UI_CODE': 'UI_LEVEL', 'UI_CODE_DESCRIPTION': 'UI_LABEL'})\n",
    "    df = df[df['UI_YEAR'] == 2013]\n",
    "    df = df[['STATECOUNTY_CODE', 'UI_LEVEL', 'UI_LABEL']]\n",
    "    df['UI_COLORCODE'] = (df['UI_LEVEL'].astype(int) - 1) / 11\n",
    "    df['RURAL_UI'] = df['UI_LEVEL'].map(data['UI']['rural levels'])\n",
    "    df0 = df0.merge(df, 'left', 'STATECOUNTY_CODE')\n",
    "    \n",
    "    df = ers_codes.get_ruc_df()\n",
    "    df = df.rename(columns={'FIPS': 'STATECOUNTY_CODE', 'RUC_CODE': 'RUC_LEVEL', 'RUC_CODE_DESCRIPTION': 'RUC_LABEL'})\n",
    "    df = df[df['RUC_YEAR'] == 2013]\n",
    "    df = df[['STATECOUNTY_CODE', 'RUC_LEVEL', 'RUC_LABEL']]\n",
    "    df['RUC_COLORCODE'] = df['RUC_LEVEL'].astype(int) / 9\n",
    "    df['RURAL_RUC'] = df['RUC_LEVEL'].map(data['RUC']['rural levels'])\n",
    "    df0 = df0.merge(df, 'left', 'STATECOUNTY_CODE')\n",
    "    \n",
    "    return df0\n",
    "\n",
    "def prep_tract():\n",
    "    df = download_tract_boundaries()[['STATEFP', 'COUNTYFP', 'TRACTCE', 'geometry']]\n",
    "    df = df.rename(columns={'STATEFP': 'STATE_CODE', 'COUNTYFP': 'COUNTY_CODE', 'TRACTCE': 'TRACT_CODE'})\n",
    "    df['STATE_ABBR'] = df['STATE_CODE'].map(geo_gazetteer.get_mapping('STATE_CODE', 'STATE_ABBR'))\n",
    "    df['STATE_NAME'] = df['STATE_CODE'].map(geo_gazetteer.get_mapping('STATE_CODE', 'STATE_NAME'))\n",
    "    df0 = df\n",
    "    \n",
    "    df = ers_codes.get_ruca_df()\n",
    "    df = df[df['YEAR'] == 2010]\n",
    "    df['STATE_CODE'] = df['FIPS'].str[:2]\n",
    "    df['COUNTY_CODE'] = df['FIPS'].str[2:5]\n",
    "    df['TRACT_CODE'] = df['FIPS'].str[5:]\n",
    "    df = df[['STATE_CODE', 'COUNTY_CODE', 'TRACT_CODE', 'RUCA_CODE']]\n",
    "    primary = df['RUCA_CODE'].astype('float32').round().replace({99: np.nan})\n",
    "    df['RUCA_COLORCODE'] = ((primary - 1) / 9).fillna(1)\n",
    "    df['RURAL_RUCA'] = primary.map(data['RUCA']['rural levels'])\n",
    "    df0 = df0.merge(df, 'left', ['STATE_CODE', 'COUNTY_CODE', 'TRACT_CODE'])\n",
    "    \n",
    "    return df0"
   ]
  },
  {
   "cell_type": "code",
   "execution_count": null,
   "id": "verbal-slide",
   "metadata": {},
   "outputs": [],
   "source": [
    "def prep_county_fai():\n",
    "    df = download_county_boundaries()[['geometry', 'GEOID']]\n",
    "    df = df.rename(columns={'GEOID': 'STATECOUNTY_CODE'})\n",
    "\n",
    "    d = data['county FAI share']\n",
    "    d = d.to_frame('FAI_EMP_SHARE').reset_index().dropna(subset=['FAI_EMP_SHARE'])\n",
    "    d = d[d['YEAR'] == d['YEAR'].max()]\n",
    "    df = df.merge(d, 'right', 'STATECOUNTY_CODE')\n",
    "    return df"
   ]
  },
  {
   "cell_type": "code",
   "execution_count": null,
   "id": "protected-modern",
   "metadata": {},
   "outputs": [],
   "source": [
    "def prep_rurality_tables():\n",
    "    df = pd.DataFrame({'DESCRIPTION': ['Metropolitan', 'Micropolitan'], 'RURAL': [False, False]}, index=['M1', 'M2'])\n",
    "    df.index.name = 'CBSA_CODE'\n",
    "    data['CBSA']['rurality table'] = df\n",
    "    \n",
    "    df = ers_codes.get_ui_df()\n",
    "    df = df.loc[df['UI_YEAR'] == 2013, ['UI_CODE', 'UI_CODE_DESCRIPTION']]\n",
    "    df = df.drop_duplicates().rename(columns={'UI_CODE_DESCRIPTION': 'DESCRIPTION'})\n",
    "    df['RURAL'] = df['UI_CODE'].map(data['UI']['rural levels'])\n",
    "    df = df.set_index('UI_CODE').sort_index()\n",
    "    data['UI']['rurality table'] = df\n",
    "    \n",
    "    df = ers_codes.get_ruc_df()\n",
    "    df = df.loc[df['RUC_YEAR'] == 2013, ['RUC_CODE', 'RUC_CODE_DESCRIPTION']]\n",
    "    df = df.drop_duplicates().rename(columns={'RUC_CODE_DESCRIPTION': 'DESCRIPTION'})\n",
    "    df['RURAL'] = df['RUC_CODE'].map(data['RUC']['rural levels'])\n",
    "    df = df.set_index('RUC_CODE').sort_index()\n",
    "    data['RUC']['rurality table'] = df\n",
    "    \n",
    "    df = pd.DataFrame({'DESCRIPTION': [\n",
    "        'Metropolitan area core: primary flow within an urbanized area (UA)',\n",
    "        'Metropolitan area high commuting: primary flow 30% or more to a UA',\n",
    "        'Metropolitan area low commuting: primary flow 10% to 30% to a UA',\n",
    "        'Micropolitan area core: primary flow within an urban cluster of 10,000 to 49,999 (large UC)',\n",
    "        'Micropolitan high commuting: primary flow 30% or more to a large UC',\n",
    "        'Micropolitan low commuting: primary flow 10% to 30% to a large UC',\n",
    "        'Small town core: primary flow within an urban cluster of 2,500 to 9,999 (small UC)',\n",
    "        'Small town high commuting: primary flow 30% or more to a small UC',\n",
    "        'Small town low commuting: primary flow 10% to 30% to a small UC',\n",
    "        'Rural areas: primary flow to a tract outside a UA or UC'],\n",
    "                       'RUCA_CODE': list(range(1, 11))})\n",
    "    df['RURAL'] = df['RUCA_CODE'].map(data['RUCA']['rural levels'])\n",
    "    df = df.set_index('RUCA_CODE').sort_index()\n",
    "    data['RUCA']['rurality table'] = df"
   ]
  },
  {
   "cell_type": "markdown",
   "id": "induced-validity",
   "metadata": {},
   "source": [
    "### economics by year, geography, FAI and rurality"
   ]
  },
  {
   "cell_type": "code",
   "execution_count": null,
   "id": "noble-interim",
   "metadata": {},
   "outputs": [],
   "source": [
    "def compute_econ(years=None, states=None):\n",
    "    cols = ['YEAR', 'STATE', 'FIPS_CODE', 'EMPLOYEES', 'NAICS', 'UI_CODE', 'RUC_CODE', 'RUCA_CODE', 'CBSA_LEVEL']\n",
    "    df = rurality.get_df(years=years, cols=cols, states=states)\n",
    "    df['STATE'] = df['STATE'].cat.remove_unused_categories()\n",
    "    df = df.rename(columns={'STATE': 'STATE_ABBR', \n",
    "                            'FIPS_CODE': 'STATECOUNTY_CODE'})\n",
    "    df['RURAL_CBSA'] = df['CBSA_LEVEL'].isna()\n",
    "    df['RURAL_UI'] = df['UI_CODE'].map(data['UI']['rural levels'])\n",
    "    df['RURAL_RUC'] = df['RUC_CODE'].map(data['RUC']['rural levels'])\n",
    "    df['RURAL_RUCA'] = df['RUCA_CODE'].astype(float).round().map(data['RUCA']['rural levels'])\n",
    "\n",
    "    fai = json.load(open('../data/fai_subsectors.json'))\n",
    "    fai = [c for subsector in fai.values() for c in subsector.keys()]\n",
    "    fai = pd.DataFrame({'NAICS': fai})\n",
    "    fai['FAI'] = True\n",
    "    df['NAICS'] = df['NAICS'].str[:6]\n",
    "    df = df.merge(fai, 'left', 'NAICS')\n",
    "    df['FAI'] = df['FAI'].fillna(False)\n",
    "\n",
    "    for rural_classification in ['CBSA', 'UI', 'RUC', 'RUCA']:\n",
    "        rural_col = f'RURAL_{rural_classification}'\n",
    "        d = df.groupby(['YEAR', 'STATE_ABBR', 'FAI', rural_col])['EMPLOYEES'].agg(['size', 'sum'])\n",
    "        d.columns.name = 'SIZE_MEASURE'\n",
    "        d = d.rename(columns={'size': 'establishments', 'sum': 'employees'})\n",
    "        d = d.stack('SIZE_MEASURE').unstack([rural_col, 'FAI']).sort_index(1)\n",
    "        d = d.apply(lambda c: c / d.sum(1))\n",
    "        data[rural_classification]['econ shares'] = d\n",
    "\n",
    "    d = df.groupby(['YEAR', 'STATE_ABBR', 'STATECOUNTY_CODE', 'FAI'])['EMPLOYEES'].sum()\n",
    "    d = d.unstack('FAI')\n",
    "    d = d[True] / d.sum(1)\n",
    "    data['county FAI share'] = d\n"
   ]
  },
  {
   "cell_type": "code",
   "execution_count": null,
   "id": "external-eugene",
   "metadata": {},
   "outputs": [],
   "source": [
    "# Path('../cache/dashboard_data.pkl').unlink()"
   ]
  },
  {
   "cell_type": "code",
   "execution_count": null,
   "id": "boolean-carry",
   "metadata": {},
   "outputs": [],
   "source": [
    "@simplecache('../cache/dashboard_data.pkl')\n",
    "def prepare_all_data():\n",
    "    compute_econ(years=list(range(1997, 2018, 2)))\n",
    "#     compute_econ(years=list(range(1997, 2018, 2)), states=['WI', 'CT', 'PA'])\n",
    "    data['CBSA']['rural areas'] = prep_cbsa()\n",
    "    data['UI']['rural areas'] = data['RUC']['rural areas'] = prep_county()\n",
    "    data['RUCA']['rural areas'] = prep_tract()\n",
    "    data['county FAI share geo'] = prep_county_fai()\n",
    "    prep_rurality_tables()\n",
    "    return data\n"
   ]
  },
  {
   "cell_type": "code",
   "execution_count": null,
   "id": "taken-noise",
   "metadata": {},
   "outputs": [],
   "source": [
    "data = {\n",
    "    'CBSA': {},\n",
    "    'UI': {},\n",
    "    'RUC': {},\n",
    "    'RUCA': {}\n",
    "}\n",
    "\n",
    "data['CBSA']['rural levels'] = {'M1': False, 'M2': False}\n",
    "data['UI']['rural levels'] = {'1': False, '2': False, '3': False, '4': False, '5': False,\n",
    "                              '6': True, '7': True, '8': True, '9': True, '10': True, '11': True, '12': True}\n",
    "data['RUC']['rural levels'] = {'0': False, '1': False, '2': False, '3': False, '4': False, '6': False, '8': True,\n",
    "                               '5': True, '7': True, '9': True}\n",
    "data['RUCA']['rural levels'] = {x: x == 10 for x in range(1, 11)}\n",
    "\n",
    "data = prepare_all_data()"
   ]
  },
  {
   "cell_type": "markdown",
   "id": "verified-latvia",
   "metadata": {},
   "source": [
    "## dashboard"
   ]
  },
  {
   "cell_type": "code",
   "execution_count": null,
   "id": "forced-guest",
   "metadata": {},
   "outputs": [],
   "source": [
    "pd.options.display.max_colwidth = 200"
   ]
  },
  {
   "cell_type": "code",
   "execution_count": null,
   "id": "whole-solomon",
   "metadata": {},
   "outputs": [],
   "source": [
    "class TableRurality:\n",
    "    def __init__(self):\n",
    "        self.widget = widgets.Output()\n",
    "    \n",
    "    def update(self, rural_classification):\n",
    "        df = data[rural_classification]['rurality table'][['RURAL', 'DESCRIPTION']]\n",
    "        with self.widget:\n",
    "            self.widget.clear_output(True)\n",
    "            display(df)\n",
    "            \n",
    "w_rurality = TableRurality()"
   ]
  },
  {
   "cell_type": "code",
   "execution_count": null,
   "id": "average-awareness",
   "metadata": {},
   "outputs": [],
   "source": [
    "w_rurality.widget"
   ]
  },
  {
   "cell_type": "code",
   "execution_count": null,
   "id": "expected-reporter",
   "metadata": {},
   "outputs": [],
   "source": [
    "class TableShares:\n",
    "    def __init__(self):\n",
    "        self.widget = widgets.Output()\n",
    "    \n",
    "    def update(self, state, rural_classification):\n",
    "        idx = pd.IndexSlice\n",
    "        df = data[rural_classification]['econ shares'].loc[idx[:, state, 'employees'], :].droplevel(['STATE_ABBR', 'SIZE_MEASURE'])\n",
    "        with self.widget:\n",
    "            self.widget.clear_output(True)\n",
    "            print('Share of employment')\n",
    "            display(df.T.style.format('{:.2%}'))\n",
    "            \n",
    "w_shares = TableShares()"
   ]
  },
  {
   "cell_type": "code",
   "execution_count": null,
   "id": "crucial-hotel",
   "metadata": {},
   "outputs": [],
   "source": [
    "w_shares.widget"
   ]
  },
  {
   "cell_type": "code",
   "execution_count": null,
   "id": "valuable-monkey",
   "metadata": {},
   "outputs": [],
   "source": [
    "class Map:\n",
    "    def __init__(self):\n",
    "        self.widget = m = leaflet.Map(center=(38, -95), zoom=4)\n",
    "        m.layout.height = '500px'\n",
    "        m.layout.width = '800px'\n",
    "#         self.legend = leaflet.LegendControl({}, position='topright')\n",
    "#         m.add_control(self.legend)\n",
    "#         self.layers_control = leaflet.LayersControl()\n",
    "#         m.add_control(self.layers_control)\n",
    "        \n",
    "        self.rural_classification = 'CBSA'\n",
    "        self.rural_layer = l = leaflet.GeoJSON()\n",
    "        m.add_layer(l)\n",
    "        \n",
    "        self.fai_layer = leaflet.GeoJSON()\n",
    "        m.add_layer(self.fai_layer)\n",
    "        \n",
    "    def rural_style(self, area):\n",
    "        rural = area['properties'][f'RURAL_{self.rural_classification}']\n",
    "        fc = 'yellow' if rural else 'gray'\n",
    "        return dict(fillColor=fc)\n",
    "    \n",
    "    def replace_rural_layer(self, state, rural_classification):\n",
    "        self.rural_classification = rural_classification\n",
    "        df = data[rural_classification]['rural areas']\n",
    "        if rural_classification == 'CBSA':\n",
    "            df = df[df['CBSA_NAME'].str.contains(state)]\n",
    "        else:\n",
    "            df = df[df['STATE_ABBR'] == state]\n",
    "            \n",
    "        self.widget.remove_layer(self.rural_layer)\n",
    "        self.rural_layer = l = leaflet.GeoJSON(name='Rurality', data=json.loads(df.to_json()), \n",
    "                                               style={'stroke': False, 'fillOpacity': 0.6}, style_callback=self.rural_style)\n",
    "        self.widget.add_layer(l)\n",
    "        self.widget.fit_bounds(self.poly_bounds(df.geometry))\n",
    "        \n",
    "    def fai_style(self, area):\n",
    "        sh = area['properties']['FAI_EMP_SHARE']\n",
    "        stroke = (sh > 0.05)\n",
    "        c = 'red' if sh > 0.1 else 'orange'\n",
    "        return dict(stroke=stroke, color=c)\n",
    "    \n",
    "    def replace_fai_layer(self, state):\n",
    "        df = data['county FAI share geo']\n",
    "        df = df[df['STATE_ABBR'] == state]\n",
    "        self.widget.remove_layer(self.fai_layer)\n",
    "        self.fai_layer = leaflet.GeoJSON(name='FAI', data=json.loads(df.to_json()), \n",
    "                                         style={'weight': 2, 'fill': False}, style_callback=self.fai_style)\n",
    "        self.widget.add_layer(self.fai_layer)\n",
    "        \n",
    "    def update(self, state, rural_classification):\n",
    "        self.replace_rural_layer(state, rural_classification)\n",
    "        self.replace_fai_layer(state)\n",
    "#         self.widget.remove_control(self.layers_control)\n",
    "#         self.layers_control = leaflet.LayersControl()\n",
    "#         self.widget.add_control(self.layers_control)\n",
    "        \n",
    "    \n",
    "    @staticmethod\n",
    "    def poly_bounds(polygons):\n",
    "        polygons = list(polygons)\n",
    "        \"\"\"Bounding box for `ipyleaflet.Map.fit_bounds()`.\"\"\"\n",
    "        xmin, ymin, xmax, ymax = shapely.geometry.MultiPolygon(polygons).bounds\n",
    "        return [[ymin, xmax], [ymax, xmin]]\n",
    "\n",
    "w_map = Map()"
   ]
  },
  {
   "cell_type": "code",
   "execution_count": null,
   "id": "talented-maine",
   "metadata": {},
   "outputs": [],
   "source": [
    "print('Shading: rural = yellow, non-rural = gray.\\nCounty border: FAI employment share between 5% and 10% (orange) or above 10% (red).')\n",
    "w_map.widget"
   ]
  },
  {
   "cell_type": "code",
   "execution_count": null,
   "id": "iraqi-wells",
   "metadata": {},
   "outputs": [],
   "source": [
    "data_states = data['CBSA']['econ shares'].index.get_level_values('STATE_ABBR').categories.tolist()\n",
    "w_state = widgets.Dropdown(description='State', options=sorted(data_states))\n",
    "w_rural_scheme = widgets.RadioButtons(description='Rurality', options=[('Core Based Statistical Area', 'CBSA'), \n",
    "                                                                       ('Rural-Urban Continuum', 'RUC'), \n",
    "                                                                       ('Urban Influence', 'UI'),\n",
    "                                                                       ('Rural-Urban Commuting Area', 'RUCA')])\n",
    "\n",
    "def update(change):\n",
    "    w_rurality.update(w_rural_scheme.value)\n",
    "    w_shares.update(w_state.value, w_rural_scheme.value)\n",
    "    w_map.update(w_state.value, w_rural_scheme.value)\n",
    "    \n",
    "\n",
    "w_state.observe(update, names='value')\n",
    "w_rural_scheme.observe(update, names='value')"
   ]
  },
  {
   "cell_type": "code",
   "execution_count": null,
   "id": "indirect-divide",
   "metadata": {},
   "outputs": [],
   "source": [
    "w_state"
   ]
  },
  {
   "cell_type": "code",
   "execution_count": null,
   "id": "little-chile",
   "metadata": {},
   "outputs": [],
   "source": [
    "w_rural_scheme"
   ]
  }
 ],
 "metadata": {
  "kernelspec": {
   "display_name": "Python 3",
   "language": "python",
   "name": "python3"
  }
 },
 "nbformat": 4,
 "nbformat_minor": 5
}
