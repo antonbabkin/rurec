{
 "cells": [
  {
   "cell_type": "markdown",
   "id": "enormous-kelly",
   "metadata": {},
   "source": [
    "# Economic rurality by state"
   ]
  },
  {
   "cell_type": "markdown",
   "id": "mature-northern",
   "metadata": {},
   "source": [
    "[Leaflet.js docs](https://leafletjs.com/reference-1.7.1.html) - specification of `style` arguments. "
   ]
  },
  {
   "cell_type": "code",
   "execution_count": null,
   "id": "recent-solid",
   "metadata": {},
   "outputs": [],
   "source": [
    "import ipywidgets as widgets\n",
    "import ipyleaflet as leaflet\n",
    "import branca.colormap\n",
    "import pandas as pd\n",
    "import joblib\n",
    "import json\n",
    "import geopandas\n",
    "import shapely\n",
    "import matplotlib.pyplot as plt\n",
    "\n",
    "from rurec import rurality\n",
    "from rurec import geo_gazetteer\n",
    "from rurec import ers_codes"
   ]
  },
  {
   "cell_type": "code",
   "execution_count": null,
   "id": "deadly-correspondence",
   "metadata": {},
   "outputs": [],
   "source": [
    "memory = joblib.Memory('../cache')"
   ]
  },
  {
   "cell_type": "markdown",
   "id": "orange-northwest",
   "metadata": {},
   "source": [
    "## prepare data"
   ]
  },
  {
   "cell_type": "code",
   "execution_count": null,
   "id": "specified-swift",
   "metadata": {},
   "outputs": [],
   "source": [
    "data = {\n",
    "    'CBSA': {},\n",
    "    'UI': {},\n",
    "    'RUC': {}\n",
    "}"
   ]
  },
  {
   "cell_type": "markdown",
   "id": "talented-camcorder",
   "metadata": {},
   "source": [
    "### rurality"
   ]
  },
  {
   "cell_type": "code",
   "execution_count": null,
   "id": "greatest-plasma",
   "metadata": {},
   "outputs": [],
   "source": [
    "data['CBSA']['rural levels'] = {'M1': False, 'M2': False}\n",
    "data['UI']['rural levels'] = {'1': False, '2': False, '3': False, '4': False, '5': False,\n",
    "                              '6': True, '7': True, '8': True, '9': True, '10': True, '11': True, '12': True}\n",
    "data['RUC']['rural levels'] = {'0': False, '1': False, '2': False, '3': False, '4': False, '6': False, '8': True,\n",
    "                               '5': True, '7': True, '9': True}"
   ]
  },
  {
   "cell_type": "markdown",
   "id": "scheduled-fusion",
   "metadata": {},
   "source": [
    "### economics by year, geography, FAI and rurality"
   ]
  },
  {
   "cell_type": "code",
   "execution_count": null,
   "id": "stupid-checklist",
   "metadata": {},
   "outputs": [],
   "source": [
    "years = [1997, 2007, 2017]\n",
    "# states = ['WI', 'CT']\n",
    "states = None\n",
    "cols = ['YEAR', 'STATE', 'FIPS_CODE', 'EMPLOYEES', 'NAICS', 'UI_CODE', 'RUC_CODE', 'CBSA_LEVEL']\n",
    "df = rurality.get_df(years=years, cols=cols, states=states)\n",
    "df['STATE'] = df['STATE'].cat.remove_unused_categories()\n",
    "df = df.rename(columns={'STATE': 'STATE_ABBR', \n",
    "                        'FIPS_CODE': 'STATECOUNTY_CODE'})\n",
    "df['RURAL_CBSA'] = df['CBSA_LEVEL'].map(data['CBSA']['rural levels']).fillna(True)\n",
    "df['RURAL_UI'] = df['UI_CODE'].map(data['UI']['rural levels'])\n",
    "df['RURAL_RUC'] = df['RUC_CODE'].map(data['RUC']['rural levels'])\n",
    "\n",
    "fai = json.load(open('../data/fai_subsectors.json'))\n",
    "fai = [c for subsector in fai.values() for c in subsector.keys()]\n",
    "fai = pd.DataFrame({'NAICS': fai})\n",
    "fai['FAI'] = True\n",
    "df['NAICS'] = df['NAICS'].str[:6]\n",
    "df = df.merge(fai, 'left', 'NAICS')\n",
    "df['FAI'] = df['FAI'].fillna(False)\n",
    "\n",
    "for rural_classification in ['CBSA', 'UI', 'RUC']:\n",
    "    rural_col = f'RURAL_{rural_classification}'\n",
    "    d = df.groupby(['YEAR', 'STATE_ABBR', 'FAI', rural_col])['EMPLOYEES'].agg(['size', 'sum'])\n",
    "    d.columns.name = 'SIZE_MEASURE'\n",
    "    d = d.rename(columns={'size': 'establishments', 'sum': 'employees'})\n",
    "    d = d.stack('SIZE_MEASURE').unstack([rural_col, 'FAI']).sort_index(1)\n",
    "    d = d.apply(lambda c: c / d.sum(1))\n",
    "    data[rural_classification]['econ shares'] = d\n",
    "\n",
    "d = df.groupby(['YEAR', 'STATE_ABBR', 'STATECOUNTY_CODE', 'FAI'])['EMPLOYEES'].sum()\n",
    "d = d.unstack('FAI')\n",
    "d = d[True] / d.sum(1)\n",
    "data['county FAI share'] = d\n",
    "\n",
    "joblib.dump(data, '../cache/voila.pkl')"
   ]
  },
  {
   "cell_type": "code",
   "execution_count": null,
   "id": "liberal-subscriber",
   "metadata": {},
   "outputs": [],
   "source": [
    "data = joblib.load('../cache/voila.pkl')"
   ]
  },
  {
   "cell_type": "markdown",
   "id": "affiliated-honey",
   "metadata": {},
   "source": [
    "## Geography and population"
   ]
  },
  {
   "cell_type": "code",
   "execution_count": null,
   "id": "foster-direction",
   "metadata": {},
   "outputs": [],
   "source": [
    "@memory.cache\n",
    "def download_cbsa_boundaries():\n",
    "    return geopandas.read_file('https://www2.census.gov/geo/tiger/GENZ2019/shp/cb_2019_us_cbsa_20m.zip')\n",
    "\n",
    "@memory.cache\n",
    "def download_county_boundaries():\n",
    "    return geopandas.read_file('https://www2.census.gov/geo/tiger/GENZ2018/shp/cb_2018_us_county_20m.zip')\n"
   ]
  },
  {
   "cell_type": "code",
   "execution_count": null,
   "id": "environmental-quilt",
   "metadata": {},
   "outputs": [],
   "source": [
    "def prep_cbsa():\n",
    "    df = download_cbsa_boundaries()[['CBSAFP', 'NAME', 'LSAD', 'geometry']]\n",
    "    df = df.rename(columns={'CBSAFP': 'CBSA_CODE', 'NAME': 'CBSA_NAME', 'LSAD': 'CBSA_LEVEL'})\n",
    "    df['CBSA_LABEL'] = df['CBSA_LEVEL'].map({'M1': 'Metropolitan', 'M2': 'Micropolitan'})\n",
    "    df['CBSA_COLORCODE'] = df['CBSA_LEVEL'].map({'M1': 1, 'M2': 0.5})\n",
    "    df['RURAL_CBSA'] = df['CBSA_LEVEL'].map(data['CBSA']['rural levels']).fillna(True)\n",
    "    return df\n",
    "\n",
    "\n",
    "def prep_county():\n",
    "    df = download_county_boundaries()\n",
    "    df = df.drop(columns=['COUNTYNS', 'AFFGEOID', 'LSAD', 'ALAND', 'AWATER'])\n",
    "    df = df.rename(columns={'STATEFP': 'STATE_CODE', 'COUNTYFP': 'COUNTY_CODE', 'GEOID': 'STATECOUNTY_CODE', 'NAME': 'COUNTY_NAME'})\n",
    "    df['STATE_ABBR'] = df['STATE_CODE'].map(geo_gazetteer.get_mapping('STATE_CODE', 'STATE_ABBR'))\n",
    "    df['STATE_NAME'] = df['STATE_CODE'].map(geo_gazetteer.get_mapping('STATE_CODE', 'STATE_NAME'))\n",
    "    df0 = df\n",
    "    \n",
    "    df = ers_codes.get_ui_df()\n",
    "    df = df.rename(columns={'FIPS': 'STATECOUNTY_CODE', 'UI_CODE': 'UI_LEVEL', 'UI_CODE_DESCRIPTION': 'UI_LABEL'})\n",
    "    df = df[df['UI_YEAR'] == 2013]\n",
    "    df = df[['STATECOUNTY_CODE', 'UI_LEVEL', 'UI_LABEL']]\n",
    "    df['UI_COLORCODE'] = (df['UI_LEVEL'].astype(int) - 1) / 11\n",
    "    df['RURAL_UI'] = df['UI_LEVEL'].map(data['UI']['rural levels'])\n",
    "    df0 = df0.merge(df, 'left', 'STATECOUNTY_CODE')\n",
    "    \n",
    "    df = ers_codes.get_ruc_df()\n",
    "    df = df.rename(columns={'FIPS': 'STATECOUNTY_CODE', 'RUC_CODE': 'RUC_LEVEL', 'RUC_CODE_DESCRIPTION': 'RUC_LABEL'})\n",
    "    df = df[df['RUC_YEAR'] == 2013]\n",
    "    df = df[['STATECOUNTY_CODE', 'RUC_LEVEL', 'RUC_LABEL']]\n",
    "    df['RUC_COLORCODE'] = df['RUC_LEVEL'].astype(int) / 9\n",
    "    df['RURAL_RUC'] = df['RUC_LEVEL'].map(data['RUC']['rural levels'])\n",
    "    df0 = df0.merge(df, 'left', 'STATECOUNTY_CODE')\n",
    "    \n",
    "    return df0\n",
    "\n",
    "data['CBSA']['rural areas'] = prep_cbsa()\n",
    "data['UI']['rural areas'] = data['RUC']['rural areas'] = prep_county()"
   ]
  },
  {
   "cell_type": "code",
   "execution_count": null,
   "id": "worldwide-skirt",
   "metadata": {},
   "outputs": [],
   "source": [
    "def prep_county_fai():\n",
    "    df = download_county_boundaries()[['geometry', 'GEOID']]\n",
    "    df = df.rename(columns={'GEOID': 'STATECOUNTY_CODE'})\n",
    "\n",
    "    d = data['county FAI share']\n",
    "    d = d.to_frame('FAI_EMP_SHARE').reset_index().dropna(subset=['FAI_EMP_SHARE'])\n",
    "    df = df.merge(d, 'right', 'STATECOUNTY_CODE')\n",
    "    return df\n",
    "\n",
    "data['county FAI share geo'] = prep_county_fai()"
   ]
  },
  {
   "cell_type": "markdown",
   "id": "intended-december",
   "metadata": {},
   "source": [
    "## dashboard"
   ]
  },
  {
   "cell_type": "code",
   "execution_count": null,
   "id": "marked-circulation",
   "metadata": {},
   "outputs": [],
   "source": [
    "class TableShares:\n",
    "    def __init__(self):\n",
    "        self.widget = widgets.Output()\n",
    "    \n",
    "    def update(self, state, rural_classification):\n",
    "        idx = pd.IndexSlice\n",
    "        df = data[rural_classification]['econ shares'].loc[idx[:, state, 'employees'], :].droplevel(['STATE_ABBR', 'SIZE_MEASURE'])\n",
    "        with self.widget:\n",
    "            self.widget.clear_output(True)\n",
    "            print('Share of employment')\n",
    "            display(df.style.format('{:.2%}'))\n",
    "            \n",
    "w_shares = TableShares()"
   ]
  },
  {
   "cell_type": "code",
   "execution_count": null,
   "id": "martial-championship",
   "metadata": {},
   "outputs": [],
   "source": [
    "w_shares.widget"
   ]
  },
  {
   "cell_type": "code",
   "execution_count": null,
   "id": "wrong-information",
   "metadata": {},
   "outputs": [],
   "source": [
    "class Map:\n",
    "    def __init__(self):\n",
    "        self.widget = m = leaflet.Map(center=(38, -95), zoom=4)\n",
    "        m.layout.height = '500px'\n",
    "        m.layout.width = '800px'\n",
    "        self.legend = leaflet.LegendControl({}, position='topright')\n",
    "        m.add_control(self.legend)\n",
    "        self.layers_control = leaflet.LayersControl()\n",
    "        m.add_control(self.layers_control)\n",
    "        \n",
    "        self.rural_classification = 'CBSA'\n",
    "        self.rural_layer = l = leaflet.GeoJSON()\n",
    "        m.add_layer(l)\n",
    "        \n",
    "        self.fai_layer = leaflet.GeoJSON()\n",
    "        m.add_layer(self.fai_layer)\n",
    "        \n",
    "    def rural_style(self, area):\n",
    "        cc = area['properties'][f'{self.rural_classification}_COLORCODE']\n",
    "        fc = branca.colormap.linear.Reds_03.rgb_hex_str(cc)\n",
    "        rural = area['properties'][f'RURAL_{self.rural_classification}']\n",
    "        c = 'white' if rural else 'black'\n",
    "        return dict(fillColor=fc, color=c)\n",
    "    \n",
    "    def replace_rural_layer(self, state, rural_classification):\n",
    "        self.rural_classification = rural_classification\n",
    "        df = data[rural_classification]['rural areas']\n",
    "        if rural_classification == 'CBSA':\n",
    "            df = df[df['CBSA_NAME'].str.contains(state)]\n",
    "        else:\n",
    "            df = df[df['STATE_ABBR'] == state]\n",
    "            \n",
    "        self.widget.remove_layer(self.rural_layer)\n",
    "        self.rural_layer = l = leaflet.GeoJSON(name='Rurality', data=json.loads(df.to_json()), style_callback=self.rural_style)\n",
    "        self.widget.add_layer(l)\n",
    "        self.widget.fit_bounds(self.poly_bounds(df.geometry))\n",
    "        \n",
    "    def fai_style(self, area):\n",
    "        cc = area['properties']['FAI_EMP_SHARE']\n",
    "        cm = branca.colormap.linear.Blues_03.scale(vmax=0.1)\n",
    "        fc = cm.rgb_hex_str(cc)\n",
    "        return dict(fillColor=fc)\n",
    "    \n",
    "    def replace_fai_layer(self, state):\n",
    "        df = data['county FAI share geo']\n",
    "        df = df[(df['YEAR'] == 2017) & (df['STATE_ABBR'] == state)]\n",
    "        self.widget.remove_layer(self.fai_layer)\n",
    "        self.fai_layer = leaflet.GeoJSON(name='FAI', data=json.loads(df.to_json()), style_callback=self.fai_style)\n",
    "        self.widget.add_layer(self.fai_layer)\n",
    "        \n",
    "    def update(self, state, rural_classification):\n",
    "        self.replace_fai_layer(state)\n",
    "        self.replace_rural_layer(state, rural_classification)\n",
    "        self.widget.remove_control(self.layers_control)\n",
    "        self.layers_control = leaflet.LayersControl()\n",
    "        self.widget.add_control(self.layers_control)\n",
    "        \n",
    "    \n",
    "    @staticmethod\n",
    "    def poly_bounds(polygons):\n",
    "        polygons = list(polygons)\n",
    "        \"\"\"Bounding box for `ipyleaflet.Map.fit_bounds()`.\"\"\"\n",
    "        xmin, ymin, xmax, ymax = shapely.geometry.MultiPolygon(polygons).bounds\n",
    "        return [[ymin, xmax], [ymax, xmin]]\n",
    "\n",
    "w_map = Map()"
   ]
  },
  {
   "cell_type": "code",
   "execution_count": null,
   "id": "adjacent-london",
   "metadata": {},
   "outputs": [],
   "source": [
    "w_map.widget"
   ]
  },
  {
   "cell_type": "code",
   "execution_count": null,
   "id": "charged-acrylic",
   "metadata": {},
   "outputs": [],
   "source": [
    "data_states = data['CBSA']['econ shares'].index.get_level_values('STATE_ABBR').categories.tolist()\n",
    "w_state = widgets.Dropdown(description='State', options=data_states)\n",
    "w_rural_scheme = widgets.RadioButtons(description='Rurality', options=[('Core Based Statistical Area', 'CBSA'), ('Rural-Urban Continuum Codes', 'RUC'), ('Urban Influence Codes', 'UI')])\n",
    "\n",
    "def update(change):\n",
    "    w_shares.update(w_state.value, w_rural_scheme.value)\n",
    "    w_map.update(w_state.value, w_rural_scheme.value)\n",
    "    \n",
    "\n",
    "w_state.observe(update, names='value')\n",
    "w_rural_scheme.observe(update, names='value')"
   ]
  },
  {
   "cell_type": "code",
   "execution_count": null,
   "id": "powerful-drunk",
   "metadata": {},
   "outputs": [],
   "source": [
    "w_state"
   ]
  },
  {
   "cell_type": "code",
   "execution_count": null,
   "id": "veterinary-postage",
   "metadata": {},
   "outputs": [],
   "source": [
    "w_rural_scheme"
   ]
  }
 ],
 "metadata": {
  "kernelspec": {
   "display_name": "Python 3",
   "language": "python",
   "name": "python3"
  }
 },
 "nbformat": 4,
 "nbformat_minor": 5
}
