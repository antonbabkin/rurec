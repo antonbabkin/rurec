{
 "cells": [
  {
   "cell_type": "markdown",
   "metadata": {},
   "source": [
    "# Maps\n",
    "\n",
    "> Spatial distribution of economic indicators."
   ]
  },
  {
   "cell_type": "code",
   "execution_count": null,
   "metadata": {},
   "outputs": [],
   "source": [
    "#hide\n",
    "import json\n",
    "from pathlib import Path\n",
    "from IPython.display import Image\n",
    "\n",
    "import pandas as pd\n",
    "import geopandas as gpd\n",
    "from shapely.geometry import Point\n",
    "import matplotlib as mpl\n",
    "import matplotlib.pyplot as plt\n",
    "\n",
    "from rurec import rurality, resources"
   ]
  },
  {
   "cell_type": "markdown",
   "metadata": {},
   "source": [
    "# Rurality by state"
   ]
  },
  {
   "cell_type": "markdown",
   "metadata": {},
   "source": [
    "### Download state shapefiles"
   ]
  },
  {
   "cell_type": "code",
   "execution_count": null,
   "metadata": {},
   "outputs": [],
   "source": [
    "#hide\n",
    "pwd = !pwd\n",
    "dr = resources.paths.root / 'data/geo'\n",
    "url = 'https://www2.census.gov/geo/tiger/GENZ2019/shp/cb_2019_us_state_20m.zip'\n",
    "!mkdir --parents {dr}\n",
    "%cd {dr}\n",
    "!wget --no-clobber {url}\n",
    "file = Path(url).name\n",
    "!7z x {file}\n",
    "%cd {pwd[0]}"
   ]
  },
  {
   "cell_type": "markdown",
   "metadata": {},
   "source": [
    "### Create dataframe with shares and shapes"
   ]
  },
  {
   "cell_type": "code",
   "execution_count": null,
   "metadata": {},
   "outputs": [],
   "source": [
    "#hide\n",
    "year = 2017\n",
    "df = rurality.get_df(years=[year], cols=['YEAR', 'STATE', 'EMPLOYEES', 'RURAL_OUTSIDE_UA', 'UI_CODE', 'RUC_CODE', 'RUCA_CODE', 'RURAL_HRSA', 'FAR_LEVEL'])\n",
    "rural_col = 'RURAL_HRSA'\n",
    "x = df.groupby(['STATE', rural_col])['EMPLOYEES'].agg(['size', 'sum']).stack().unstack(rural_col)\n",
    "x = x[True] / x.sum(1)\n",
    "x = x.unstack()\n",
    "x.rename(columns={'size': 'ESTAB', 'sum': 'EMP'}, inplace=True)\n",
    "x = x.fillna(0)\n",
    "df_rur = x\n",
    "\n",
    "df = (gpd.read_file(dr / 'cb_2019_us_state_20m.shp')\n",
    "       .rename(columns={'STUSPS': 'STATE', 'NAME': 'STATE_NAME'})\n",
    "       .to_crs({'init': 'epsg:6579'}))\n",
    "df = df.merge(df_rur, 'right', 'STATE')\n",
    "df = df[~df['STATE'].isin(['AK', 'PR', 'HI', 'VI'])]"
   ]
  },
  {
   "cell_type": "code",
   "execution_count": null,
   "metadata": {},
   "outputs": [],
   "source": [
    "#collapse_output\n",
    "(df[['STATE', 'STATE_NAME', 'ESTAB', 'EMP']]\n",
    " .sort_values('EMP', ascending=False)\n",
    " .reset_index(drop=True)\n",
    " .style.format({'ESTAB': '{:.1%}', 'EMP': '{:.1%}'}))"
   ]
  },
  {
   "cell_type": "code",
   "execution_count": null,
   "metadata": {},
   "outputs": [],
   "source": [
    "#hide_input\n",
    "fig, ax = plt.subplots(figsize=(12, 6))\n",
    "df.plot(ax=ax, column='EMP', legend=True)\n",
    "ax.axis('off')\n",
    "fig.suptitle(f'Share of employment in {rural_col} areas in {year}', size=20);"
   ]
  },
  {
   "cell_type": "markdown",
   "metadata": {},
   "source": [
    "> Warning: Below starts the old code that does not use nbdev and draws data from BigQuery. It has not been tested for a long time."
   ]
  },
  {
   "cell_type": "markdown",
   "metadata": {},
   "source": [
    "# FAI maps"
   ]
  },
  {
   "cell_type": "code",
   "execution_count": null,
   "metadata": {},
   "outputs": [],
   "source": [
    "%cd .."
   ]
  },
  {
   "cell_type": "code",
   "execution_count": null,
   "metadata": {},
   "outputs": [],
   "source": [
    "excluded_states = {'AK', 'PR', 'HI', 'VI'}\n",
    "frac_fai_bins = [-0.01, 0.1, 0.3, 1]\n",
    "frac_fai_labels = ['0 - 10%', '10 - 30%', '30 - 100%']\n",
    "frac_fai_colors = ['#FF0808', '#F7FF00', '#29E2FF']\n",
    "area_style = {'facecolor': 'black', 'alpha': 0.5, 'edgecolor': 'black', 'linestyle': '-', 'linewidth': 0.1}"
   ]
  },
  {
   "cell_type": "markdown",
   "metadata": {},
   "source": [
    "# Download geographic boundaries data\n",
    "Census [Cartographic Boundary Shapefiles](https://www.census.gov/geo/maps-data/data/tiger-cart-boundary.html)"
   ]
  },
  {
   "cell_type": "code",
   "execution_count": null,
   "metadata": {},
   "outputs": [],
   "source": [
    "%%bash\n",
    "OPWD=`pwd`\n",
    "for ENTITY in csa cbsa; do\n",
    "    FILE=cb_2017_us_${ENTITY}_500k.zip\n",
    "    URL=https://www2.census.gov/geo/tiger/GENZ2017/shp/$FILE\n",
    "    DIR=data/$ENTITY\n",
    "    mkdir --parents $DIR\n",
    "    cd $DIR\n",
    "    wget --no-clobber --quiet $URL\n",
    "    7z x $FILE > /dev/null\n",
    "    cd $OPWD\n",
    "    echo $FILE done.\n",
    "done"
   ]
  },
  {
   "cell_type": "markdown",
   "metadata": {},
   "source": [
    "# Employment data - InfoGroup"
   ]
  },
  {
   "cell_type": "markdown",
   "metadata": {},
   "source": [
    "## Query and download raw data"
   ]
  },
  {
   "cell_type": "code",
   "execution_count": null,
   "metadata": {},
   "outputs": [],
   "source": [
    "query = '''\n",
    "SELECT\n",
    "  state,\n",
    "  substr(naics, 1, 6) as naics,\n",
    "  employees,\n",
    "  latitude,\n",
    "  longitude\n",
    "FROM\n",
    "  `original.data`\n",
    "where year = 2015;\n",
    "'''\n",
    "df = pd.read_gbq(query, dialect='standard', project_id='info-group-162919')\n",
    "df.to_pickle('data/ig_2015.gz')"
   ]
  },
  {
   "cell_type": "code",
   "execution_count": null,
   "metadata": {},
   "outputs": [],
   "source": [
    "df = pd.read_pickle('data/ig_2015.gz')\n",
    "df = df[~df.state.isin(excluded_states)]\n",
    "df = df.drop('state', axis=1)\n",
    "df.employees = pd.to_numeric(df.employees)\n",
    "df = df.dropna(subset=['employees'])"
   ]
  },
  {
   "cell_type": "markdown",
   "metadata": {},
   "source": [
    "## Identify non-farming FAI establishments"
   ]
  },
  {
   "cell_type": "code",
   "execution_count": null,
   "metadata": {},
   "outputs": [],
   "source": [
    "with open('data/fai.json') as f:\n",
    "    fai_codes = json.load(f)\n",
    "fainf_codes = {c: d for c, d in fai_codes.items() if c[:3] not in {'111', '112', '113', '114'}}\n",
    "df['fai'] = df.naics.isin(fainf_codes)"
   ]
  },
  {
   "cell_type": "code",
   "execution_count": null,
   "metadata": {},
   "outputs": [],
   "source": [
    "pt = df.pivot_table('employees', 'fai', aggfunc=[pd.np.sum, pd.np.count_nonzero])\n",
    "pt"
   ]
  },
  {
   "cell_type": "code",
   "execution_count": null,
   "metadata": {},
   "outputs": [],
   "source": [
    "pt / pt.sum()"
   ]
  },
  {
   "cell_type": "markdown",
   "metadata": {},
   "source": [
    "## Aggregate establishments into geographic bins for plotting"
   ]
  },
  {
   "cell_type": "code",
   "execution_count": null,
   "metadata": {},
   "outputs": [],
   "source": [
    "def expand_interval(df, col):\n",
    "    for n in ['left', 'mid', 'right']:\n",
    "        nn = col + '_' + n\n",
    "        df[nn] = df[col]\n",
    "        df[nn].cat.categories = df[col].cat.categories.__getattribute__(n)\n",
    "\n",
    "n_lat = 400\n",
    "df['blat'] = pd.cut(df.latitude, n_lat)\n",
    "n_lon = 800\n",
    "df['blon'] = pd.cut(df.longitude, n_lon)\n",
    "\n",
    "dfb = df.drop(['latitude', 'longitude'], axis=1)\n",
    "dfb = dfb.groupby(['blon', 'blat', 'fai'])\n",
    "dfb = dfb.sum()\n",
    "dfb = dfb.unstack('fai')\n",
    "\n",
    "dfb = dfb.dropna(how='all')\n",
    "dfb = dfb.fillna(0)\n",
    "dfb.columns = ['emp_nonfai', 'emp_fai']\n",
    "\n",
    "dfb = dfb.reset_index()\n",
    "expand_interval(dfb, 'blat')\n",
    "expand_interval(dfb, 'blon')\n",
    "\n",
    "dfb['frac_fai'] = dfb.emp_fai / (dfb.emp_fai + dfb.emp_nonfai)\n",
    "dfb['frac_fai_cat'] = pd.cut(dfb.frac_fai, frac_fai_bins)\n",
    "dfb.frac_fai_cat.cat.categories = frac_fai_labels\n",
    "\n",
    "dfb.frac_fai_cat.value_counts()"
   ]
  },
  {
   "cell_type": "markdown",
   "metadata": {},
   "source": [
    "## Demonstration of aggregation\n",
    "\n",
    "This section demonstrates how multiple establishments are aggregated into a single bin.\n",
    "\n",
    "In the figure below, 4 adjacent bins are shown. Establishments are drawn as circles, size show employment and color shows FAI or non-FAI.\n",
    "A \"plus\" marker is in the middle of each bin, and is colored according to the total fraction of FAI employment in that bin."
   ]
  },
  {
   "cell_type": "code",
   "execution_count": null,
   "metadata": {},
   "outputs": [],
   "source": [
    "show_lat_codes = [312, 313]\n",
    "show_lon_codes = [447, 448]\n",
    "\n",
    "_df = df.loc[df.blat.cat.codes.isin(show_lat_codes) & df.blon.cat.codes.isin(show_lon_codes)].copy()\n",
    "expand_interval(_df, 'blat')\n",
    "expand_interval(_df, 'blon')\n",
    "_, ax = plt.subplots(figsize=(16, 8))\n",
    "c = _df.fai.map({False: frac_fai_colors[0], True: frac_fai_colors[-1]})\n",
    "ax.scatter(_df.longitude, _df.latitude, s=_df.employees, c=c)\n",
    "\n",
    "_dfb = dfb[dfb.blon_mid.isin(_df.blon_mid.unique()) & dfb.blat_mid.isin(_df.blat_mid.unique())]\n",
    "c = _dfb.frac_fai_cat.cat.codes.map({k: v for k, v in enumerate(frac_fai_colors)})\n",
    "ax.scatter(_dfb.blon_mid, _dfb.blat_mid, s=1000, marker='+', c=c)\n",
    "\n",
    "for _, row in _dfb.iterrows():\n",
    "    ax.annotate(row.frac_fai_cat, (row.blon_mid, row.blat_mid))\n",
    "    r = mpl.patches.Rectangle(row[['blon_left', 'blat_left']], row.blon.length, row.blat.length, zorder=0, fill=False)\n",
    "    ax.add_patch(r)\n",
    "\n",
    "plt.plot()\n",
    "_dfb"
   ]
  },
  {
   "cell_type": "markdown",
   "metadata": {},
   "source": [
    "# Mapping"
   ]
  },
  {
   "cell_type": "markdown",
   "metadata": {},
   "source": [
    "## Convert aggregated points to geodataframe and reproject"
   ]
  },
  {
   "cell_type": "code",
   "execution_count": null,
   "metadata": {},
   "outputs": [],
   "source": [
    "dfb = gpd.GeoDataFrame(dfb)\n",
    "dfb.geometry = dfb.apply(lambda row: Point(row.blon_mid, row.blat_mid), axis=1)\n",
    "dfb.crs = {'init': 'epsg:4326'}\n",
    "dfb = dfb.to_crs({'init': 'epsg:6579'})\n",
    "dfb['color'] = points.frac_fai_cat.cat.rename_categories(frac_fai_colors)"
   ]
  },
  {
   "cell_type": "markdown",
   "metadata": {},
   "source": [
    "## Plotting function\n",
    "To be used with CBSA and CSA shapes."
   ]
  },
  {
   "cell_type": "code",
   "execution_count": null,
   "metadata": {},
   "outputs": [],
   "source": [
    "def make_map(areas, points, path_fig, area_label):\n",
    "    '''Plot map, save to file and return IPython image for display.'''\n",
    "    fig, ax = plt.subplots()\n",
    "    ax.set_aspect('equal')\n",
    "    ax.axis('off')\n",
    "    ax.set_title('%s boundaries and FAI employment shares' % area_label)\n",
    "\n",
    "    areas.plot(ax=ax, **area_style)\n",
    "    points.plot(ax=ax, facecolor=points['color'], edgecolor='none', markersize=0.085, marker='s')\n",
    "\n",
    "    area_legend = mpl.patches.Patch(**area_style, label=area_label)\n",
    "    points_legend = []\n",
    "    points_legend_style = dict(markeredgecolor='none', marker='s', linestyle='')\n",
    "    for c, l in zip(frac_fai_colors, frac_fai_labels):\n",
    "        points_legend += [mpl.lines.Line2D([], [], markerfacecolor=c, label=l, **points_legend_style)]\n",
    "    ax.legend(handles=[area_legend, *points_legend], loc='lower left', frameon=False, fontsize=6, markerscale=0.5)\n",
    "\n",
    "    plt.savefig(path_fig, dpi=1080)\n",
    "    plt.clf()\n",
    "    return Image(path_fig)"
   ]
  },
  {
   "cell_type": "markdown",
   "metadata": {},
   "source": [
    "## CBSA\n",
    "[Definition](https://www.census.gov/geo/reference/gtc/gtc_cbsa.html):\n",
    "> **Core Based Statistical Areas (CBSAs)** consist of the county or counties or equivalent entities associated with at least one core (urbanized area or urban cluster) of at least 10,000 population, plus adjacent counties having a high degree of social and economic integration with the core as measured through commuting ties with the counties associated with the core.  The general concept of a CBSA is that of a core area containing a substantial population nucleus, together with adjacent communities having a high degree of economic and social integration with that core.  The term \"core based statistical area\" became effective in 2003 and refers collectively to metropolitan statistical areas and micropolitan statistical areas."
   ]
  },
  {
   "cell_type": "code",
   "execution_count": null,
   "metadata": {},
   "outputs": [],
   "source": [
    "path_shp = './data/cbsa/cb_2017_us_cbsa_500k.shp'\n",
    "cbsa = gpd.read_file(path_shp)\n",
    "cbsa['state'] = cbsa.NAME.str.extract(', (.+)$')\n",
    "cbsa = cbsa[~cbsa.state.isin(excluded_states)]\n",
    "cbsa = cbsa.to_crs({'init': 'epsg:6579'})\n",
    "\n",
    "make_map(cbsa, dfb, 'fig/cbsa_fai.png', 'CBSA')"
   ]
  },
  {
   "cell_type": "markdown",
   "metadata": {},
   "source": [
    "## CSA\n",
    "[Definition](https://www.census.gov/geo/reference/gtc/gtc_cbsa.html):\n",
    "> **Combined Statistical Areas (CSAs)** consist of two or more adjacent CBSAs that have substantial employment interchange.  The CBSAs that combine to create a CSA retain separate identities within the larger CSA.  Because CSAs represent groupings of metropolitan and/or micropolitan statistical areas, they should not be ranked or compared with individual metropolitan and micropolitan statistical areas."
   ]
  },
  {
   "cell_type": "code",
   "execution_count": null,
   "metadata": {},
   "outputs": [],
   "source": [
    "path_shp = './data/csa/cb_2017_us_csa_500k.shp'\n",
    "csa = gpd.read_file(path_shp)\n",
    "csa['state'] = csa.NAME.str.extract(', (.+)$')\n",
    "csa = csa[~csa.state.isin(excluded_states)]\n",
    "csa = csa.to_crs({'init': 'epsg:6579'})\n",
    "\n",
    "make_map(csa, dfb, 'fig/csa_fai.png', 'CSA')"
   ]
  }
 ],
 "metadata": {
  "kernelspec": {
   "display_name": "Python 3",
   "language": "python",
   "name": "python3"
  }
 },
 "nbformat": 4,
 "nbformat_minor": 4
}
