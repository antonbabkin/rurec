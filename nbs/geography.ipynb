{
 "cells": [
  {
   "cell_type": "markdown",
   "metadata": {},
   "source": [
    "# Geographic gazetteer\n",
    "\n",
    "> Catalogue of geographic units of the USA."
   ]
  },
  {
   "cell_type": "code",
   "execution_count": null,
   "metadata": {},
   "outputs": [],
   "source": [
    "#default_exp geography\n",
    "#export\n",
    "import pandas as pd\n",
    "import geopandas as gpd\n",
    "\n",
    "from rurec.reseng.config import Paths\n",
    "from rurec import util\n",
    "\n",
    "PATH = Paths(\n",
    "    source='data/geo/source',\n",
    "    state='data/geo/state.pq',\n",
    "    county='data/geo/county.json',\n",
    "    tract='data/geo/tract.pq',\n",
    "    cbsa='data/geo/cbsa.json'\n",
    ")"
   ]
  },
  {
   "cell_type": "code",
   "execution_count": null,
   "metadata": {},
   "outputs": [],
   "source": [
    "#export\n",
    "# in geopandas 0.8, parquet support is still experimental\n",
    "# https://geopandas.org/docs/user_guide/io.html#apache-parquet-and-feather-file-formats\n",
    "import warnings\n",
    "warnings.filterwarnings('ignore', message='.*initial implementation of Parquet.*')"
   ]
  },
  {
   "cell_type": "markdown",
   "metadata": {},
   "source": [
    "# Source files\n",
    "\n",
    "Source data files are downloaded from web and cached locally.\n",
    "\n",
    "Census Bureau:\n",
    "- [Cartographic Boundary Files](https://www.census.gov/geographies/mapping-files/time-series/geo/carto-boundary-file.html)\n",
    "- [Cartographic boundary files 2019+](https://www.census.gov/geographies/mapping-files/time-series/geo/cartographic-boundary.html) - national tracts file\n",
    "- [LSAD codes](https://www.census.gov/library/reference/code-lists/legal-status-codes.html) - Legal/Statistical Area Description Codes and Definitions\n",
    "- [FIPS codes](https://www.census.gov/geographies/reference-files/2019/demo/popest/2019-fips.html)\n",
    "- [Gazeteer reference files](https://www.census.gov/geographies/reference-files/time-series/geo/gazetteer-files.html)\n",
    "- [Relationship files](https://www.census.gov/geographies/reference-files/time-series/geo/relationship-files.2020.html) - These text files describe geographic relationships. There are two types of relationship files; those that show the relationship between the same type of geography over time (comparability) and those that show the relationship between two types of geography for the same time period."
   ]
  },
  {
   "cell_type": "code",
   "execution_count": null,
   "metadata": {},
   "outputs": [],
   "source": [
    "#export\n",
    "def get_source(src):\n",
    "    \"\"\"Return path to file specified by `src` key, downloading if missing.\"\"\"\n",
    "    if src == 'geocodes':\n",
    "        url = 'https://www2.census.gov/programs-surveys/popest/geographies/2019/all-geocodes-v2019.xlsx'\n",
    "        local = PATH.source/'all-geocodes-v2019.xlsx'\n",
    "    elif src == 'state-boundary':\n",
    "        url = 'https://www2.census.gov/geo/tiger/GENZ2018/shp/cb_2018_us_state_20m.zip'\n",
    "        local = PATH.source/'cb_2018_us_state_20m.zip'\n",
    "    elif src == 'county-boundary':\n",
    "        url = 'https://www2.census.gov/geo/tiger/GENZ2018/shp/cb_2018_us_county_20m.zip'\n",
    "        local = PATH.source/'cb_2018_us_county_20m.zip'\n",
    "    elif src.startswith('tract-boundary-'):\n",
    "        # tract-boundary-YYYY-SS, YYYY = decennial census year, SS = state FIPS code\n",
    "        y = int(src[15:19])\n",
    "        s = src[-2:]\n",
    "        if y == 1990:\n",
    "            url = f'https://www2.census.gov/geo/tiger/PREVGENZ/tr/tr90shp/tr{s}_d90_shp.zip'\n",
    "        elif y == 2000:\n",
    "            url = f'https://www2.census.gov/geo/tiger/PREVGENZ/tr/tr00shp/tr{s}_d00_shp.zip'\n",
    "        elif y == 2010:\n",
    "            url = f'https://www2.census.gov/geo/tiger/GENZ2010/gz_2010_{s}_140_00_500k.zip'\n",
    "        elif y == 2020:\n",
    "            url = f'https://www2.census.gov/geo/tiger/GENZ2020/shp/cb_2020_{s}_tract_500k.zip'\n",
    "        else:\n",
    "            raise Exception(f'No tract revisions in {y}.')\n",
    "        local = PATH.source/f'tract/{y}/{s}.zip'\n",
    "    elif src == 'cbsa-boundary':\n",
    "        url = 'https://www2.census.gov/geo/tiger/GENZ2018/shp/cb_2018_us_cbsa_20m.zip'\n",
    "        local = PATH.source/'cb_2018_us_cbsa_20m.zip'\n",
    "    else:\n",
    "        raise Exception(f'Unknown source: {src}')\n",
    "        \n",
    "    if not local.exists():\n",
    "        print(f'File \"{local}\" not found, attempting download.')\n",
    "        util.download_file(url, local.parent, local.name)\n",
    "    return local"
   ]
  },
  {
   "cell_type": "markdown",
   "metadata": {},
   "source": [
    "# State"
   ]
  },
  {
   "cell_type": "code",
   "execution_count": null,
   "metadata": {},
   "outputs": [],
   "source": [
    "#export\n",
    "def get_state_df(geometry=True):\n",
    "    path = PATH.state\n",
    "    if path.exists():\n",
    "        if geometry:\n",
    "            return gpd.read_parquet(path)\n",
    "        else:\n",
    "            return pd.read_parquet(path, 'pyarrow', ['CODE', 'ABBR', 'NAME', 'ALAND', 'AWATER'])\n",
    "\n",
    "    p = get_source('state-boundary')\n",
    "    df = gpd.read_file(f'zip://{p}')\n",
    "    df = df.rename(columns={'STATEFP': 'CODE', 'STUSPS': 'ABBR'})\n",
    "    df = df[['CODE', 'ABBR', 'NAME', 'ALAND', 'AWATER', 'geometry']]\n",
    "    df.to_parquet(path)\n",
    "    if not geometry:\n",
    "        df = pd.DataFrame(df).drop(columns='geometry')\n",
    "    return df"
   ]
  },
  {
   "cell_type": "code",
   "execution_count": null,
   "metadata": {},
   "outputs": [],
   "source": [
    "def _show_state_map():\n",
    "    import matplotlib.pyplot as plt\n",
    "\n",
    "    df = get_state_df()\n",
    "    df = df[~df['ABBR'].isin(['AK', 'HI', 'PR'])]\n",
    "    fig, ax = plt.subplots(figsize=(24, 8))\n",
    "    ax.set_aspect('equal')\n",
    "    df.boundary.plot(ax=ax)\n",
    "    for abbr, shape in df[['ABBR', 'geometry']].itertuples(False):\n",
    "        ax.annotate(abbr, shape.centroid.coords[0], horizontalalignment='center')\n",
    "\n",
    "_show_state_map()"
   ]
  },
  {
   "cell_type": "markdown",
   "metadata": {},
   "source": [
    "# County"
   ]
  },
  {
   "cell_type": "code",
   "execution_count": null,
   "metadata": {},
   "outputs": [],
   "source": [
    "#export\n",
    "def get_county_df():\n",
    "    if PATH.county.exists():\n",
    "        return gpd.read_file(PATH.county)\n",
    "    \n",
    "    p = get_source('county-boundary')\n",
    "    df = gpd.read_file(f'zip://{p}')\n",
    "    df = df.rename(columns={'GEOID': 'CODE'})\n",
    "    df = df[['CODE', 'NAME', 'ALAND', 'AWATER', 'geometry']]\n",
    "    df.to_file(PATH.county, driver='GeoJSON')\n",
    "    return df"
   ]
  },
  {
   "cell_type": "code",
   "execution_count": null,
   "metadata": {},
   "outputs": [],
   "source": [
    "get_county_df().sample(5)"
   ]
  },
  {
   "cell_type": "code",
   "execution_count": null,
   "metadata": {},
   "outputs": [],
   "source": [
    "def _show_county_map():\n",
    "    import ipywidgets as widgets\n",
    "    import matplotlib.pyplot as plt\n",
    "\n",
    "    df = get_county_df()\n",
    "    df['STATE'] = df['CODE'].str[:2].map(get_mapping('STATE_CODE', 'STATE_NAME'))\n",
    "    st = widgets.Dropdown(description='State',\n",
    "                          options=sorted(df['STATE'].unique()),\n",
    "                          value='Wisconsin')\n",
    "    out = widgets.Output()\n",
    "    def upd(*args):\n",
    "        with out:\n",
    "            out.clear_output(True)\n",
    "            fig, ax = plt.subplots(figsize=(12, 12))\n",
    "            ax.set_aspect('equal')\n",
    "            d = df[df['STATE'] == st.value]\n",
    "            d.boundary.plot(ax=ax)\n",
    "            for name, shape in d[['NAME', 'geometry']].itertuples(False):\n",
    "                ax.annotate(name, shape.centroid.coords[0], horizontalalignment='center')\n",
    "            plt.close()\n",
    "            display(fig)\n",
    "    upd()\n",
    "    st.observe(upd, 'value')\n",
    "    display(widgets.VBox([st, out]))\n",
    "    \n",
    "_show_county_map()"
   ]
  },
  {
   "cell_type": "markdown",
   "metadata": {},
   "source": [
    "# Census Tract\n",
    "\n",
    "Code is 11 digits: 2 state, 5 county, 4+2 tract.\n",
    "\n",
    "The first four digits of the tract code are \"permanent.\" \n",
    "When tracks get large (+8000 residents), tracts are split and 2 digit tag is used (same with the split of splits):\n",
    "\n",
    "|1990|2000|2010| \n",
    "|----|----|----|\n",
    "|1000|1000.01|1000.03|\n",
    "|1000|1000.01|1000.04|\n",
    "|1000|1000.02|1000.05| \n",
    "|1000|1000.02|1000.06|\n",
    "        \n",
    "The naming convention for merges (population falls below 1,200) and boundary revisions are less clear-cut.\n",
    "\n",
    "When changes (splits, merges, redefinitions) occur, the relationship of new tracts to old tracts is [crosswalked](https://www.census.gov/geographies/reference-files/time-series/geo/relationship-files.2010.html).\n",
    "\n",
    "There is a master file, as well as two files that provided the identifiers of tracts that were \"substantially changed\" between decennials. The two files of significantly changed census tracts consist only of a list of census tracts that exhibited a change of 2.5-percent or greater. Tract relationships may be one-to-one, many-to-one, one-to-many, or many-to-many.\n",
    "\n",
    "[Reference](https://www2.census.gov/geo/pdfs/education/CensusTracts.pdf)"
   ]
  },
  {
   "cell_type": "code",
   "execution_count": null,
   "metadata": {},
   "outputs": [],
   "source": [
    "y = 1990\n",
    "state = '08'\n",
    "p = get_source(f'tract-boundary-{y}-{state}')\n",
    "df = gpd.read_file(f'zip://{p}')\n",
    "if y == 1990:\n",
    "    df = df.rename(columns={'ST': 'STATE_CODE', 'CO': 'COUNTY_CODE'})\n",
    "    df['TRACT_CODE'] = df['TRACTBASE'] + df['TRACTSUF'].fillna('00')\n",
    "    df['CODE'] = df['STATE_CODE'] + df['COUNTY_CODE'] + df['TRACT_CODE']\n",
    "    df['NAME'] = df['TRACTBASE']\n",
    "    df.loc[df['TRACTSUF'].notna(), 'NAME'] = df['NAME'] + '.' + df['TRACTSUF']"
   ]
  },
  {
   "cell_type": "code",
   "execution_count": null,
   "metadata": {},
   "outputs": [],
   "source": [
    "#export\n",
    "def get_tract_df(year, state, geometry=True):\n",
    "    assert 1990 <= year < 2030, f'No tract data for {year}.'\n",
    "    y = 1990 + (year - 1990) // 10 * 10\n",
    "    path = PATH.tract/f'YEAR={y}/STATE={state}'\n",
    "    if path.exists():\n",
    "        if geometry:\n",
    "            return gpd.read_parquet(path)\n",
    "        else:\n",
    "            return pd.read_parquet(path, 'pyarrow', ['CODE', 'STATE_CODE', 'COUNTY_CODE', 'TRACT_CODE', 'NAME', 'AREA'])\n",
    "    \n",
    "    p = get_source(f'tract-boundary-{year}-{state}')\n",
    "    df = gpd.read_file(f'zip://{p}')\n",
    "    df = df.rename(columns={'GEOID': 'CODE'})\n",
    "    df = df[['CODE', 'NAME', 'ALAND', 'AWATER', 'geometry']]\n",
    "    df.to_file(PATH.tract, driver='GeoJSON')\n",
    "    return df"
   ]
  },
  {
   "cell_type": "code",
   "execution_count": null,
   "metadata": {},
   "outputs": [],
   "source": [
    "def _show_tract_map():\n",
    "    import ipywidgets as widgets\n",
    "    import matplotlib.pyplot as plt\n",
    "\n",
    "    df = get_tract_df()\n",
    "    df['COUNTY_CODE'] = df['CODE'].str[:5]\n",
    "    dfc = get_county_df()\n",
    "    st = widgets.Dropdown(description='State',\n",
    "                          options=sorted(get_mapping('STATE_NAME', 'STATE_CODE').items()),\n",
    "                          value='55')\n",
    "    ct = widgets.Dropdown(description='County')\n",
    "    def upd_ct_list(*args):\n",
    "        ct.options = [('', '00000')] + sorted(dfc.loc[dfc['CODE'].str[:2] == st.value, ['NAME', 'CODE']].values.tolist())\n",
    "    upd_ct_list()\n",
    "    st.observe(upd_ct_list, 'value')\n",
    "    out = widgets.Output()\n",
    "    def upd(*args):\n",
    "        if ct.value == '00000':\n",
    "            out.clear_output()\n",
    "            return\n",
    "        with out:\n",
    "            out.clear_output(True)\n",
    "            fig, ax = plt.subplots(figsize=(12, 12))\n",
    "            ax.set_aspect('equal')\n",
    "            df[df['COUNTY_CODE'] == ct.value].boundary.plot(ax=ax)\n",
    "            plt.close()\n",
    "            display(fig)\n",
    "    ct.observe(upd, 'value')\n",
    "    ct.value = '55025'\n",
    "\n",
    "    display(widgets.VBox([widgets.HBox([st, ct]), out]))\n",
    "\n",
    "_show_tract_map()"
   ]
  },
  {
   "cell_type": "markdown",
   "metadata": {},
   "source": [
    "## Changes between 1990 and 2000"
   ]
  },
  {
   "cell_type": "code",
   "execution_count": null,
   "metadata": {},
   "outputs": [],
   "source": [
    "meta = pd.read_html('https://www.census.gov/programs-surveys/geography/technical-documentation/records-layout/2000-tract-relationship-record-layout.html')"
   ]
  },
  {
   "cell_type": "code",
   "execution_count": null,
   "metadata": {},
   "outputs": [],
   "source": [
    "# Substantially changed in 2000\n",
    "df = pd.read_fwf('https://www2.census.gov/geo/relfiles/tract/al/al01sg2k.txt',\n",
    "                 widths=meta[3]['Field Length'].tolist(),\n",
    "                 dtype='str', header=None)\n",
    "df.columns = meta[3]['Field Description']\n",
    "subch = df\n",
    "subch.head(1)"
   ]
  },
  {
   "cell_type": "code",
   "execution_count": null,
   "metadata": {},
   "outputs": [],
   "source": [
    "# cross-product of 1990 and 2000 tracts by population\n",
    "df = pd.read_fwf('https://www2.census.gov/geo/relfiles/tract/al/al01pop.txt',\n",
    "                 widths=meta[0]['Field Length'].tolist(),\n",
    "                 dtype='str', header=None)\n",
    "df.columns = meta[0]['Field Description']\n",
    "df['tract_2000'] = df['2000 state FIPS code'] + df['2000 county FIPS code'] + df['2000 census tract base'] + df['2000 census tract suffix']\n",
    "df['tract_1990'] = df['1990 state FIPS code'] + df['1990 county FIPS code'] + df['1990 census tract base'] + df['1990 census tract suffix']\n",
    "df = df.merge(subch, 'left', ('2000 state FIPS code', '2000 county FIPS code', '2000 census tract base', '2000 census tract suffix'), indicator='sub_ch_2000')\n",
    "df['sub_ch_2000'].cat.rename_categories({'left_only': False, 'both': True}, inplace=True)\n",
    "df.head(1)"
   ]
  },
  {
   "cell_type": "markdown",
   "metadata": {},
   "source": [
    "### Map the difference\n",
    "\n",
    "1:500,000 tract files for Alabama from \"Cartographic boundary files\"."
   ]
  },
  {
   "cell_type": "code",
   "execution_count": null,
   "metadata": {},
   "outputs": [],
   "source": [
    "url = {}\n",
    "url[1990] = 'https://www2.census.gov/geo/tiger/PREVGENZ/tr/tr90shp/tr01_d90_shp.zip'\n",
    "url[2000] = 'https://www2.census.gov/geo/tiger/PREVGENZ/tr/tr00shp/tr01_d00_shp.zip'\n",
    "url[2010] = 'https://www2.census.gov/geo/tiger/GENZ2010/gz_2010_01_140_00_500k.zip'\n",
    "url[2013] = 'https://www2.census.gov/geo/tiger/GENZ2013/cb_2013_01_tract_500k.zip'\n",
    "for y in range(2014, 2021):\n",
    "    url[y] = f'https://www2.census.gov/geo/tiger/GENZ{y}/shp/cb_{y}_01_tract_500k.zip'\n",
    "\n",
    "tr = {}\n",
    "for y, u in url.items():\n",
    "    tr[y] = gpd.read_file(u)"
   ]
  },
  {
   "cell_type": "code",
   "execution_count": null,
   "metadata": {},
   "outputs": [],
   "source": [
    "county = '001'\n",
    "t0 = tr[1990].query('CO == @county')\n",
    "t1 = tr[2000].query('COUNTY == @county')\n",
    "\n",
    "fig, ax = plt.subplots(figsize=(12, 12))\n",
    "ax.set_aspect('equal')\n",
    "d = 3\n",
    "t0.boundary.plot(ax=ax, color='red', linestyle=(0, (d, d)))\n",
    "t1.boundary.plot(ax=ax, color='blue', linestyle=(d, (d, d)))"
   ]
  },
  {
   "cell_type": "markdown",
   "metadata": {},
   "source": [
    "### Census geographic data precision\n",
    "Different years of the same revision have slightly different polygons. Maybe these files are approximately aggregated from more detailed sources (TIGER?)"
   ]
  },
  {
   "cell_type": "code",
   "execution_count": null,
   "metadata": {},
   "outputs": [],
   "source": [
    "tig = {\n",
    "    2000: gpd.read_file('https://www2.census.gov/geo/tiger/TIGER2010/TRACT/2000/tl_2010_01_tract00.zip'),\n",
    "    2010: gpd.read_file('https://www2.census.gov/geo/tiger/TIGER2010/TRACT/2010/tl_2010_01_tract10.zip'),\n",
    "    2019: gpd.read_file('https://www2.census.gov/geo/tiger/TIGER2019/TRACT/tl_2019_01_tract.zip'),\n",
    "    2020: gpd.read_file('https://www2.census.gov/geo/tiger/TIGER2020/TRACT/tl_2020_01_tract.zip')\n",
    "}"
   ]
  },
  {
   "cell_type": "code",
   "execution_count": null,
   "metadata": {},
   "outputs": [],
   "source": [
    "x0 = tig[2010].set_index('GEOID10').loc[['01005950300'], 'geometry']\n",
    "x1 = tig[2020].set_index('GEOID').loc[['01005950300'], 'geometry']"
   ]
  },
  {
   "cell_type": "code",
   "execution_count": null,
   "metadata": {},
   "outputs": [],
   "source": [
    "fig, ax = plt.subplots(figsize=(12, 12))\n",
    "ax.set_aspect('equal')\n",
    "x0.boundary.plot(ax=ax, color='red', linestyle=(0, (10, 10)))\n",
    "x1.boundary.plot(ax=ax, color='blue', linestyle=(10, (10, 10)))"
   ]
  },
  {
   "cell_type": "code",
   "execution_count": null,
   "metadata": {},
   "outputs": [],
   "source": [
    "tig[2019].head()"
   ]
  },
  {
   "cell_type": "code",
   "execution_count": null,
   "metadata": {},
   "outputs": [],
   "source": [
    "tr[2019].sort_values('GEOID').head()"
   ]
  },
  {
   "cell_type": "code",
   "execution_count": null,
   "metadata": {},
   "outputs": [],
   "source": [
    "tig.sort_values('GEOID').head()"
   ]
  },
  {
   "cell_type": "code",
   "execution_count": null,
   "metadata": {},
   "outputs": [],
   "source": [
    "(len(t1.iloc[0, -1].exterior.coords[:]),\n",
    "len(t2.iloc[0, -1].exterior.coords[:]),\n",
    "len(ti.iloc[0, -1].exterior.coords[:]))"
   ]
  },
  {
   "cell_type": "code",
   "execution_count": null,
   "metadata": {},
   "outputs": [],
   "source": [
    "import matplotlib.pyplot as plt\n",
    "t1 = tr[2013].sort_values('GEOID').head(4)\n",
    "t2 = tr[2019].sort_values('GEOID').head(4)\n",
    "ti = tig[2019].sort_values('GEOID').head(4)\n",
    "fig, ax = plt.subplots(figsize=(12, 12))\n",
    "ax.set_aspect('equal')\n",
    "t1.boundary.plot(ax=ax, color='red', linestyle=(0, (10, 20)))\n",
    "t2.boundary.plot(ax=ax, color='blue', linestyle=(10, (10, 20)))\n",
    "ti.boundary.plot(ax=ax, color='green', linestyle=(20, (10, 20)))"
   ]
  },
  {
   "cell_type": "markdown",
   "metadata": {},
   "source": [
    "# Core Based Statistical Area (CBSA)\n",
    "\n",
    "From CB [glossary](https://www.census.gov/programs-surveys/geography/about/glossary.html#par_textimage_7):\n",
    "> Core Based Statistical Areas (CBSAs) consist of the county or counties or equivalent entities associated with at least one core (urbanized area or urban cluster) of at least 10,000 population, plus adjacent counties having a high degree of social and economic integration with the core as measured through commuting ties with the counties associated with the core. The general concept of a CBSA is that of a core area containing a substantial population nucleus, together with adjacent communities having a high degree of economic and social integration with that core. The term \"core based statistical area\" became effective in 2003 and refers collectively to metropolitan statistical areas and micropolitan statistical areas. The U.S. Office of Management and Budget (OMB) defines CBSAs to provide a nationally consistent set of geographic entities for the United States and Puerto Rico for use in tabulating and presenting statistical data.\n",
    "\n",
    "An OMB Metropolitan area contains a core urban area of 50,000 or more population, and a Micropolitan area contains an urban core of at least 10,000 (but less than 50,000) population.\n",
    "\n",
    "[CB page with data and definitions](https://www.census.gov/programs-surveys/metro-micro.html)"
   ]
  },
  {
   "cell_type": "code",
   "execution_count": null,
   "metadata": {},
   "outputs": [],
   "source": [
    "#export\n",
    "def get_cbsa_df():\n",
    "    if PATH.cbsa.exists():\n",
    "        return gpd.read_file(PATH.cbsa)\n",
    "    \n",
    "    p = get_source('cbsa-boundary')\n",
    "    df = gpd.read_file(f'zip://{p}')\n",
    "    df = df.rename(columns={'GEOID': 'CODE', 'LSAD': 'TYPE'})\n",
    "    df['TYPE'] = df['TYPE'].map({'M1': 'Metro', 'M2': 'Micro'})\n",
    "    df = df[['CODE', 'NAME', 'TYPE', 'ALAND', 'AWATER', 'geometry']]\n",
    "    df.to_file(PATH.cbsa, driver='GeoJSON')\n",
    "    return df"
   ]
  },
  {
   "cell_type": "code",
   "execution_count": null,
   "metadata": {},
   "outputs": [],
   "source": [
    "get_cbsa_df().sample(3)"
   ]
  },
  {
   "cell_type": "code",
   "execution_count": null,
   "metadata": {},
   "outputs": [],
   "source": [
    "def _show_cbsa_map():\n",
    "    import matplotlib.pyplot as plt\n",
    "\n",
    "    fig, ax = plt.subplots(figsize=(12, 12))\n",
    "    ax.set_aspect('equal')\n",
    "\n",
    "    df = get_state_df()\n",
    "    contig = ~df['ABBR'].isin(['AK', 'HI', 'PR'])\n",
    "    df[contig].boundary.plot(ax=ax, color='gray', zorder=1)\n",
    "\n",
    "    df = get_cbsa_df()\n",
    "    contig = ~df['NAME'].apply(lambda name: any(st in name for st in ['AK', 'HI', 'PR']))\n",
    "    df[contig].plot(ax=ax, column='TYPE', legend=True, zorder=2, alpha=0.9)\n",
    "    \n",
    "_show_cbsa_map()"
   ]
  },
  {
   "cell_type": "markdown",
   "metadata": {},
   "source": [
    "# Postal Zip Code"
   ]
  },
  {
   "cell_type": "markdown",
   "metadata": {},
   "source": [
    "# Zip Code Tabulation Area (ZCTA)"
   ]
  },
  {
   "cell_type": "markdown",
   "metadata": {},
   "source": [
    "# Area phone code"
   ]
  }
 ],
 "metadata": {
  "language_info": {
   "name": "python"
  }
 },
 "nbformat": 4,
 "nbformat_minor": 4
}
