{
 "cells": [
  {
   "cell_type": "markdown",
   "metadata": {},
   "source": [
    "# Geographic gazetteer\n",
    "\n",
    "> Catalogue of geographic units of the USA."
   ]
  },
  {
   "cell_type": "code",
   "execution_count": null,
   "metadata": {},
   "outputs": [],
   "source": [
    "#default_exp geography\n",
    "#export\n",
    "import pandas as pd\n",
    "import geopandas as gpd\n",
    "\n",
    "from rurec.reseng.config import Paths\n",
    "from rurec import util\n",
    "\n",
    "PATH = Paths(\n",
    "    source='data/geo/source',\n",
    "    state='data/geo/state.json',\n",
    "    county='data/geo/county.json',\n",
    "    tract='data/geo/tract.json',\n",
    "    cbsa='data/geo/cbsa.json'\n",
    ")"
   ]
  },
  {
   "cell_type": "markdown",
   "metadata": {},
   "source": [
    "# Source files\n",
    "\n",
    "Source data files are downloaded from web and cached locally.\n",
    "\n",
    "Census Bureau:\n",
    "- [Cartographic Boundary Files](https://www.census.gov/geographies/mapping-files/time-series/geo/carto-boundary-file.html)\n",
    "- [Cartographic boundary files 2019+](https://www.census.gov/geographies/mapping-files/time-series/geo/cartographic-boundary.html) - national tracts file\n",
    "- [LSAD codes](https://www.census.gov/library/reference/code-lists/legal-status-codes.html) - Legal/Statistical Area Description Codes and Definitions\n",
    "- [FIPS codes](https://www.census.gov/geographies/reference-files/2019/demo/popest/2019-fips.html)\n",
    "- [Gazeteer reference files](https://www.census.gov/geographies/reference-files/time-series/geo/gazetteer-files.html)"
   ]
  },
  {
   "cell_type": "code",
   "execution_count": null,
   "metadata": {},
   "outputs": [],
   "source": [
    "#export\n",
    "def get_source(src):\n",
    "    \"\"\"Return path to file specified by `src` key, downloading if missing.\"\"\"\n",
    "    if src == 'geocodes':\n",
    "        url = 'https://www2.census.gov/programs-surveys/popest/geographies/2019/all-geocodes-v2019.xlsx'\n",
    "        local = PATH.source/'all-geocodes-v2019.xlsx'\n",
    "    elif src == 'state-boundary':\n",
    "        url = 'https://www2.census.gov/geo/tiger/GENZ2018/shp/cb_2018_us_state_20m.zip'\n",
    "        local = PATH.source/'cb_2018_us_state_20m.zip'\n",
    "    elif src == 'county-boundary':\n",
    "        url = 'https://www2.census.gov/geo/tiger/GENZ2018/shp/cb_2018_us_county_20m.zip'\n",
    "        local = PATH.source/'cb_2018_us_county_20m.zip'\n",
    "    elif src == 'tract-boundary':\n",
    "        url = 'https://www2.census.gov/geo/tiger/GENZ2019/shp/cb_2019_us_tract_500k.zip'\n",
    "        local = PATH.source/'cb_2019_us_tract_500k.zip'\n",
    "    elif src == 'cbsa-boundary':\n",
    "        url = 'https://www2.census.gov/geo/tiger/GENZ2018/shp/cb_2018_us_cbsa_20m.zip'\n",
    "        local = PATH.source/'cb_2018_us_cbsa_20m.zip'\n",
    "    else:\n",
    "        raise Exception(f'Unknown source: {src}')\n",
    "        \n",
    "    if not local.exists():\n",
    "        print(f'File \"{local}\" not found, attempting download.')\n",
    "        util.download_file(url, local.parent, local.name)\n",
    "    return local"
   ]
  },
  {
   "cell_type": "markdown",
   "metadata": {},
   "source": [
    "# Utility functions"
   ]
  },
  {
   "cell_type": "code",
   "execution_count": null,
   "metadata": {},
   "outputs": [],
   "source": [
    "#export\n",
    "def get_mapping(key, val):\n",
    "    \"\"\"Return dict of `key` -> `val` pairs from dataframe detected from `key` prefix.\"\"\"\n",
    "    if key.startswith('STATE_'):\n",
    "        df = pd.DataFrame(get_state_df()).add_prefix('STATE_')\n",
    "    else:\n",
    "        raise Exception(f'Unknown field: {key}')\n",
    "    return dict(df[[key, val]].itertuples(False))"
   ]
  },
  {
   "cell_type": "markdown",
   "metadata": {},
   "source": [
    "# State"
   ]
  },
  {
   "cell_type": "code",
   "execution_count": null,
   "metadata": {},
   "outputs": [],
   "source": [
    "#export\n",
    "def get_state_df():\n",
    "    if PATH.state.exists():\n",
    "        return gpd.read_file(PATH.state)\n",
    "    \n",
    "    p = get_source('state-boundary')\n",
    "    df = gpd.read_file(f'zip://{p}')\n",
    "    df = df.rename(columns={'STATEFP': 'CODE', 'STUSPS': 'ABBR'})\n",
    "    df = df[['CODE', 'ABBR', 'NAME', 'ALAND', 'AWATER', 'geometry']]\n",
    "    df.to_file(PATH.state, driver='GeoJSON')\n",
    "    return df"
   ]
  },
  {
   "cell_type": "code",
   "execution_count": null,
   "metadata": {},
   "outputs": [],
   "source": [
    "get_state_df().head(3)"
   ]
  },
  {
   "cell_type": "code",
   "execution_count": null,
   "metadata": {},
   "outputs": [],
   "source": [
    "def _show_state_map():\n",
    "    import matplotlib.pyplot as plt\n",
    "\n",
    "    df = get_state_df()\n",
    "    df = df[~df['ABBR'].isin(['AK', 'HI', 'PR'])]\n",
    "    fig, ax = plt.subplots(figsize=(24, 8))\n",
    "    ax.set_aspect('equal')\n",
    "    df.boundary.plot(ax=ax)\n",
    "    for abbr, shape in df[['ABBR', 'geometry']].itertuples(False):\n",
    "        ax.annotate(abbr, shape.centroid.coords[0], horizontalalignment='center')\n",
    "\n",
    "_show_state_map()"
   ]
  },
  {
   "cell_type": "markdown",
   "metadata": {},
   "source": [
    "# County"
   ]
  },
  {
   "cell_type": "code",
   "execution_count": null,
   "metadata": {},
   "outputs": [],
   "source": [
    "#export\n",
    "def get_county_df():\n",
    "    if PATH.county.exists():\n",
    "        return gpd.read_file(PATH.county)\n",
    "    \n",
    "    p = get_source('county-boundary')\n",
    "    df = gpd.read_file(f'zip://{p}')\n",
    "    df = df.rename(columns={'GEOID': 'CODE'})\n",
    "    df = df[['CODE', 'NAME', 'ALAND', 'AWATER', 'geometry']]\n",
    "    df.to_file(PATH.county, driver='GeoJSON')\n",
    "    return df"
   ]
  },
  {
   "cell_type": "code",
   "execution_count": null,
   "metadata": {},
   "outputs": [],
   "source": [
    "get_county_df().sample(5)"
   ]
  },
  {
   "cell_type": "code",
   "execution_count": null,
   "metadata": {},
   "outputs": [],
   "source": [
    "def _show_county_map():\n",
    "    import ipywidgets as widgets\n",
    "    import matplotlib.pyplot as plt\n",
    "\n",
    "    df = get_county_df()\n",
    "    df['STATE'] = df['CODE'].str[:2].map(get_mapping('STATE_CODE', 'STATE_NAME'))\n",
    "    st = widgets.Dropdown(description='State',\n",
    "                          options=sorted(df['STATE'].unique()),\n",
    "                          value='Wisconsin')\n",
    "    out = widgets.Output()\n",
    "    def upd(*args):\n",
    "        with out:\n",
    "            out.clear_output(True)\n",
    "            fig, ax = plt.subplots(figsize=(12, 12))\n",
    "            ax.set_aspect('equal')\n",
    "            d = df[df['STATE'] == st.value]\n",
    "            d.boundary.plot(ax=ax)\n",
    "            for name, shape in d[['NAME', 'geometry']].itertuples(False):\n",
    "                ax.annotate(name, shape.centroid.coords[0], horizontalalignment='center')\n",
    "            plt.close()\n",
    "            display(fig)\n",
    "    upd()\n",
    "    st.observe(upd, 'value')\n",
    "    display(widgets.VBox([st, out]))\n",
    "    \n",
    "_show_county_map()"
   ]
  },
  {
   "cell_type": "markdown",
   "metadata": {},
   "source": [
    "# Census Tract\n",
    "\n",
    "Code is 11 digits: 2 state, 5 county, 6 tract."
   ]
  },
  {
   "cell_type": "code",
   "execution_count": null,
   "metadata": {},
   "outputs": [],
   "source": [
    "#export\n",
    "def get_tract_df():\n",
    "    if PATH.tract.exists():\n",
    "        return gpd.read_file(PATH.tract)\n",
    "    \n",
    "    p = get_source('tract-boundary')\n",
    "    df = gpd.read_file(f'zip://{p}')\n",
    "    df = df.rename(columns={'GEOID': 'CODE'})\n",
    "    df = df[['CODE', 'NAME', 'ALAND', 'AWATER', 'geometry']]\n",
    "    df.to_file(PATH.tract, driver='GeoJSON')\n",
    "    return df"
   ]
  },
  {
   "cell_type": "code",
   "execution_count": null,
   "metadata": {},
   "outputs": [],
   "source": [
    "def _show_tract_map():\n",
    "    import ipywidgets as widgets\n",
    "    import matplotlib.pyplot as plt\n",
    "\n",
    "    df = get_tract_df()\n",
    "    df['COUNTY_CODE'] = df['CODE'].str[:5]\n",
    "    dfc = get_county_df()\n",
    "    st = widgets.Dropdown(description='State',\n",
    "                          options=sorted(get_mapping('STATE_NAME', 'STATE_CODE').items()),\n",
    "                          value='55')\n",
    "    ct = widgets.Dropdown(description='County')\n",
    "    def upd_ct_list(*args):\n",
    "        ct.options = [('', '00000')] + sorted(dfc.loc[dfc['CODE'].str[:2] == st.value, ['NAME', 'CODE']].values.tolist())\n",
    "    upd_ct_list()\n",
    "    st.observe(upd_ct_list, 'value')\n",
    "    out = widgets.Output()\n",
    "    def upd(*args):\n",
    "        if ct.value == '00000':\n",
    "            out.clear_output()\n",
    "            return\n",
    "        with out:\n",
    "            out.clear_output(True)\n",
    "            fig, ax = plt.subplots(figsize=(12, 12))\n",
    "            ax.set_aspect('equal')\n",
    "            df[df['COUNTY_CODE'] == ct.value].boundary.plot(ax=ax)\n",
    "            plt.close()\n",
    "            display(fig)\n",
    "    ct.observe(upd, 'value')\n",
    "    ct.value = '55025'\n",
    "\n",
    "    display(widgets.VBox([widgets.HBox([st, ct]), out]))\n",
    "\n",
    "_show_tract_map()"
   ]
  },
  {
   "cell_type": "markdown",
   "metadata": {},
   "source": [
    "# Core Based Statistical Area (CBSA)\n",
    "\n",
    "From CB [glossary](https://www.census.gov/programs-surveys/geography/about/glossary.html#par_textimage_7):\n",
    "> Core Based Statistical Areas (CBSAs) consist of the county or counties or equivalent entities associated with at least one core (urbanized area or urban cluster) of at least 10,000 population, plus adjacent counties having a high degree of social and economic integration with the core as measured through commuting ties with the counties associated with the core. The general concept of a CBSA is that of a core area containing a substantial population nucleus, together with adjacent communities having a high degree of economic and social integration with that core. The term \"core based statistical area\" became effective in 2003 and refers collectively to metropolitan statistical areas and micropolitan statistical areas. The U.S. Office of Management and Budget (OMB) defines CBSAs to provide a nationally consistent set of geographic entities for the United States and Puerto Rico for use in tabulating and presenting statistical data.\n",
    "\n",
    "An OMB Metropolitan area contains a core urban area of 50,000 or more population, and a Micropolitan area contains an urban core of at least 10,000 (but less than 50,000) population.\n",
    "\n",
    "[CB page with data and definitions](https://www.census.gov/programs-surveys/metro-micro.html)"
   ]
  },
  {
   "cell_type": "code",
   "execution_count": null,
   "metadata": {},
   "outputs": [],
   "source": [
    "#export\n",
    "def get_cbsa_df():\n",
    "    if PATH.cbsa.exists():\n",
    "        return gpd.read_file(PATH.cbsa)\n",
    "    \n",
    "    p = get_source('cbsa-boundary')\n",
    "    df = gpd.read_file(f'zip://{p}')\n",
    "    df = df.rename(columns={'GEOID': 'CODE', 'LSAD': 'TYPE'})\n",
    "    df['TYPE'] = df['TYPE'].map({'M1': 'Metro', 'M2': 'Micro'})\n",
    "    df = df[['CODE', 'NAME', 'TYPE', 'ALAND', 'AWATER', 'geometry']]\n",
    "    df.to_file(PATH.cbsa, driver='GeoJSON')\n",
    "    return df"
   ]
  },
  {
   "cell_type": "code",
   "execution_count": null,
   "metadata": {},
   "outputs": [],
   "source": [
    "get_cbsa_df().sample(3)"
   ]
  },
  {
   "cell_type": "code",
   "execution_count": null,
   "metadata": {},
   "outputs": [],
   "source": [
    "def _show_cbsa_map():\n",
    "    import matplotlib.pyplot as plt\n",
    "\n",
    "    fig, ax = plt.subplots(figsize=(12, 12))\n",
    "    ax.set_aspect('equal')\n",
    "\n",
    "    df = get_state_df()\n",
    "    contig = ~df['ABBR'].isin(['AK', 'HI', 'PR'])\n",
    "    df[contig].boundary.plot(ax=ax, color='gray', zorder=1)\n",
    "\n",
    "    df = get_cbsa_df()\n",
    "    contig = ~df['NAME'].apply(lambda name: any(st in name for st in ['AK', 'HI', 'PR']))\n",
    "    df[contig].plot(ax=ax, column='TYPE', legend=True, zorder=2, alpha=0.9)\n",
    "    \n",
    "_show_cbsa_map()"
   ]
  },
  {
   "cell_type": "markdown",
   "metadata": {},
   "source": [
    "# Postal Zip Code"
   ]
  },
  {
   "cell_type": "markdown",
   "metadata": {},
   "source": [
    "# Zip Code Tabulation Area (ZCTA)"
   ]
  },
  {
   "cell_type": "markdown",
   "metadata": {},
   "source": [
    "# Area phone code"
   ]
  }
 ],
 "metadata": {
  "kernelspec": {
   "display_name": "Python 3",
   "language": "python",
   "name": "python3"
  }
 },
 "nbformat": 4,
 "nbformat_minor": 4
}
