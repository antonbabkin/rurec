{
 "cells": [
  {
   "cell_type": "markdown",
   "metadata": {},
   "source": [
    "# Geographic gazetteer\n",
    "\n",
    "> Catalogue of geographic units of the USA."
   ]
  },
  {
   "cell_type": "markdown",
   "metadata": {},
   "source": [
    "Census Bureau:\n",
    "- [FIPS codes](https://www.census.gov/geographies/reference-files/2019/demo/popest/2019-fips.html)\n",
    "- [Gazeteer reference files](https://www.census.gov/geographies/reference-files/time-series/geo/gazetteer-files.html)\n",
    "- [Cartographic boundary files](https://www.census.gov/geographies/mapping-files/time-series/geo/cartographic-boundary.html)"
   ]
  },
  {
   "cell_type": "code",
   "execution_count": null,
   "metadata": {},
   "outputs": [],
   "source": [
    "#default_exp geography\n",
    "#export\n",
    "import pandas as pd\n",
    "import geopandas as gpd\n",
    "\n",
    "from rurec.reseng.config import Paths\n",
    "from rurec import util\n",
    "\n",
    "PATH = Paths(\n",
    "    source='data/geo/source',\n",
    "    state='data/geo/state.json',\n",
    "    county='data/geo/county.json',\n",
    "    tract='data/geo/tract.json'\n",
    ")"
   ]
  },
  {
   "cell_type": "markdown",
   "metadata": {},
   "source": [
    "# Source files\n",
    "\n",
    "Source data files are downloaded from web and cached locally.\n",
    "\n",
    "[Cartographic Boundary Files](https://www.census.gov/geographies/mapping-files/time-series/geo/carto-boundary-file.html)"
   ]
  },
  {
   "cell_type": "code",
   "execution_count": null,
   "metadata": {},
   "outputs": [],
   "source": [
    "#export\n",
    "def get_source(src):\n",
    "    \"\"\"Return path to file specified by `src` key, downloading if missing.\"\"\"\n",
    "    if src == 'geocodes':\n",
    "        url = 'https://www2.census.gov/programs-surveys/popest/geographies/2019/all-geocodes-v2019.xlsx'\n",
    "        local = PATH.source/'all-geocodes-v2019.xlsx'\n",
    "    elif src == 'state-boundary':\n",
    "        url = 'https://www2.census.gov/geo/tiger/GENZ2018/shp/cb_2018_us_state_20m.zip'\n",
    "        local = PATH.source/'cb_2018_us_state_20m.zip'\n",
    "    elif src == 'county-boundary':\n",
    "        url = 'https://www2.census.gov/geo/tiger/GENZ2018/shp/cb_2018_us_county_20m.zip'\n",
    "        local = PATH.source/'cb_2018_us_county_20m.zip'\n",
    "    elif src == 'tract-boundary':\n",
    "        url = 'https://www2.census.gov/geo/tiger/GENZ2019/shp/cb_2019_us_tract_500k.zip'\n",
    "        local = PATH.source/'cb_2019_us_tract_500k.zip'\n",
    "    else:\n",
    "        raise Exception(f'Unknown source: {src}')\n",
    "        \n",
    "    if not local.exists():\n",
    "        print(f'File \"{local}\" not found, attempting download.')\n",
    "        util.download_file(url, local.parent, local.name)\n",
    "    return local"
   ]
  },
  {
   "cell_type": "markdown",
   "metadata": {},
   "source": [
    "# Utility functions"
   ]
  },
  {
   "cell_type": "code",
   "execution_count": null,
   "metadata": {},
   "outputs": [],
   "source": [
    "#export\n",
    "def get_mapping(key, val):\n",
    "    \"\"\"Return dict of `key` -> `val` pairs from dataframe detected from `key` prefix.\"\"\"\n",
    "    if key.startswith('STATE_'):\n",
    "        df = pd.DataFrame(get_state_df()).add_prefix('STATE_')\n",
    "    else:\n",
    "        raise Exception(f'Unknown field: {key}')\n",
    "    return dict(df[[key, val]].itertuples(False))"
   ]
  },
  {
   "cell_type": "markdown",
   "metadata": {},
   "source": [
    "# State"
   ]
  },
  {
   "cell_type": "code",
   "execution_count": null,
   "metadata": {},
   "outputs": [],
   "source": [
    "#export\n",
    "def get_state_df():\n",
    "    if PATH.state.exists():\n",
    "        return gpd.read_file(PATH.state)\n",
    "    \n",
    "    p = get_source('state-boundary')\n",
    "    df = gpd.read_file(f'zip://{p}')\n",
    "    df = df.rename(columns={'STATEFP': 'CODE', 'STUSPS': 'ABBR'})\n",
    "    df = df[['CODE', 'ABBR', 'NAME', 'ALAND', 'AWATER', 'geometry']]\n",
    "    df.to_file(PATH.state, driver='GeoJSON')\n",
    "    return df"
   ]
  },
  {
   "cell_type": "code",
   "execution_count": null,
   "metadata": {},
   "outputs": [],
   "source": [
    "get_state_df().head(3)"
   ]
  },
  {
   "cell_type": "code",
   "execution_count": null,
   "metadata": {},
   "outputs": [],
   "source": [
    "import matplotlib.pyplot as plt\n",
    "\n",
    "df = get_state_df()\n",
    "df = df[~df['ABBR'].isin(['AK', 'HI', 'PR'])]\n",
    "fig, ax = plt.subplots(figsize=(24, 8))\n",
    "ax.set_aspect('equal')\n",
    "df.boundary.plot(ax=ax)\n",
    "for abbr, shape in df[['ABBR', 'geometry']].itertuples(False):\n",
    "    ax.annotate(abbr, shape.centroid.coords[0], horizontalalignment='center')"
   ]
  },
  {
   "cell_type": "markdown",
   "metadata": {},
   "source": [
    "# County"
   ]
  },
  {
   "cell_type": "code",
   "execution_count": null,
   "metadata": {},
   "outputs": [],
   "source": [
    "#export\n",
    "def get_county_df():\n",
    "    if PATH.county.exists():\n",
    "        return gpd.read_file(PATH.county)\n",
    "    \n",
    "    p = get_source('county-boundary')\n",
    "    df = gpd.read_file(f'zip://{p}')\n",
    "    df = df.rename(columns={'GEOID': 'CODE'})\n",
    "    df = df[['CODE', 'NAME', 'ALAND', 'AWATER', 'geometry']]\n",
    "    df.to_file(PATH.county, driver='GeoJSON')\n",
    "    return df"
   ]
  },
  {
   "cell_type": "code",
   "execution_count": null,
   "metadata": {},
   "outputs": [],
   "source": [
    "get_county_df().sample(5)"
   ]
  },
  {
   "cell_type": "code",
   "execution_count": null,
   "metadata": {},
   "outputs": [],
   "source": [
    "import ipywidgets as widgets\n",
    "import matplotlib.pyplot as plt\n",
    "\n",
    "df = get_county_df()\n",
    "df['STATE'] = df['CODE'].str[:2].map(get_mapping('STATE_CODE', 'STATE_NAME'))\n",
    "st = widgets.Dropdown(description='State',\n",
    "                      options=sorted(df['STATE'].unique()),\n",
    "                      value='Wisconsin')\n",
    "out = widgets.Output()\n",
    "def upd(*args):\n",
    "    with out:\n",
    "        out.clear_output(True)\n",
    "        fig, ax = plt.subplots(figsize=(12, 12))\n",
    "        ax.set_aspect('equal')\n",
    "        d = df[df['STATE'] == st.value]\n",
    "        d.boundary.plot(ax=ax)\n",
    "        for name, shape in d[['NAME', 'geometry']].itertuples(False):\n",
    "            ax.annotate(name, shape.centroid.coords[0], horizontalalignment='center')\n",
    "        plt.close()\n",
    "        display(fig)\n",
    "upd()\n",
    "st.observe(upd, 'value')\n",
    "widgets.VBox([st, out])"
   ]
  },
  {
   "cell_type": "markdown",
   "metadata": {},
   "source": [
    "# Census Tract\n",
    "\n",
    "Code is 11 digits: 2 state, 5 county, 6 tract."
   ]
  },
  {
   "cell_type": "code",
   "execution_count": null,
   "metadata": {},
   "outputs": [],
   "source": [
    "#export\n",
    "def get_tract_df():\n",
    "    if PATH.tract.exists():\n",
    "        return gpd.read_file(PATH.tract)\n",
    "    \n",
    "    p = get_source('tract-boundary')\n",
    "    df = gpd.read_file(f'zip://{p}')\n",
    "    df = df.rename(columns={'GEOID': 'CODE'})\n",
    "    df = df[['CODE', 'NAME', 'ALAND', 'AWATER', 'geometry']]\n",
    "    df.to_file(PATH.tract, driver='GeoJSON')\n",
    "    return df"
   ]
  },
  {
   "cell_type": "code",
   "execution_count": null,
   "metadata": {},
   "outputs": [],
   "source": [
    "import ipywidgets as widgets\n",
    "import matplotlib.pyplot as plt\n",
    "\n",
    "df = get_tract_df()\n",
    "df['COUNTY_CODE'] = df['CODE'].str[:5]\n",
    "dfc = get_county_df()\n",
    "st = widgets.Dropdown(description='State',\n",
    "                      options=sorted(get_mapping('STATE_NAME', 'STATE_CODE').items()),\n",
    "                      value='55')\n",
    "ct = widgets.Dropdown(description='County')\n",
    "def upd_ct_list(*args):\n",
    "    ct.options = [('', '00000')] + sorted(dfc.loc[dfc['CODE'].str[:2] == st.value, ['NAME', 'CODE']].values.tolist())\n",
    "upd_ct_list()\n",
    "st.observe(upd_ct_list, 'value')\n",
    "out = widgets.Output()\n",
    "def upd(*args):\n",
    "    if ct.value == '00000':\n",
    "        out.clear_output()\n",
    "        return\n",
    "    with out:\n",
    "        out.clear_output(True)\n",
    "        fig, ax = plt.subplots(figsize=(12, 12))\n",
    "        ax.set_aspect('equal')\n",
    "        df[df['COUNTY_CODE'] == ct.value].boundary.plot(ax=ax)\n",
    "        plt.close()\n",
    "        display(fig)\n",
    "ct.observe(upd, 'value')\n",
    "ct.value = '55025'\n",
    "\n",
    "widgets.VBox([widgets.HBox([st, ct]), out])"
   ]
  },
  {
   "cell_type": "markdown",
   "metadata": {},
   "source": [
    "# CBSA"
   ]
  },
  {
   "cell_type": "markdown",
   "metadata": {},
   "source": [
    "# Postal Zip Code"
   ]
  },
  {
   "cell_type": "markdown",
   "metadata": {},
   "source": [
    "# Zip Code Tabulation Area (ZCTA)"
   ]
  },
  {
   "cell_type": "markdown",
   "metadata": {},
   "source": [
    "# Rurality classifications\n",
    "\n",
    "1. Non-urban counties (OMB)\n",
    "2. Inverse of Census urbanity (Census Bureau)\n",
    "3. Outside urban activity (ERS)\n",
    "    - Urban Influence Codes\n",
    "    - Rural-Urban Continuum\n",
    "    - Rural-Urban Commuting Areas\n",
    "4. Non-urban census tracts\n",
    "    - HRSA/FORHP\n",
    "    - Inverse of spatial overlap with urban areas\n",
    "5. Zip codes\n",
    "    - data challenges\n",
    "    - FAR and Remote\n",
    "\n",
    "## HRSA/FORHP\n",
    "\n",
    "HRSA's Federal Office of Rural Health Policy (FORHP) accepts all non-metro counties as rural \n",
    "and uses an additional method of determining rural status called the Rural-Urban Commuting \n",
    "Area (RUCA) codes. Like the MSAs, these are based on Census data which is used to assign a \n",
    "code to each Census Tract. Tracts inside Metropolitan counties with the codes 4-10 are \n",
    "considered rural. While use of the RUCA codes has allowed identification of rural census \n",
    "tracts in Metropolitan counties, among the more than 60,000 tracts in the U.S. there are \n",
    "some that are extremely large and where use of RUCA codes alone fails to account for distance \n",
    "to services and sparse population. In response to these concerns, FORHP has designated \n",
    "132 large area census tracts with RUCA codes 2 or 3 as rural. These tracts are at least \n",
    "400 square miles in area with a population density of no more than 35 people. The FORHP \n",
    "definition includes about 1866 of the population and 8566 of the area of the USA. RUCA codes \n",
    "represent the current version of the Goldsmith Modification.\n",
    "\n",
    "\n",
    "There are two major definitions which the Federal government uses to identify the rural \n",
    "status of an area: the Census Bureau's 'Urban Area' and the OMB's 'Core-Based Statistical \n",
    "Area'.\n",
    "\n",
    "## Urban Area\n",
    "The first is from the U.S. Census Bureau which identifies two types of \n",
    "urban areas, Urbanized Areas (UAs) of 50,000 or more people and Urban Clusters (UCs) of at \n",
    "Ieast2,S00 and less than 50,000 people. Since the U.S. Census Bureau does not explicitly \n",
    "classify areas as rural, rural is defined as “encompassing all population, housing, and \n",
    "territory not included within an urban area (those areas not identified as UC or UA)\". \n",
    "In the 2010 Census, 19.366 of the population was rural while over 9596 of the land area \n",
    "is still classified as rural. \n",
    "\n",
    "## CBSA\n",
    "The second is from the Office of Management and Budget [OMB] \n",
    "which designates counties as Metropolitan, Micropolitan, or Neither. An OMB Metropolitan \n",
    "area contains a core urban area of 50,000 or more population, and a Micropolitan area \n",
    "contains an urban core of at least 10,000 (but less than 50,000) population. All counties \n",
    "that are not part of a Metropolitan Statistical Area [MSA) are considered rural. \n",
    "\n",
    "There are measurement challenges with both the U.S. Census Bureau and OMB definitions. \n",
    "Some policy experts note that the U.S. Census Bureau definition classifies quite a bit of  \n",
    "suburban area as rural. The OMB definition includes rural areas in Metropolitan bounties.\n",
    "Consequently, one could argue that the Census Bureau standard includes an overcount of rural \n",
    "population whereas the OMB standard represents an undercount of the rural population.\n",
    "\n",
    "## Frontier and Remote"
   ]
  }
 ],
 "metadata": {
  "kernelspec": {
   "display_name": "Python 3",
   "language": "python",
   "name": "python3"
  }
 },
 "nbformat": 4,
 "nbformat_minor": 4
}
