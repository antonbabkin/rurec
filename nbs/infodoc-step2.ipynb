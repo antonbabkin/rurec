{
 "cells": [
  {
   "cell_type": "markdown",
   "metadata": {},
   "source": [
    "<h2><center>Step 2: Urban Area-Dependent Variables for InfoGroup</center></h2>"
   ]
  },
  {
   "cell_type": "code",
   "execution_count": null,
   "metadata": {},
   "outputs": [],
   "source": [
    "The Census Bureau's concept of Urban Area includes two urban categories: the more densely\n",
    "populated Urbanized Area and the Urban Cluster. See the gazetteer for the details of \n",
    "definition. Urban Areas are not defined in terms of any other standard spatial unit. The\n",
    "borders of an urban area are defined by the density of commuting patterns in the orbit of\n",
    "urban cores of various population size.\n",
    "\n",
    "InfoGroup does not include the code for the Urbanized Area or Urban Cluster in which an\n",
    "establishment may be located. The Bureau does distribute a shapefile for Urban Areas. It\n",
    "would therefore be possible in theory to locate each establishment's locational coordinates\n",
    "in an Urban Area or to determine that it is not included in any Urban Area. However, this \n",
    "would be 1) an incredibly CPU-intensive process; and 2) probably irrelevant since we are\n",
    "concerned mostly with InfoGroup establishments in rural areas.\n",
    "\n",
    "However, because we do have an establishment's census tract code on the InfoGroup record, \n",
    "we can determine with just barely imperfect accuracy whether an establishment is\n",
    "located in a census tract that is itself centered in an Urban Area or non-urban territory.\n",
    "\n",
    "We have created a geo-reference file starting with shapefiles for Urban Areas and census \n",
    "tracts. The centroid location of each census tract was computed and from that data point \n",
    "and the coordinate dimensions of each urban area, the 'parental' urban area, if any,\n",
    "of each census tract was determined. This was an extrememly machine-intensive process itself."
   ]
  },
  {
   "cell_type": "markdown",
   "metadata": {},
   "source": [
    "##### rural_outside_UA, UA Code, UA Type"
   ]
  },
  {
   "cell_type": "code",
   "execution_count": null,
   "metadata": {},
   "outputs": [],
   "source": [
    "The 'rural_outside_UA' variable identifies tracts that are not located within a Census Bureau \n",
    "Urban Area. More precisely, if the spatial centroid of the InfoGroup establishment's census \n",
    "tract is not located within the polygon of coordinates that defines an Urban Area, the \n",
    "establishment is considered 'rural' and coded '1'. In the 2017 file, 3,596,102 establishments,\n",
    "24.5% of the total, were flagged 'rural' by this measure.\n",
    "\n",
    "For the 'urban' establishments (coded '0' on 'rural_outside_UA') we also take the Census code \n",
    "for its 'parental' Urban Area ('UA Code') and the code for the parental urban area's type \n",
    "('UA Type'): 'U' = Urbanized Area, 'C' = Urban Cluster.\n",
    "\n",
    "The accuracy of these three variables is 'just barely imperfect' because a census\n",
    "tract can overlap multiple urban (or non-urban) areas. It is therefore not necessarily \n",
    "true that the urban area pinpointed by the centroid of the census tract is the one in which \n",
    "the InfoGroup establishment itself is actually located, although in nearly every case it \n",
    "would be."
   ]
  },
  {
   "cell_type": "code",
   "execution_count": null,
   "metadata": {},
   "outputs": [],
   "source": [
    "Our locally processed geo-reference file \n",
    "('/InfoGroup/data/rurality/reference/geographical/points-in-polygons/data/all_tracts.csv')\n",
    "consists of one record per 2010 census tract, with the following variables:\n",
    "    'STATEFP', 'COUNTYFP', 'TRACTCE', 'GEOID', 'NAME', 'NAMELSAD', 'MTFCC',\n",
    "    'FUNCSTAT', 'ALAND', 'AWATER', 'INTPTLAT', 'INTPTLON', 'geometry',\n",
    "    'UA_GEOID10', 'UATYP10', 'rural_tract'\n",
    "'STATEFP' through 'geometry' are simply taken from the Census Bureau's shapefile. \n",
    "'GEOID' is the file's 11-digit census tract identifier. 'UA-GEOID10' and 'UATYP10' are the \n",
    "Urban Area identifier and the Urban Area type code taken from the Urban Area shapefile, and \n",
    "'rural_tract' is the laboriously computed rurality flag for each census tract renamed to\n",
    "'rural_outside_UA' in the InfoGroup record to distinguish it from other such indicator\n",
    "variables to be created in step 3.\n",
    "\n",
    "Having created this file at an earlier time, adding the last three variables to the InfoGroup\n",
    "record was simply a matter of a pandas dataframe merge, where 'df' is the InfoGroup dataframe\n",
    "and 'tract_df' is the dataframe created from 'all_tracts.csv'.\n",
    "\n",
    "    merged = df.merge(tract_df,how='inner',left_on='Full Census Tract',right_on='GEOID')"
   ]
  },
  {
   "cell_type": "code",
   "execution_count": null,
   "metadata": {},
   "outputs": [],
   "source": []
  }
 ],
 "metadata": {
  "kernelspec": {
   "display_name": "Python 3",
   "language": "python",
   "name": "python3"
  }
 },
 "nbformat": 4,
 "nbformat_minor": 4
}
