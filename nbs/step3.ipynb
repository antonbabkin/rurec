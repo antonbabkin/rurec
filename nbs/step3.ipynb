{
 "cells": [
  {
   "cell_type": "code",
   "execution_count": null,
   "metadata": {},
   "outputs": [],
   "source": [
    "import pandas as pd\n",
    "import numpy as np\n",
    "from datetime import datetime\n",
    "\n",
    "import warnings\n",
    "warnings.filterwarnings(\"ignore\")"
   ]
  },
  {
   "cell_type": "markdown",
   "metadata": {},
   "source": [
    "## Functions"
   ]
  },
  {
   "cell_type": "code",
   "execution_count": null,
   "metadata": {},
   "outputs": [],
   "source": [
    "def rurality(df):\n",
    "    all_rural_tracts = compile_rural_tracts()\n",
    "    showtime('\\trurality (compile_rural_tracts)')\n",
    "    df['rural_HRSA'] = df['Full Census Tract'].apply(lambda x: 1 if x in all_rural_tracts else 0)\n",
    "    showtime('\\trurality (rural_HRSA)')\n",
    "    print(df['rural_HRSA'].value_counts(),file=logfile)\n",
    "    print(df['rural_HRSA'].value_counts(normalize=True) * 100,file=logfile)\n",
    "\n",
    "    # Merge with FAR data\n",
    "    # FAR codes apply only to the continental states.\n",
    "    merged = df.merge(df_zip,how='left',left_on='ZipCode',right_on='ZIP',indicator=True)\n",
    "    showtime('\\trurality (FAR)')\n",
    "    merged.drop(columns=['ZIP','far1','far2','far3','far4','_merge'],inplace=True)\n",
    "    return merged\n",
    "\n",
    "def rural_in_CBSA():\n",
    "    \"\"\" Get 'Full Census Tract' of every IG record with census tract not in a CBSA \"\"\"\n",
    "    list_list = df[['CBSA Level','Full Census Tract']].values.tolist()\n",
    "    rurtracts = [x[1] for x in list_list if x[0] not in ['1','2']]\n",
    "    return rurtracts\n",
    "\n",
    "def compile_rural_tracts():\n",
    "    \"\"\" Construct a set of census tracts by adding those from non-metro\n",
    "        InfoGroup establishments to those defined by the FORHP as rural\n",
    "        tracts within metro counties. \"\"\"\n",
    "    rurtracts = rural_in_CBSA()\n",
    "    print('not in CBSA:',str(len(rurtracts)),file=logfile)    \n",
    "    print('hrsa_rural_tracts:',str(len(hrsa_rural_tracts)),file=logfile)                  \n",
    "    rurtracts.extend(hrsa_rural_tracts) \n",
    "    rurtracts = set(rurtracts)\n",
    "    print('all tracts deduped:',str(len(set(rurtracts))),file=logfile)\n",
    "    return set(rurtracts)\n",
    "\n",
    "def farlevel(row):\n",
    "    if sum([row['far1'],row['far2'],row['far3'],row['far4']]) == 0:\n",
    "        return '0'\n",
    "    elif row['far1'] == 1 and sum([row['far2'],row['far3'],row['far4']]) == 0:\n",
    "        return '1'\n",
    "    elif row['far2'] == 1 and sum([row['far3'],row['far4']]) == 0:\n",
    "        return '2'\n",
    "    elif row['far3'] == 1 and row['far4'] == 0:\n",
    "        return '3'\n",
    "    elif row['far4'] == 1:\n",
    "        return '4'\n",
    "    else:\n",
    "        return np.nan\n",
    "    \n",
    "def showtime(num):\n",
    "    now = datetime.now()\n",
    "    dt_string = now.strftime(\"%d/%m/%Y %H:%M:%S\")\n",
    "    print(str(num),'  ',dt_string)\t"
   ]
  },
  {
   "cell_type": "markdown",
   "metadata": {},
   "source": [
    "## Reference datasets and derived data structures"
   ]
  },
  {
   "cell_type": "code",
   "execution_count": null,
   "metadata": {},
   "outputs": [],
   "source": [
    "# FORHP list of 2300+ rural census tracts\n",
    "hrsa_rural_tracts = []\n",
    "# This is a pre-processed text version of a former PDF file.\n",
    "with open('/InfoGroup/data/rurality/tract_data.txt','r') as fin:\n",
    "    for line in fin:\n",
    "        if line[0] != chr(32):\n",
    "            continue\n",
    "        else:\n",
    "            line = line.strip()\n",
    "            try:\n",
    "                if line[0].isnumeric(): \n",
    "                    hrsa_rural_tracts.append(line)\n",
    "            except IndexError:\n",
    "                pass\n",
    "\n",
    "# ERS: Frontier and Remote census data tracts\n",
    "far_file = '/InfoGroup/data/rurality/FARcodesZIPdata2010WithAKandHI.csv'\n",
    "df_far = pd.read_csv(far_file,dtype=object)\n",
    "df_far['ZIP'] = df_far['ZIP'].apply(lambda x: x.zfill(5) if len(x) < 5 == 0 else x)\n",
    "df_zip = df_far[['ZIP','far1','far2','far3','far4']].copy()\n",
    "df_zip[['far1','far2','far3','far4']] = df_zip[['far1','far2','far3','far4']].astype(int)\n",
    "df_zip['FAR Level'] = df_zip.apply(farlevel,axis=1)\n",
    "df_zip = df_zip.drop_duplicates()"
   ]
  },
  {
   "cell_type": "markdown",
   "metadata": {},
   "source": [
    "## Main"
   ]
  },
  {
   "cell_type": "code",
   "execution_count": null,
   "metadata": {},
   "outputs": [],
   "source": [
    "# open log file\n",
    "logfile = open('/InfoGroup/data/rurality/logs/step3.log','w')"
   ]
  },
  {
   "cell_type": "code",
   "execution_count": null,
   "metadata": {},
   "outputs": [],
   "source": [
    "for yr in range(2017,2018):\n",
    "    showtime('start')\n",
    "    df = pd.read_csv(f'/InfoGroup/data/rurality/step2_{yr}.csv',dtype=object)\n",
    "    showtime('create dataframe')\n",
    "    df = rurality(df)\n",
    "    showtime('rurality function')\n",
    "    df.to_csv(f'/InfoGroup/data/rurality/InfoGroup_{yr}_step3.csv',index=None)\n",
    "    showtime('finished')"
   ]
  },
  {
   "cell_type": "code",
   "execution_count": null,
   "metadata": {},
   "outputs": [],
   "source": [
    "logfile.close()"
   ]
  },
  {
   "cell_type": "code",
   "execution_count": null,
   "metadata": {},
   "outputs": [],
   "source": []
  }
 ],
 "metadata": {
  "kernelspec": {
   "display_name": "Python 3",
   "language": "python",
   "name": "python3"
  }
 },
 "nbformat": 4,
 "nbformat_minor": 2
}
