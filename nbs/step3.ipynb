{
 "cells": [
  {
   "cell_type": "code",
   "execution_count": null,
   "metadata": {},
   "outputs": [],
   "source": [
    "import pandas as pd\n",
    "import numpy as np\n",
    "from datetime import datetime\n",
    "\n",
    "import warnings\n",
    "warnings.filterwarnings(\"ignore\")"
   ]
  },
  {
   "cell_type": "markdown",
   "metadata": {},
   "source": [
    "## Main functions"
   ]
  },
  {
   "cell_type": "code",
   "execution_count": null,
   "metadata": {},
   "outputs": [],
   "source": [
    "def create_df(yr):\n",
    "    \"\"\" Create a dataframe from the csv file saved in step 1. \"\"\"\n",
    "    return pd.read_csv(f'/InfoGroup/data/rurality/step2_{yr}.csv',dtype=object)\n",
    "\n",
    "def rurality(df):\n",
    "    df['rural_by_UA'] = df['UA Code'].apply(rur_UA) \n",
    "    showtime('\\trurality (rural_by_UA)')\n",
    "    print(df['rural_by_UA'].value_counts(),file=logfile)\n",
    "    print(df['rural_by_UA'].value_counts(normalize=True) * 100,file=logfile)\n",
    "    \n",
    "    df['rural_HRSA'] = df.apply(rur_hrsa,axis=1)\n",
    "    showtime('\\trurality (rural_HRSA)')\n",
    "    print(df['rural_HRSA'].value_counts(),file=logfile)\n",
    "    print(df['rural_HRSA'].value_counts(normalize=True) * 100,file=logfile)\n",
    "\n",
    "    # Merge with FAR data\n",
    "    # FAR codes apply only to the continental states.\n",
    "    df_far = df.merge(df_zip,how='left',left_on='ZipCode',right_on='ZIP',indicator=True)\n",
    "    showtime('\\trurality (FAR)')\n",
    "    df_far.drop(columns=['ZIP','_merge'],inplace=True)\n",
    "\n",
    "    # Rurality by census tract centroid\n",
    "    merged = df_far.merge(tracts,how='left',left_on='Full Census Tract',right_on='GEOID',indicator=True)\n",
    "    merged.drop(columns=['GEOID','_merge'],inplace=True)\n",
    "    showtime('\\trurality (census tracts)')\n",
    "    print('Rural=1,Urban=0:',file=logfile)\n",
    "    print(merged['rural_tract'].value_counts(),file=logfile)\n",
    "    print('Missing:',file=logfile)\n",
    "    print(merged['rural_tract'].isnull().sum(),file=logfile)\n",
    "\n",
    "    return merged\n"
   ]
  },
  {
   "cell_type": "markdown",
   "metadata": {},
   "source": [
    "## Little functions"
   ]
  },
  {
   "cell_type": "code",
   "execution_count": null,
   "metadata": {},
   "outputs": [],
   "source": [
    "def rur_hrsa(row):\n",
    "    if int(row['CBSA Level']) == 0 or row['Full Census Tract'] in rural_tracts:\n",
    "        return 1\n",
    "    return 0\n",
    "\n",
    "def rur_UA(code):\n",
    "    \"\"\"Apply the UA rurality flag.\"\"\"\n",
    "    if code in ua_keys.keys():\n",
    "        return ua_keys[code]\n",
    "    else:\n",
    "        return np.nan\n",
    "\n",
    "def farlevel(row):\n",
    "    if sum([row['far1'],row['far2'],row['far3'],row['far4']]) == 0:\n",
    "        return 0\n",
    "    elif row['far1'] == 1 and sum([row['far2'],row['far3'],row['far4']]) == 0:\n",
    "        return 1\n",
    "    elif row['far2'] == 1 and sum([row['far3'],row['far4']]) == 0:\n",
    "        return 2\n",
    "    elif row['far3'] == 1 and row['far4'] == 0:\n",
    "        return 3\n",
    "    elif row['far4'] == 1:\n",
    "        return 4\n",
    "    \n",
    "def log_far_levels(dfx):\n",
    "    f = len(dfx)\n",
    "    f0 = len(dfx[dfx['FAR Level']==0])\n",
    "    print('Not Far and remote in InfoGroup file:',str(((f0/f) * 100))+'%',file=logfile)\n",
    "    print('Distribution of FAR types for enterprises with non-zero FAR Level:',file=logfile)\n",
    "    df = dfx[dfx['FAR Level']>0]\n",
    "    f = len(df)\n",
    "    f1 = len(df[df['FAR Level'] == 1])\n",
    "    print('\\tFAR Level 1:',str(((f1/f) * 100))+'%',file=logfile)\n",
    "    f2 = len(df[df['FAR Level'] == 2])\n",
    "    print('\\tFAR Level 2:',str(((f2/f) * 100))+'%',file=logfile)\n",
    "    f3 = len(df[df['FAR Level'] == 3])\n",
    "    print('\\tFAR Level 3:',str(((f3/f) * 100))+'%',file=logfile)\n",
    "    f4 = len(df[df['FAR Level'] == 4])\n",
    "    print('\\tFAR Level 4:',str(((f4/f) * 100))+'%',file=logfile)\n",
    "\n",
    "def all_nines(li):\n",
    "    \"\"\"Determine whether the list of CBSA codes in a UA are all missing values.\"\"\"\n",
    "    length = len(li)\n",
    "    n = 0\n",
    "    for item in li:\n",
    "        if item == '99999':\n",
    "            n += 1\n",
    "    if n == length:\n",
    "        return True\n",
    "    return False\n",
    "\n",
    "def showtime(num):\n",
    "    now = datetime.now()\n",
    "    dt_string = now.strftime(\"%d/%m/%Y %H:%M:%S\")\n",
    "    print(str(num),'  ',dt_string)\t"
   ]
  },
  {
   "cell_type": "markdown",
   "metadata": {},
   "source": [
    "## Reference datasets and derived data structures"
   ]
  },
  {
   "cell_type": "code",
   "execution_count": null,
   "metadata": {},
   "outputs": [],
   "source": [
    "# Census relationship files: Urban Areas to CBSAs\n",
    "relationship = '/home/tflory/notebooks/InfoGroup/rurality/Relationship_Files/Urban_Area_to_Metro_Micro_Area_utf-8.csv'\n",
    "rel = pd.read_csv(relationship,dtype=object)\n",
    "\n",
    "# Make a list of lists of all the UA/CBSA pairs in the relationship file.\n",
    "pairs = rel[['UA','CBSA']].values.tolist()\n",
    "# Create dict from list of lists. pairs[0] is UA, pairs[1] is CBSA.\n",
    "# The result is a dict with keys of UAs and values of lists of CBSAs that are\n",
    "# associated with each UA in the relationship file\n",
    "uas = {}\n",
    "for pair in pairs:\n",
    "    try:\n",
    "        uas[pair[0]].append(pair[1])\n",
    "    except KeyError:\n",
    "        uas[pair[0]] = [pair[1]]\n",
    "        \n",
    "ua_keys = dict.fromkeys(uas.keys())\n",
    "for k,v in uas.items():\n",
    "    if len(v) > 1:\n",
    "        if all_nines(v):\n",
    "            ua_keys[k] = 'rural-multi'\n",
    "        elif '99999' in v:\n",
    "            ua_keys[k] = 'partly rural'\n",
    "        elif k == '99999':\n",
    "            ua_keys[k] = 'unknown'\n",
    "        else:\n",
    "            ua_keys[k]= 'urban-multi'\n",
    "    else:\n",
    "        if v[0] == '99999':\n",
    "            ua_keys[k] = 'rural-single'\n",
    "        else:\n",
    "            ua_keys[k] = 'urban-single'\n",
    "\n",
    "# FORHP list of 2300+ rural census tracts\n",
    "rural_tracts = []\n",
    "with open('/InfoGroup/data/rurality/tract_data.txt','r') as fin:\n",
    "    for line in fin:\n",
    "        if line[0] != chr(32):\n",
    "            continue\n",
    "        else:\n",
    "            line = line.strip()\n",
    "            try:\n",
    "                if line[0].isnumeric(): \n",
    "                    rural_tracts.append(line)\n",
    "            except IndexError:\n",
    "                pass\n",
    "\n",
    "# Census Bureau: all census tracts, 2010 slightly updated in 2017\n",
    "tracts_file = \\\n",
    "      '/home/tflory/notebooks/InfoGroup/rurality/points-in-polygons/data/all_tracts.csv'\n",
    "tracts = pd.read_csv(tracts_file,dtype=object,usecols=['GEOID','rural_tract'])\n",
    "\n",
    "# ERS: Frontier and Remote census data tracts\n",
    "far_file = '/InfoGroup/data/rurality/FARcodesZIPdata2010WithAKandHI.csv'\n",
    "df_far = pd.read_csv(far_file,dtype=object)\n",
    "df_far['ZIP'] = df_far['ZIP'].apply(lambda x: x.zfill(5) if len(x) < 5 == 0 else x)\n",
    "df_zip = df_far[['ZIP','far1','far2','far3','far4']].copy()\n",
    "df_zip[['far1','far2','far3','far4']] = df_zip[['far1','far2','far3','far4']].astype(int)\n",
    "df_zip['FAR Level'] = df_zip.apply(farlevel,axis=1)\n",
    "df_zip = df_zip.drop_duplicates()\n"
   ]
  },
  {
   "cell_type": "markdown",
   "metadata": {},
   "source": [
    "## Main"
   ]
  },
  {
   "cell_type": "code",
   "execution_count": null,
   "metadata": {},
   "outputs": [],
   "source": [
    "# open log file\n",
    "logfile = open('/InfoGroup/data/rurality/logs/step3.log','w')"
   ]
  },
  {
   "cell_type": "code",
   "execution_count": null,
   "metadata": {},
   "outputs": [],
   "source": [
    "for yr in range(1997,2018):\n",
    "    showtime('start')\n",
    "    df = create_df(yr)\n",
    "    showtime('create_df')\n",
    "    new_df = rurality(df)\n",
    "    showtime('rurality')\n",
    "    new_df.to_csv(f'/InfoGroup/data/rurality/InfoGroup_{yr}_step3.csv',index=None)\n",
    "    showtime('finished')"
   ]
  },
  {
   "cell_type": "code",
   "execution_count": null,
   "metadata": {},
   "outputs": [],
   "source": [
    "logfile.close()"
   ]
  },
  {
   "cell_type": "code",
   "execution_count": null,
   "metadata": {},
   "outputs": [],
   "source": []
  }
 ],
 "metadata": {
  "kernelspec": {
   "display_name": "Python 3",
   "language": "python",
   "name": "python3"
  }
 },
 "nbformat": 4,
 "nbformat_minor": 2
}
