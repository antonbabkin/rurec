{
 "cells": [
  {
   "cell_type": "markdown",
   "metadata": {},
   "source": [
    "# User Interface\n",
    "\n",
    "> Interact with the project and excute various tasks."
   ]
  },
  {
   "cell_type": "code",
   "execution_count": null,
   "metadata": {},
   "outputs": [],
   "source": [
    "#default_exp ui"
   ]
  },
  {
   "cell_type": "markdown",
   "metadata": {},
   "source": [
    "## Command line interface\n",
    "\n",
    "Call with `python -m rurec.ui [args]`."
   ]
  },
  {
   "cell_type": "code",
   "execution_count": null,
   "metadata": {},
   "outputs": [],
   "source": [
    "#export\n",
    "if __name__ == '__main__':\n",
    "    import argparse\n",
    "    parser = argparse.ArgumentParser(description='Perform tasks within Rural Economy project.')\n",
    "    parser.add_argument('task', help='choose a task', choices=['build_parquet', 'add_rurality'])\n",
    "    args = parser.parse_args()\n",
    "    print(args.task, 'started')\n",
    "    if args.task == 'build_parquet':\n",
    "        from rurec import infogroup\n",
    "        infogroup.build_parquet_dataset(21)\n",
    "    elif args.task == 'add_rurality':\n",
    "        from rurec import rurality\n",
    "        rurality.build_parquet_dataset(11)\n",
    "    print(args.task, 'finished')"
   ]
  }
 ],
 "metadata": {
  "kernelspec": {
   "display_name": "Python 3",
   "language": "python",
   "name": "python3"
  }
 },
 "nbformat": 4,
 "nbformat_minor": 4
}
