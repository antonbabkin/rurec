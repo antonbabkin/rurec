{
 "cells": [
  {
   "cell_type": "markdown",
   "metadata": {},
   "source": [
    "# User Interface\n",
    "\n",
    "> Interact with the project and excute various tasks."
   ]
  },
  {
   "cell_type": "code",
   "execution_count": null,
   "metadata": {},
   "outputs": [],
   "source": [
    "#default_exp ui"
   ]
  },
  {
   "cell_type": "markdown",
   "metadata": {},
   "source": [
    "## Initialization\n",
    "\n",
    "Run this section to initialize your local repository after cloning. It is safe to run multiple times."
   ]
  },
  {
   "cell_type": "markdown",
   "metadata": {},
   "source": [
    "### Symbolic links"
   ]
  },
  {
   "cell_type": "code",
   "execution_count": 1,
   "metadata": {},
   "outputs": [],
   "source": [
    "import os\n",
    "from pathlib import Path\n",
    "lib_dir = Path('../rurec')\n",
    "assert lib_dir.exists() and lib_dir.is_dir()\n",
    "lib_link = Path('rurec')\n",
    "lib_link.unlink(missing_ok=True)\n",
    "os.symlink(lib_dir, lib_link, target_is_directory=True)\n",
    "\n",
    "for submod in ['reseng', 'infogroup']:\n",
    "    submod_dir = Path(f'../submodules/{submod}/{submod}')\n",
    "    assert submod_dir.exists() and submod_dir.is_dir()\n",
    "    submod_link = lib_dir/submod\n",
    "    submod_link.unlink(missing_ok=True)\n",
    "    os.symlink(submod_dir, submod_link, target_is_directory=True)\n",
    "    \n",
    "# test imports\n",
    "import rurec\n",
    "import rurec.reseng\n",
    "import rurec.infogroup"
   ]
  },
  {
   "cell_type": "markdown",
   "metadata": {},
   "source": [
    "### Git configuration"
   ]
  },
  {
   "cell_type": "code",
   "execution_count": null,
   "metadata": {},
   "outputs": [],
   "source": [
    "from rurec.reseng.config import Paths\n",
    "root = Paths().root\n",
    "pwd = Path().resolve()\n",
    "\n",
    "%cd {root}\n",
    "!nbdime config-git --enable\n",
    "!git config filter.jupyternotebook.clean \"jupyter nbconvert --stdin --stdout --to=notebook --ClearOutputPreprocessor.enabled=True --ClearMetadataPreprocessor.enabled=True --log-level=ERROR\"\n",
    "!git config filter.jupyternotebook.smudge cat\n",
    "!git config filter.jupyternotebook.required true\n",
    "!git config diff.jupyternotebook.command \"git-nbdiffdriver diff --ignore-outputs --ignore-metadata --ignore-details\"\n",
    "%cd {pwd}"
   ]
  },
  {
   "cell_type": "markdown",
   "metadata": {},
   "source": [
    "## Command line interface\n",
    "\n",
    "Call with `python -m rurec.ui [args]`."
   ]
  },
  {
   "cell_type": "code",
   "execution_count": null,
   "metadata": {},
   "outputs": [],
   "source": [
    "#export\n",
    "if __name__ == '__main__':\n",
    "    import argparse\n",
    "    parser = argparse.ArgumentParser(description='Perform tasks within Rural Economy project.')\n",
    "    parser.add_argument('task', help='choose a task', choices=['build_parquet', 'add_rurality'])\n",
    "    args = parser.parse_args()\n",
    "    print(args.task, 'started')\n",
    "    if args.task == 'build_parquet':\n",
    "        from rurec import infogroup\n",
    "        infogroup.build_parquet_dataset(21)\n",
    "    elif args.task == 'add_rurality':\n",
    "        from rurec import rurality\n",
    "        rurality.build_parquet_dataset(11)\n",
    "    print(args.task, 'finished')"
   ]
  }
 ],
 "metadata": {
  "kernelspec": {
   "display_name": "Python 3 (ipykernel)",
   "language": "python",
   "name": "python3"
  },
  "language_info": {
   "codemirror_mode": {
    "name": "ipython",
    "version": 3
   },
   "file_extension": ".py",
   "mimetype": "text/x-python",
   "name": "python",
   "nbconvert_exporter": "python",
   "pygments_lexer": "ipython3",
   "version": "3.10.2"
  }
 },
 "nbformat": 4,
 "nbformat_minor": 4
}
