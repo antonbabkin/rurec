{
 "cells": [
  {
   "cell_type": "code",
   "execution_count": null,
   "metadata": {},
   "outputs": [],
   "source": [
    "##### ZCTA"
   ]
  },
  {
   "cell_type": "code",
   "execution_count": null,
   "metadata": {},
   "outputs": [],
   "source": [
    "##### Rural/Urban Commuting Area (RUCA)"
   ]
  },
  {
   "cell_type": "code",
   "execution_count": null,
   "metadata": {},
   "outputs": [],
   "source": [
    "##### HRSA/FORHP\n",
    "\n",
    "HRSA's Federal Office of Rural Health Policy (FORHP) accepts all non-metro counties as rural \n",
    "and uses an additional method of determining rural status called the Rural-Urban Commuting \n",
    "Area (RUCA) codes. Like the MSAs, these are based on Census data which is used to assign a \n",
    "code to each Census Tract. Tracts inside Metropolitan counties with the codes 4-10 are \n",
    "considered rural. While use of the RUCA codes has allowed identification of rural census \n",
    "tracts in Metropolitan counties, among the more than 60,000 tracts in the U.S. there are \n",
    "some that are extremely large and where use of RUCA codes alone fails to account for distance \n",
    "to services and sparse population. In response to these concerns, FORHP has designated \n",
    "132 large area census tracts with RUCA codes 2 or 3 as rural. These tracts are at least \n",
    "400 square miles in area with a population density of no more than 35 people. The FORHP \n",
    "definition includes about 1866 of the population and 8566 of the area of the USA. RUCA codes \n",
    "represent the current version of the Goldsmith Modification.\n"
   ]
  },
  {
   "cell_type": "code",
   "execution_count": null,
   "metadata": {},
   "outputs": [],
   "source": [
    "There are two major definitions which the Federal government uses to identify the rural \n",
    "status of an area: the Census Bureau's 'Urban Area' and the OMB's 'Core-Based Statistical \n",
    "Area'.\n",
    "\n",
    "##### Urban Area\n",
    "The first is from the U.S. Census Bureau which identifies two types of \n",
    "urban areas, Urbanized Areas (UAs) of 50,000 or more people and Urban Clusters (UCs) of at \n",
    "Ieast2,S00 and less than 50,000 people. Since the U.S. Census Bureau does not explicitly \n",
    "classify areas as rural, rural is defined as “encompassing all population, housing, and \n",
    "territory not included within an urban area (those areas not identified as UC or UA)\". \n",
    "In the 2010 Census, 19.366 of the population was rural while over 9596 of the land area \n",
    "is still classified as rural. \n",
    "\n",
    "##### CBSA\n",
    "The second is from the Office of Management and Budget [OMB] \n",
    "which designates counties as Metropolitan, Micropolitan, or Neither. An OMB Metropolitan \n",
    "area contains a core urban area of 50,000 or more population, and a Micropolitan area \n",
    "contains an urban core of at least 10,000 (but less than 50,000) population. All counties \n",
    "that are not part of a Metropolitan Statistical Area [MSA) are considered rural. \n",
    "\n",
    "There are measurement challenges with both the U.S. Census Bureau and OMB definitions. \n",
    "Some policy experts note that the U.S. Census Bureau definition classifies quite a bit of  \n",
    "suburban area as rural. The OMB definition includes rural areas in Metropolitan bounties.\n",
    "Consequently, one could argue that the Census Bureau standard includes an overcount of rural \n",
    "population whereas the OMB standard represents an undercount of the rural population."
   ]
  }
 ],
 "metadata": {
  "kernelspec": {
   "display_name": "Python 3",
   "language": "python",
   "name": "python3"
  }
 },
 "nbformat": 4,
 "nbformat_minor": 4
}
