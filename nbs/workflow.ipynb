{
 "cells": [
  {
   "cell_type": "markdown",
   "metadata": {},
   "source": [
    "# Workflow visualization\n",
    "\n",
    "[DOT language specification](https://www.graphviz.org/doc/info/lang.html)\n",
    "\n",
    "[SO](https://stackoverflow.com/questions/14606677/visualize-a-clickable-graph-in-an-html-page) - it may be even possible to make nodes with clickable links and tooltips.\n",
    "\n",
    "One way is to use [HTML-like labels](https://www.graphviz.org/doc/info/shapes.html#html) with HREF and TITLE attributes added to a TD element in a TABLE. It produced SVG with necessary attributes, but they were not active when shown inside notebook.\n",
    "\n",
    "Even easier is to add HREF and TOOLTIP attributes directly to the node. But again, they don't work when rendered in a notebook. May still be useful when generating html documentation with nbdev."
   ]
  },
  {
   "cell_type": "code",
   "execution_count": null,
   "metadata": {},
   "outputs": [],
   "source": [
    "#hide\n",
    "from graphviz import Source"
   ]
  },
  {
   "cell_type": "code",
   "execution_count": null,
   "metadata": {},
   "outputs": [],
   "source": [
    "#hide_input\n",
    "Source('''\n",
    "digraph {\n",
    "\n",
    "  infogroup_orig [label=\"infogroup/orig/YYYY\", shape=box]\n",
    "  infogroup_full [label=\"infogroup/full\", shape=box]\n",
    "  infogroup_rural [label=\"infogroup/rural\", shape=box]\n",
    "  \n",
    "  ers_web [href=\"https://www.ers.usda.gov/\", tooltip=\"ERS\", shape=box]\n",
    "  \n",
    "  infogroup_orig -> infogroup\n",
    "  infogroup -> infogroup_full\n",
    "  \n",
    "  infogroup_full -> infogroup_orig_overview\n",
    "  infogroup_full -> infogroup_validate_geo\n",
    "  ers_web -> ers_codes\n",
    "  ers_codes -> rurality\n",
    "  infogroup_full -> rurality\n",
    "  infogroup_validate_geo -> rurality\n",
    "  rurality -> infogroup_rural\n",
    "  infogroup_rural -> dynamics\n",
    "  infogroup_rural -> maps\n",
    "}\n",
    "''')"
   ]
  }
 ],
 "metadata": {
  "kernelspec": {
   "display_name": "Python 3",
   "language": "python",
   "name": "python3"
  }
 },
 "nbformat": 4,
 "nbformat_minor": 4
}
