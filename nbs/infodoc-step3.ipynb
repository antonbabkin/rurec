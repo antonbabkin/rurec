{
 "cells": [
  {
   "cell_type": "markdown",
   "metadata": {},
   "source": [
    "<h2><center>Step 3: Other Rurality Flags Added to InfoGroup</center></h2>"
   ]
  },
  {
   "cell_type": "markdown",
   "metadata": {},
   "source": [
    "##### rural_HRSA"
   ]
  },
  {
   "cell_type": "code",
   "execution_count": null,
   "metadata": {},
   "outputs": [],
   "source": [
    "Like the 'rural_outside_UA' variable created in step 2, this variable is an 1/0 flag \n",
    "indicating rurality at the census tract level.\n",
    "\n",
    "HRSA refers to the Health Resources and Services Administration. It is particularly its\n",
    "sub-unit, the Federal Office of Rural Health Policy (FORHP), that is responsible for this\n",
    "definition of rurality. For its own administrative purposes it considers a census tract to\n",
    "be rural if it is contained within a county that is not part of a CBSA. To these, they add\n",
    "2,302 census tracts from CBSA counties that they have specially defined as rural by applying\n",
    "the RUCA criteria, of which the FORHP was actually a developer in its early phase.\n",
    "\n",
    "In the 2017 file, 1,277,342 establishments, 8.7% of the total, were flagged 'rural' by this \n",
    "measure, about 1/3 the incidence of rurality measured by the 'rural_outside_UA' variable."
   ]
  },
  {
   "cell_type": "markdown",
   "metadata": {},
   "source": [
    "##### FAR Level"
   ]
  },
  {
   "cell_type": "code",
   "execution_count": null,
   "metadata": {},
   "outputs": [],
   "source": [
    "The USDA writes: “To assist in providing policy-relevant information about conditions in \n",
    "sparsely-settled, remote areas of the U.S. to public officials, researchers, and the general \n",
    "public, ERS has developed ZIP-code-level frontier and remote area (FAR) codes”.\n",
    "\n",
    "FAR codes are applied to postal zip codes to identify different degrees and criteria of \n",
    "remoteness. It is not a code for any functional concept of rurality, but there is an obvious \n",
    "family resemblance between “remote” and “rural” which might find some analytical use.\n",
    "\n",
    "The ERS created four FAR levels based on proximity (conceived of as travel time) to \n",
    "“urban” places of different sizes. Levels 1 through 4 measure increasing remoteness.\n",
    "The ‘FAR Level’ variable captures the highest numbered positive FAR level for a location.\n",
    "\n",
    "In 2017, 659,070 InfoGroup establishments, 4.56% of the total, were located in zip codes\n",
    "designated far or remote."
   ]
  }
 ],
 "metadata": {
  "kernelspec": {
   "display_name": "Python 3",
   "language": "python",
   "name": "python3"
  }
 },
 "nbformat": 4,
 "nbformat_minor": 4
}
