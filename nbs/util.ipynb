{
 "cells": [
  {
   "cell_type": "markdown",
   "metadata": {},
   "source": [
    "# Various utilities"
   ]
  },
  {
   "cell_type": "code",
   "execution_count": null,
   "metadata": {},
   "outputs": [],
   "source": [
    "#default_exp util"
   ]
  },
  {
   "cell_type": "code",
   "execution_count": null,
   "metadata": {},
   "outputs": [],
   "source": [
    "#export\n",
    "from pathlib import Path\n",
    "from urllib.parse import urlparse, unquote\n",
    "\n",
    "import requests"
   ]
  },
  {
   "cell_type": "code",
   "execution_count": null,
   "metadata": {},
   "outputs": [],
   "source": [
    "#export\n",
    "def download_file(url, dir=None, fname=None, overwrite=False):\n",
    "    \"\"\"Download file from given `url` and put it into `dir`.\n",
    "    Current working directory is used as default. Missing directories are created.\n",
    "    File name from `url` is used as default.\n",
    "    Return absolute pathlib.Path of the downloaded file.\"\"\"\n",
    "    \n",
    "    if dir is None:\n",
    "        dir = '.'\n",
    "    dpath = Path(dir).resolve()\n",
    "    dpath.mkdir(parents=True, exist_ok=True)\n",
    "\n",
    "    if fname is None:\n",
    "        fname = Path(urlparse(url).path).name\n",
    "    fpath = dpath / fname\n",
    "    \n",
    "    if not overwrite and fpath.exists():\n",
    "        print(f'File {fname} already exists.')\n",
    "        return fpath\n",
    "\n",
    "    with requests.get(url) as r:\n",
    "        r.raise_for_status()\n",
    "        with open(fpath, 'wb') as f:\n",
    "            f.write(r.content)\n",
    "    \n",
    "    print(f'Downloaded file {fname}.')\n",
    "    return fpath "
   ]
  }
 ],
 "metadata": {
  "kernelspec": {
   "display_name": "Python 3",
   "language": "python",
   "name": "python3"
  }
 },
 "nbformat": 4,
 "nbformat_minor": 4
}
