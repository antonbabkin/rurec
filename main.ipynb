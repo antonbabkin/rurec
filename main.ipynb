{
 "cells": [
  {
   "cell_type": "markdown",
   "metadata": {},
   "source": [
    "# Rural economies\n",
    "\n",
    "## FAI dynamics in rural areas\n",
    "[Dynamics](main/dynamics.ipynb)\n",
    "\n",
    "## ERS rural classifications\n",
    "[ERS codes](main/ers_codes.ipynb)\n",
    "\n",
    "## Maps\n",
    "[Maps](main/maps.ipynb)"
   ]
  }
 ],
 "metadata": {
  "kernelspec": {
   "display_name": "Python 3",
   "language": "python",
   "name": "python3"
  },
  "language_info": {
   "codemirror_mode": {
    "name": "ipython",
    "version": 3
   },
   "file_extension": ".py",
   "mimetype": "text/x-python",
   "name": "python",
   "nbconvert_exporter": "python",
   "pygments_lexer": "ipython3",
   "version": "3.7.6"
  }
 },
 "nbformat": 4,
 "nbformat_minor": 4
}
